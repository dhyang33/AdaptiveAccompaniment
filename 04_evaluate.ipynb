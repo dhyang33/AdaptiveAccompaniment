{
 "cells": [
  {
   "cell_type": "code",
   "execution_count": 1,
   "metadata": {
    "ExecuteTime": {
     "end_time": "2020-05-09T22:51:31.327359Z",
     "start_time": "2020-05-09T22:51:30.978322Z"
    }
   },
   "outputs": [
    {
     "name": "stdout",
     "output_type": "stream",
     "text": [
      "/mnt/c/Users/Daniel Yang/Desktop/Final_Project\n"
     ]
    }
   ],
   "source": [
    "import numpy as np\n",
    "import matplotlib.pyplot as plt\n",
    "import pickle as pkl\n",
    "import glob\n",
    "%cd ../"
   ]
  },
  {
   "cell_type": "code",
   "execution_count": 2,
   "metadata": {
    "ExecuteTime": {
     "end_time": "2020-05-09T22:51:32.026925Z",
     "start_time": "2020-05-09T22:51:31.445617Z"
    }
   },
   "outputs": [],
   "source": [
    "fileId_path = \"experiments/fileIds.pkl\"\n",
    "queryInfo_path = \"experiments/queryInfo.pkl\"\n",
    "timeData_path = \"experiments/timeData.pkl\"\n",
    "audioFiles_path = \"experiments/audioFiles.pkl\"\n",
    "with open(fileId_path, 'rb') as f:\n",
    "    fileIds=pkl.load(f)\n",
    "with open(queryInfo_path, 'rb') as f:\n",
    "    queryInfo=pkl.load(f)\n",
    "with open(timeData_path, 'rb') as f:\n",
    "    timeData=pkl.load(f)\n",
    "with open(audioFiles_path, 'rb') as f:\n",
    "    audioFiles=pkl.load(f)"
   ]
  },
  {
   "cell_type": "code",
   "execution_count": 3,
   "metadata": {
    "ExecuteTime": {
     "end_time": "2020-05-09T22:51:32.031812Z",
     "start_time": "2020-05-09T22:51:32.028767Z"
    }
   },
   "outputs": [],
   "source": [
    "def readHypFiles(hypdir):\n",
    "    \n",
    "    for hypfile in sorted(glob.glob(\"{}/*.hyp\".format(hypdir))):\n",
    "        print(hypfile)\n",
    "        with open(hypfile, \"rb\") as f:\n",
    "            yield(pkl.load(f))"
   ]
  },
  {
   "cell_type": "code",
   "execution_count": 4,
   "metadata": {
    "ExecuteTime": {
     "end_time": "2020-05-09T22:51:32.216203Z",
     "start_time": "2020-05-09T22:51:32.207075Z"
    }
   },
   "outputs": [],
   "source": [
    "def evaluateBeatLevel(tf, solo_name, ref_name, sr=22050):\n",
    "    # Only evaluate within segments\n",
    "    diffs = []\n",
    "    pieceName = solo_name.split('_')[0]\n",
    "    gt_segments = queryInfo[pieceName]\n",
    "    annotated_beats = list(timeData[ref_name].keys())\n",
    "    for idx,beats in enumerate(gt_segments):\n",
    "        beat1 = beats.split(',')[0][1:]\n",
    "        beat2 = beats.split(',')[1][:-1]\n",
    "        idx1 = annotated_beats.index(beat1)\n",
    "        idx2 = annotated_beats.index(beat2)\n",
    "        #offset = int(timeData[ref_name][beat1]*sr)-segment_predict[idx][0]\n",
    "        #base_time = tf[segment_predict[idx][0]]\n",
    "        base_time = tf[int(timeData[ref_name][beat1]*sr)]\n",
    "        #print(offset)\n",
    "        \n",
    "        new_times = {}\n",
    "        for i in range(idx1,idx2+1):\n",
    "            key = annotated_beats[i]\n",
    "            sample = tf[int(timeData[ref_name][key]*sr)]\n",
    "            new_time = sample-base_time\n",
    "            new_times[key]=new_time\n",
    "            \n",
    "        gt_beats = list(timeData[solo_name].keys())\n",
    "        gt_base_time=timeData[solo_name][beat1]\n",
    "        prev = 0\n",
    "        prevgt = 0\n",
    "        for idx, key in enumerate(new_times):\n",
    "            if key in gt_beats:\n",
    "                gt_time = (timeData[solo_name][key]-gt_base_time)*sr\n",
    "                pred_time = new_times[key]\n",
    "                #f idx != 0:\n",
    "                #   print(\"diff\",gt_time-prevgt, pred_time-prev)\n",
    "                prev = pred_time\n",
    "                prevgt = gt_time\n",
    "                #rint(gt_time, pred_time)\n",
    "                diffs.append(np.abs(gt_time-pred_time))\n",
    "    return diffs"
   ]
  },
  {
   "cell_type": "code",
   "execution_count": 5,
   "metadata": {
    "ExecuteTime": {
     "end_time": "2020-05-09T22:51:32.564345Z",
     "start_time": "2020-05-09T22:51:32.552985Z"
    }
   },
   "outputs": [],
   "source": [
    "def evaluateBeatLevelFirst(tf, segment_predict, solo_name, ref_name, sr=22050):\n",
    "    # Only evaluate within segments\n",
    "    diffs = []\n",
    "    pieceName = solo_name.split('_')[0]\n",
    "    gt_segments = queryInfo[pieceName]\n",
    "    annotated_beats = list(timeData[ref_name].keys())\n",
    "    for idx,beats in enumerate(gt_segments):\n",
    "        if idx!=1:\n",
    "            continue\n",
    "        beat1 = beats.split(',')[0][1:]\n",
    "        beat2 = beats.split(',')[1][:-1]\n",
    "        idx1 = annotated_beats.index(beat1)\n",
    "        idx2 = annotated_beats.index(beat2)\n",
    "        offset = int(timeData[ref_name][beat1]*sr)-segment_predict[idx][0]\n",
    "        base_time = tf[segment_predict[idx][0]]\n",
    "        \n",
    "        new_times = {}\n",
    "        for i in range(idx1,idx2+1):\n",
    "            key = annotated_beats[i]\n",
    "            sample = tf[int(timeData[ref_name][key]*sr)]\n",
    "            new_time = sample-base_time\n",
    "            new_times[key]=new_time\n",
    "            \n",
    "        gt_beats = list(timeData[solo_name].keys())\n",
    "        gt_base_time=timeData[solo_name][beat1]\n",
    "        prev = 0\n",
    "        prevgt = 0\n",
    "        for idx, key in enumerate(new_times):\n",
    "            if key in gt_beats:\n",
    "                gt_time = (timeData[solo_name][key]-gt_base_time)*sr\n",
    "                pred_time = new_times[key]\n",
    "                #f idx != 0:\n",
    "                #   print(\"diff\",gt_time-prevgt, pred_time-prev)\n",
    "                prev = pred_time\n",
    "                prevgt = gt_time\n",
    "                #rint(gt_time, pred_time)\n",
    "                diffs.append(np.abs(gt_time-pred_time))\n",
    "    return diffs"
   ]
  },
  {
   "cell_type": "code",
   "execution_count": 6,
   "metadata": {
    "ExecuteTime": {
     "end_time": "2020-05-09T22:51:32.837998Z",
     "start_time": "2020-05-09T22:51:32.831186Z"
    }
   },
   "outputs": [],
   "source": [
    "def evaluateSegmentLevel(segment_predict, solo_name, ref_name, sr=22050):\n",
    "    pieceName = solo_name.split('_')[0]\n",
    "    gt_segments = queryInfo[pieceName]\n",
    "    gt_samples = []\n",
    "    diffs = []\n",
    "    for beats in gt_segments:\n",
    "        beat1 = beats.split(',')[0][1:]\n",
    "        beat2 = beats.split(',')[1][:-1]\n",
    "        sample1 = timeData[ref_name][beat1]*sr\n",
    "        sample2 = timeData[ref_name][beat2]*sr\n",
    "        gt_samples.append((sample1, sample2))\n",
    "    for idx,segment in enumerate(segment_predict):\n",
    "        seg0 = segment[0]\n",
    "        seg1 = segment[1]\n",
    "        diff0 = np.abs(gt_samples[idx][0]-seg0)\n",
    "        diff1 = np.abs(gt_samples[idx][1]-seg1)\n",
    "        diffs.append(diff0)\n",
    "        diffs.append(diff1)\n",
    "        if diff0 > 22050:\n",
    "            print(solo_name, ref_name)\n",
    "            print(gt_samples[idx][0],seg0)\n",
    "        if diff1 > 22050:\n",
    "            print(ref_name, solo_name)\n",
    "            print(gt_samples[idx][1],seg1)\n",
    "        #print((gt_samples[idx][0]-seg0)/(sr*sr))\n",
    "    return diffs, gt_samples, segment_predict"
   ]
  },
  {
   "cell_type": "code",
   "execution_count": 7,
   "metadata": {
    "ExecuteTime": {
     "end_time": "2020-05-10T05:38:25.652697Z",
     "start_time": "2020-05-10T05:38:25.633766Z"
    }
   },
   "outputs": [],
   "source": [
    "def evaluate(hypdir, hop_length=512, sr=22050):\n",
    "    \n",
    "    times = []\n",
    "    segment_tolerances =[1, 0.5, 0.25]\n",
    "    segment_total = np.zeros(len(segment_tolerances))\n",
    "    segment_correct = np.zeros(len(segment_tolerances))\n",
    "    \n",
    "    beat_tolerances =np.arange(0.0, 2, 0.025)\n",
    "    #beat_tolerances=[0.25]\n",
    "    beat_total = np.zeros(len(beat_tolerances))\n",
    "    beat_correct = np.zeros(len(beat_tolerances))\n",
    "    beat_totalFirst = np.zeros(len(beat_tolerances))\n",
    "    beat_correctFirst = np.zeros(len(beat_tolerances))\n",
    "    for solo_name, ref_name, tf, segment_predict, time_taken in readHypFiles(hypdir):\n",
    "        tf = np.array(tf)\n",
    "        segment_predict = np.array(segment_predict)*hop_length\n",
    "        #print(segment_predict)\n",
    "        segment_diffs, gt_samples, segment_predict = evaluateSegmentLevel(segment_predict, solo_name, ref_name)\n",
    "        if any(tf!=None):\n",
    "            beat_diffs = evaluateBeatLevel(tf, solo_name, ref_name)\n",
    "            beat_diffsFirst = evaluateBeatLevelFirst(tf, segment_predict, solo_name, ref_name)\n",
    "            #beat_diffs = evaluateDiffLevel(tf, segment_predict, solo_name, ref_name)\n",
    "            beat_diffs =(np.array(beat_diffs)/sr)\n",
    "            beat_diffsFirst =(np.array(beat_diffsFirst)/sr)\n",
    "        segment_diffs =np.array(segment_diffs)/sr\n",
    "        times.append(time_taken)\n",
    "        \n",
    "        #Update Segment Level Accuracy\n",
    "        for idx, tolerance in enumerate(segment_tolerances):\n",
    "            segment_correct[idx] += np.sum(np.where(segment_diffs<tolerance, 1, 0))\n",
    "            segment_total[idx]+=len(segment_diffs)\n",
    "            \n",
    "            \n",
    "        if any(tf!=None):\n",
    "            #Update Beat Level Accuracy\n",
    "            for idx, tolerance in enumerate(beat_tolerances):\n",
    "                beat_correct[idx] += np.sum(np.where(beat_diffs<tolerance, 1, 0))\n",
    "                beat_total[idx]+=len(beat_diffs)\n",
    "\n",
    "            #Update First Beat Level Accuracy\n",
    "            for idx, tolerance in enumerate(beat_tolerances):\n",
    "                beat_correctFirst[idx] += np.sum(np.where(beat_diffsFirst<tolerance, 1, 0))\n",
    "                beat_totalFirst[idx]+=len(beat_diffsFirst)\n",
    "    print(\"hop_length\", hop_length)\n",
    "    print(segment_correct/segment_total)\n",
    "    print(beat_correct/beat_total)\n",
    "    return segment_correct/segment_total, beat_correct/beat_total, times   "
   ]
  },
  {
   "cell_type": "code",
   "execution_count": 8,
   "metadata": {
    "ExecuteTime": {
     "end_time": "2020-05-09T22:54:26.822684Z",
     "start_time": "2020-05-09T22:53:55.892781Z"
    },
    "scrolled": true
   },
   "outputs": [
    {
     "name": "stdout",
     "output_type": "stream",
     "text": [
      "experiments/expFinal/p1s_perf12-p1f_perf16.hyp\n",
      "experiments/expFinal/p1s_perf12-p1f_perf2.hyp\n",
      "p1f_perf2 p1s_perf12\n",
      "3928012.66666305 3983360\n",
      "experiments/expFinal/p1s_perf12-p1f_perf23.hyp\n",
      "p1f_perf23 p1s_perf12\n",
      "3797529.00000075 3849216\n",
      "experiments/expFinal/p1s_perf12-p1f_perf24.hyp\n",
      "experiments/expFinal/p1s_perf12-p1f_perf6.hyp\n",
      "p1f_perf6 p1s_perf12\n",
      "3799099.9999963506 3838976\n",
      "experiments/expFinal/p1s_perf2-p1f_perf16.hyp\n",
      "experiments/expFinal/p1s_perf2-p1f_perf2.hyp\n",
      "experiments/expFinal/p1s_perf2-p1f_perf23.hyp\n",
      "experiments/expFinal/p1s_perf2-p1f_perf24.hyp\n",
      "experiments/expFinal/p1s_perf2-p1f_perf6.hyp\n",
      "experiments/expFinal/p1s_perf25-p1f_perf16.hyp\n",
      "p1f_perf16 p1s_perf25\n",
      "3888554.6666641505 3974144\n",
      "experiments/expFinal/p1s_perf25-p1f_perf2.hyp\n",
      "p1f_perf2 p1s_perf25\n",
      "3928012.66666305 4083712\n",
      "experiments/expFinal/p1s_perf25-p1f_perf23.hyp\n",
      "p1f_perf23 p1s_perf25\n",
      "3797529.00000075 3882496\n",
      "experiments/expFinal/p1s_perf25-p1f_perf24.hyp\n",
      "p1f_perf24 p1s_perf25\n",
      "3493643.6666648993 3522560\n",
      "p1f_perf24 p1s_perf25\n",
      "3991737.33333165 4076544\n",
      "experiments/expFinal/p1s_perf25-p1f_perf6.hyp\n",
      "p1f_perf6 p1s_perf25\n",
      "3799099.9999963506 3857920\n",
      "experiments/expFinal/p1s_perf3-p1f_perf16.hyp\n",
      "experiments/expFinal/p1s_perf3-p1f_perf2.hyp\n",
      "experiments/expFinal/p1s_perf3-p1f_perf23.hyp\n",
      "p1f_perf23 p1s_perf3\n",
      "3797529.00000075 3887104\n",
      "experiments/expFinal/p1s_perf3-p1f_perf24.hyp\n",
      "experiments/expFinal/p1s_perf3-p1f_perf6.hyp\n",
      "experiments/expFinal/p1s_perf9-p1f_perf16.hyp\n",
      "experiments/expFinal/p1s_perf9-p1f_perf2.hyp\n",
      "experiments/expFinal/p1s_perf9-p1f_perf23.hyp\n",
      "experiments/expFinal/p1s_perf9-p1f_perf24.hyp\n",
      "experiments/expFinal/p1s_perf9-p1f_perf6.hyp\n",
      "experiments/expFinal/p2s_perf10-p2f_perf1.hyp\n",
      "p2f_perf1 p2s_perf10\n",
      "1345851.3333310501 1320960\n",
      "p2f_perf1 p2s_perf10\n",
      "3600637.66666695 3664896\n",
      "experiments/expFinal/p2s_perf10-p2f_perf14.hyp\n",
      "experiments/expFinal/p2s_perf10-p2f_perf18.hyp\n",
      "p2f_perf18 p2s_perf10\n",
      "1304883.6666684 1354752\n",
      "p2f_perf18 p2s_perf10\n",
      "5317967.9999963995 5290496\n",
      "experiments/expFinal/p2s_perf10-p2f_perf20.hyp\n",
      "experiments/expFinal/p2s_perf10-p2f_perf5.hyp\n",
      "p2f_perf5 p2s_perf10\n",
      "1106789.0000002503 1134592\n",
      "p2s_perf10 p2f_perf5\n",
      "2253295.99999455 2024448\n",
      "p2f_perf5 p2s_perf10\n",
      "3153074.3333375994 3221504\n",
      "experiments/expFinal/p2s_perf17-p2f_perf1.hyp\n",
      "p2f_perf1 p2s_perf17\n",
      "1345851.3333310501 1303552\n"
     ]
    },
    {
     "name": "stderr",
     "output_type": "stream",
     "text": [
      "/home/dyang/anaconda3/envs/MIR5/lib/python3.7/site-packages/ipykernel_launcher.py:37: RuntimeWarning: invalid value encountered in less\n"
     ]
    },
    {
     "name": "stdout",
     "output_type": "stream",
     "text": [
      "experiments/expFinal/p2s_perf17-p2f_perf14.hyp\n",
      "experiments/expFinal/p2s_perf17-p2f_perf18.hyp\n",
      "p2f_perf18 p2s_perf17\n",
      "1304883.6666684 1280000\n",
      "p2f_perf18 p2s_perf17\n",
      "5317967.9999963995 5291008\n",
      "experiments/expFinal/p2s_perf17-p2f_perf20.hyp\n",
      "experiments/expFinal/p2s_perf17-p2f_perf5.hyp\n",
      "p2f_perf5 p2s_perf17\n",
      "4821841.6666623 4788736\n",
      "experiments/expFinal/p2s_perf4-p2f_perf1.hyp\n",
      "p2f_perf1 p2s_perf4\n",
      "1345851.3333310501 1297408\n",
      "experiments/expFinal/p2s_perf4-p2f_perf14.hyp\n",
      "experiments/expFinal/p2s_perf4-p2f_perf18.hyp\n",
      "p2f_perf18 p2s_perf4\n",
      "5317967.9999963995 5287424\n",
      "experiments/expFinal/p2s_perf4-p2f_perf20.hyp\n",
      "experiments/expFinal/p2s_perf4-p2f_perf5.hyp\n",
      "p2f_perf5 p2s_perf4\n",
      "3153074.3333375994 3209216\n",
      "p2f_perf5 p2s_perf4\n",
      "4821841.6666623 4794880\n",
      "experiments/expFinal/p2s_perf8-p2f_perf1.hyp\n",
      "p2f_perf1 p2s_perf8\n",
      "1345851.3333310501 1321984\n",
      "experiments/expFinal/p2s_perf8-p2f_perf14.hyp\n",
      "p2f_perf14 p2s_perf8\n",
      "5230606.3333377 5207040\n",
      "experiments/expFinal/p2s_perf8-p2f_perf18.hyp\n",
      "p2f_perf18 p2s_perf8\n",
      "1304883.6666684 1354752\n",
      "p2f_perf18 p2s_perf8\n",
      "5317967.9999963995 5287936\n",
      "experiments/expFinal/p2s_perf8-p2f_perf20.hyp\n",
      "experiments/expFinal/p2s_perf8-p2f_perf5.hyp\n",
      "p2f_perf5 p2s_perf8\n",
      "1106789.0000002503 1134592\n",
      "p2f_perf5 p2s_perf8\n",
      "3153074.3333375994 3222016\n",
      "experiments/expFinal/p2s_perf9-p2f_perf1.hyp\n",
      "p2f_perf1 p2s_perf9\n",
      "1345851.3333310501 1375744\n",
      "p2f_perf1 p2s_perf9\n",
      "3600637.66666695 3665920\n",
      "experiments/expFinal/p2s_perf9-p2f_perf14.hyp\n",
      "experiments/expFinal/p2s_perf9-p2f_perf18.hyp\n",
      "p2f_perf18 p2s_perf9\n",
      "1304883.6666684 1355776\n",
      "p2f_perf18 p2s_perf9\n",
      "5317967.9999963995 5288960\n",
      "experiments/expFinal/p2s_perf9-p2f_perf20.hyp\n",
      "experiments/expFinal/p2s_perf9-p2f_perf5.hyp\n",
      "p2f_perf5 p2s_perf9\n",
      "1106789.0000002503 1135104\n",
      "p2s_perf9 p2f_perf5\n",
      "2253295.99999455 2024960\n",
      "p2f_perf5 p2s_perf9\n",
      "3153074.3333375994 3221504\n",
      "experiments/expFinal/p3s_perf12-p3f_perf11.hyp\n",
      "experiments/expFinal/p3s_perf12-p3f_perf16.hyp\n",
      "experiments/expFinal/p3s_perf12-p3f_perf2.hyp\n",
      "p3s_perf12 p3f_perf2\n",
      "3455676.3333372 3425792\n",
      "experiments/expFinal/p3s_perf12-p3f_perf23.hyp\n",
      "experiments/expFinal/p3s_perf12-p3f_perf24.hyp\n",
      "experiments/expFinal/p3s_perf2-p3f_perf11.hyp\n",
      "experiments/expFinal/p3s_perf2-p3f_perf16.hyp\n",
      "experiments/expFinal/p3s_perf2-p3f_perf2.hyp\n",
      "p3s_perf2 p3f_perf2\n",
      "3455676.3333372 3424768\n",
      "experiments/expFinal/p3s_perf2-p3f_perf23.hyp\n",
      "experiments/expFinal/p3s_perf2-p3f_perf24.hyp\n",
      "experiments/expFinal/p3s_perf21-p3f_perf11.hyp\n",
      "experiments/expFinal/p3s_perf21-p3f_perf16.hyp\n",
      "experiments/expFinal/p3s_perf21-p3f_perf2.hyp\n",
      "p3s_perf21 p3f_perf2\n",
      "3455676.3333372 3425280\n",
      "experiments/expFinal/p3s_perf21-p3f_perf23.hyp\n",
      "experiments/expFinal/p3s_perf21-p3f_perf24.hyp\n",
      "experiments/expFinal/p3s_perf22-p3f_perf11.hyp\n"
     ]
    },
    {
     "name": "stderr",
     "output_type": "stream",
     "text": [
      "/home/dyang/anaconda3/envs/MIR5/lib/python3.7/site-packages/ipykernel_launcher.py:42: RuntimeWarning: invalid value encountered in less\n"
     ]
    },
    {
     "name": "stdout",
     "output_type": "stream",
     "text": [
      "experiments/expFinal/p3s_perf22-p3f_perf16.hyp\n",
      "experiments/expFinal/p3s_perf22-p3f_perf2.hyp\n",
      "experiments/expFinal/p3s_perf22-p3f_perf23.hyp\n",
      "experiments/expFinal/p3s_perf22-p3f_perf24.hyp\n",
      "experiments/expFinal/p3s_perf9-p3f_perf11.hyp\n",
      "experiments/expFinal/p3s_perf9-p3f_perf16.hyp\n",
      "experiments/expFinal/p3s_perf9-p3f_perf2.hyp\n",
      "p3s_perf9 p3f_perf2\n",
      "3455676.3333372 3425280\n",
      "experiments/expFinal/p3s_perf9-p3f_perf23.hyp\n",
      "experiments/expFinal/p3s_perf9-p3f_perf24.hyp\n",
      "experiments/expFinal/p4s_perf15-p4f_perf13.hyp\n",
      "p4s_perf15 p4f_perf13\n",
      "204395.33332680003 1395712\n",
      "p4f_perf13 p4s_perf15\n",
      "1369877.33333535 2529792\n",
      "experiments/expFinal/p4s_perf15-p4f_perf16.hyp\n",
      "p4s_perf15 p4f_perf16\n",
      "18244.666661550003 1144832\n",
      "p4f_perf16 p4s_perf15\n",
      "1116649.33333275 2265088\n",
      "experiments/expFinal/p4s_perf15-p4f_perf2.hyp\n",
      "experiments/expFinal/p4s_perf2-p4f_perf13.hyp\n",
      "p4s_perf2 p4f_perf13\n",
      "204395.33332680003 1395200\n",
      "p4f_perf13 p4s_perf2\n",
      "1369877.33333535 2530304\n",
      "experiments/expFinal/p4s_perf2-p4f_perf16.hyp\n",
      "p4s_perf2 p4f_perf16\n",
      "18244.666661550003 1143296\n",
      "p4f_perf16 p4s_perf2\n",
      "1116649.33333275 2265600\n",
      "p4s_perf2 p4f_perf16\n",
      "2302869.66666645 2279424\n",
      "experiments/expFinal/p4s_perf2-p4f_perf2.hyp\n",
      "experiments/expFinal/p4s_perf8-p4f_perf13.hyp\n",
      "p4s_perf8 p4f_perf13\n",
      "204395.33332680003 1394688\n",
      "p4f_perf13 p4s_perf8\n",
      "1369877.33333535 2527744\n",
      "experiments/expFinal/p4s_perf8-p4f_perf16.hyp\n",
      "p4s_perf8 p4f_perf16\n",
      "18244.666661550003 1148416\n",
      "p4f_perf16 p4s_perf8\n",
      "1116649.33333275 2264064\n",
      "experiments/expFinal/p4s_perf8-p4f_perf2.hyp\n",
      "experiments/expFinal/p4s_perf9-p4f_perf13.hyp\n",
      "p4s_perf9 p4f_perf13\n",
      "204395.33332680003 1395712\n",
      "p4f_perf13 p4s_perf9\n",
      "1369877.33333535 2529792\n",
      "p4s_perf9 p4f_perf13\n",
      "2562035.9999955003 2531328\n",
      "experiments/expFinal/p4s_perf9-p4f_perf16.hyp\n",
      "p4s_perf9 p4f_perf16\n",
      "18244.666661550003 1148928\n",
      "p4f_perf16 p4s_perf9\n",
      "1116649.33333275 2264576\n",
      "experiments/expFinal/p4s_perf9-p4f_perf2.hyp\n",
      "hop_length 512\n",
      "[0.92907801 0.90307329 0.75531915]\n",
      "[0.         0.11707441 0.20782189 0.28180818 0.34910692 0.40865995\n",
      " 0.4609752  0.50524846 0.5490138  0.58909676 0.62638618 0.65944299\n",
      " 0.68902904 0.71603318 0.7454076  0.77478202 0.79945822 0.81787014\n",
      " 0.83158385 0.84076864 0.84872598 0.85613307 0.86104292 0.86430204\n",
      " 0.8679421  0.86984678 0.87196309 0.87378312 0.87594176 0.87742318\n",
      " 0.87924321 0.88042834 0.88186743 0.88262931 0.88377212 0.8850419\n",
      " 0.88631169 0.88775078 0.8892322  0.89092525 0.89198341 0.89308389\n",
      " 0.89443833 0.89625836 0.89765513 0.89955981 0.90074494 0.90142216\n",
      " 0.90256497 0.90353847 0.904385   0.90506222 0.90569711 0.90637433\n",
      " 0.90671294 0.90700923 0.90747482 0.90802506 0.90832134 0.90865995\n",
      " 0.90912554 0.9095488  0.90992974 0.910353   0.91111487 0.91136883\n",
      " 0.91225768 0.91327351 0.91382375 0.91441632 0.91475493 0.91509354\n",
      " 0.91547448 0.91577076 0.91589774 0.91610937 0.91619402 0.91661729\n",
      " 0.91687124 0.91716753]\n"
     ]
    }
   ],
   "source": [
    "seg_accuracy, beat_accuracy, times = evaluate(\"experiments/expFinal\", hop_length=512)\n",
    "#seg_accuracy, beat_accuracy = evaluate(\"baselines/debug2\")"
   ]
  },
  {
   "cell_type": "code",
   "execution_count": 102,
   "metadata": {},
   "outputs": [
    {
     "data": {
      "text/plain": [
       "7.503427006732458"
      ]
     },
     "execution_count": 102,
     "metadata": {},
     "output_type": "execute_result"
    }
   ],
   "source": [
    "np.average(times)"
   ]
  },
  {
   "cell_type": "code",
   "execution_count": 12,
   "metadata": {
    "ExecuteTime": {
     "end_time": "2020-05-09T23:17:32.926350Z",
     "start_time": "2020-05-09T23:17:32.785917Z"
    }
   },
   "outputs": [
    {
     "data": {
      "text/plain": [
       "Text(0, 0.5, 'Error')"
      ]
     },
     "execution_count": 12,
     "metadata": {},
     "output_type": "execute_result"
    },
    {
     "data": {
      "image/png": "[encoded data removed]",
      "text/plain": [
       "<Figure size 720x216 with 1 Axes>"
      ]
     },
     "metadata": {
      "needs_background": "light"
     },
     "output_type": "display_data"
    }
   ],
   "source": [
    "plt.figure(figsize=(10,3))\n",
    "x=np.arange(0.0, 2, 0.025)\n",
    "plt.rcParams.update({'font.size': 15})\n",
    "plt.gca().set_yticklabels(['{:.0f}%'.format(x*100) for x in plt.gca().get_yticks()]) \n",
    "plt.plot(x, 1-np.array(beat_accuracy), linewidth=3)\n",
    "plt.xticks(np.arange(min(x), max(x)+.1, 0.2))\n",
    "plt.xlabel('Error Tolerance(s)', fontsize=20)\n",
    "plt.ylabel('Error', fontsize=20)"
   ]
  },
  {
   "cell_type": "code",
   "execution_count": null,
   "metadata": {},
   "outputs": [],
   "source": []
  }
 ],
 "metadata": {
  "kernelspec": {
   "display_name": "Python 3",
   "language": "python",
   "name": "python3"
  },
  "language_info": {
   "codemirror_mode": {
    "name": "ipython",
    "version": 3
   },
   "file_extension": ".py",
   "mimetype": "text/x-python",
   "name": "python",
   "nbconvert_exporter": "python",
   "pygments_lexer": "ipython3",
   "version": "3.7.6"
  },
  "toc": {
   "base_numbering": 1,
   "nav_menu": {},
   "number_sections": true,
   "sideBar": true,
   "skip_h1_title": false,
   "title_cell": "Table of Contents",
   "title_sidebar": "Contents",
   "toc_cell": false,
   "toc_position": {},
   "toc_section_display": true,
   "toc_window_display": false
  }
 },
 "nbformat": 4,
 "nbformat_minor": 4
}
