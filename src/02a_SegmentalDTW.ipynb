{
 "cells": [
  {
   "cell_type": "code",
   "execution_count": null,
   "metadata": {
    "ExecuteTime": {
     "end_time": "2020-05-09T22:35:57.624237Z",
     "start_time": "2020-05-09T22:35:57.296270Z"
    },
    "colab": {},
    "colab_type": "code",
    "id": "t6Ui7ZaszLX1"
   },
   "outputs": [],
   "source": [
    "%matplotlib inline"
   ]
  },
  {
   "cell_type": "code",
   "execution_count": 1,
   "metadata": {
    "ExecuteTime": {
     "end_time": "2020-05-09T22:40:41.132634Z",
     "start_time": "2020-05-09T22:40:40.392409Z"
    },
    "colab": {},
    "colab_type": "code",
    "id": "zkWMrHzuzMWn"
   },
   "outputs": [],
   "source": [
    "import numpy as np\n",
    "import os\n",
    "import matplotlib\n",
    "import matplotlib.pyplot as plt\n",
    "import librosa as lb\n",
    "import librosa.display as lbd\n",
    "import IPython.display as ipd\n",
    "import scipy.signal as ss\n",
    "import scipy.spatial as sspat\n",
    "import scipy.fft as sfft\n",
    "import warnings\n",
    "import pickle as pkl\n",
    "import time"
   ]
  },
  {
   "cell_type": "code",
   "execution_count": 2,
   "metadata": {
    "ExecuteTime": {
     "end_time": "2020-05-09T22:40:41.501160Z",
     "start_time": "2020-05-09T22:40:41.135348Z"
    },
    "colab": {
     "base_uri": "https://localhost:8080/",
     "height": 124
    },
    "colab_type": "code",
    "id": "FprPFPEazNp2",
    "outputId": "8d068457-f337-46c7-8472-3cfde22bf6ad",
    "scrolled": true
   },
   "outputs": [
    {
     "name": "stdout",
     "output_type": "stream",
     "text": [
      "/home/krong/Documents/classes/SP/final/AdaptiveAccompaniment\n"
     ]
    }
   ],
   "source": [
    "%cd ../\n",
    "import DTW\n",
    "import TSM_Import"
   ]
  },
  {
   "cell_type": "markdown",
   "metadata": {
    "colab_type": "text",
    "id": "SSsO4Cq5Xlg5"
   },
   "source": [
    "# Import Data and Hyperparameter"
   ]
  },
  {
   "cell_type": "code",
   "execution_count": 3,
   "metadata": {
    "ExecuteTime": {
     "end_time": "2020-05-09T22:40:42.118206Z",
     "start_time": "2020-05-09T22:40:41.554144Z"
    },
    "colab": {
     "base_uri": "https://localhost:8080/",
     "height": 34
    },
    "colab_type": "code",
    "id": "QLdGRrm3bFtI",
    "outputId": "2188be5c-4b70-4d2e-e605-99d9f6255ff2"
   },
   "outputs": [],
   "source": [
    "fileId_path = \"experiments/fileIds.pkl\"\n",
    "queryInfo_path = \"experiments/queryInfo.pkl\"\n",
    "timeData_path = \"experiments/timeData.pkl\"\n",
    "audioFiles_path = \"experiments/audioFiles.pkl\"\n",
    "with open(fileId_path, 'rb') as f:\n",
    "    fileIds=pkl.load(f)\n",
    "with open(queryInfo_path, 'rb') as f:\n",
    "    queryInfo=pkl.load(f)\n",
    "with open(timeData_path, 'rb') as f:\n",
    "    timeData=pkl.load(f)\n",
    "with open(audioFiles_path, 'rb') as f:\n",
    "    audioFiles=pkl.load(f)"
   ]
  },
  {
   "cell_type": "markdown",
   "metadata": {},
   "source": [
    "## Set Hop Length"
   ]
  },
  {
   "cell_type": "code",
   "execution_count": 59,
   "metadata": {
    "ExecuteTime": {
     "end_time": "2020-05-10T05:41:39.018324Z",
     "start_time": "2020-05-10T05:41:39.015237Z"
    }
   },
   "outputs": [],
   "source": [
    "hop_length = 512"
   ]
  },
  {
   "cell_type": "markdown",
   "metadata": {},
   "source": [
    "# Segmental DTW"
   ]
  },
  {
   "cell_type": "markdown",
   "metadata": {
    "colab_type": "text",
    "id": "vVp-cLhWELVZ"
   },
   "source": [
    "## Feature Extraction"
   ]
  },
  {
   "cell_type": "code",
   "execution_count": 42,
   "metadata": {
    "ExecuteTime": {
     "end_time": "2020-05-10T05:35:37.677177Z",
     "start_time": "2020-05-10T05:35:37.674467Z"
    },
    "colab": {},
    "colab_type": "code",
    "id": "hBJ1pk-LEKpT"
   },
   "outputs": [],
   "source": [
    "def getChromaFeatures(audio, sr=22050):\n",
    "  chroma = lb.feature.chroma_stft(y=audio, norm=2, hop_length=hop_length)\n",
    "  return chroma"
   ]
  },
  {
   "cell_type": "markdown",
   "metadata": {
    "colab_type": "text",
    "id": "0w0DPvEh2dTY"
   },
   "source": [
    "## Segmental DTW"
   ]
  },
  {
   "cell_type": "code",
   "execution_count": 43,
   "metadata": {
    "ExecuteTime": {
     "end_time": "2020-05-10T05:35:38.120081Z",
     "start_time": "2020-05-10T05:35:38.109198Z"
    },
    "colab": {},
    "colab_type": "code",
    "id": "Iao4RmiUJRdV"
   },
   "outputs": [],
   "source": [
    "def getCostMatrices(queries, ref):\n",
    "  cost_matrices = []\n",
    "  for query_chroma in queries:\n",
    "    cost_matrices.append(sspat.distance.cdist(query_chroma.T, ref.T, metric='cosine'))\n",
    "  return cost_matrices\n"
   ]
  },
  {
   "cell_type": "code",
   "execution_count": 44,
   "metadata": {
    "ExecuteTime": {
     "end_time": "2020-05-10T05:35:38.317281Z",
     "start_time": "2020-05-10T05:35:38.310068Z"
    },
    "colab": {},
    "colab_type": "code",
    "id": "jdQezKRpBDle"
   },
   "outputs": [],
   "source": [
    "def getAccumCostMatrix(cost_matrix):\n",
    "  steps = np.array([2, 1, 1, 2, 1, 1]).reshape((3,2))\n",
    "  weights = [2,1,1]\n",
    "  D = lb.sequence.dtw(C=cost_matrix, step_sizes_sigma=steps, weights_mul=weights, subseq=True, backtrack=False)\n",
    "  return D"
   ]
  },
  {
   "cell_type": "code",
   "execution_count": 45,
   "metadata": {
    "ExecuteTime": {
     "end_time": "2020-05-10T05:35:38.510102Z",
     "start_time": "2020-05-10T05:35:38.497411Z"
    },
    "colab": {},
    "colab_type": "code",
    "id": "PpjDD0Ox4u5F"
   },
   "outputs": [],
   "source": [
    "def generateSegmentCostMatrix(costMatrices):\n",
    "  frame_cost_matrix = []\n",
    "  for D in costMatrices:\n",
    "    cost = D[-1,:]\n",
    "    frame_cost_matrix.append(cost)\n",
    "  return frame_cost_matrix"
   ]
  },
  {
   "cell_type": "code",
   "execution_count": 46,
   "metadata": {
    "ExecuteTime": {
     "end_time": "2020-05-10T05:35:38.697106Z",
     "start_time": "2020-05-10T05:35:38.688159Z"
    },
    "colab": {},
    "colab_type": "code",
    "id": "GsAJth4qSVtt"
   },
   "outputs": [],
   "source": [
    "def segmental_DTW(segmentCostMatrix, segment_lengths):\n",
    "  steps = [[0,1]]\n",
    "  weights = [0]\n",
    "  D, path = DTW.globalDTW(segmentCostMatrix, steps, weights, segment_lengths)\n",
    "\n",
    "  return D, path"
   ]
  },
  {
   "cell_type": "code",
   "execution_count": 47,
   "metadata": {
    "ExecuteTime": {
     "end_time": "2020-05-10T05:35:38.889454Z",
     "start_time": "2020-05-10T05:35:38.875585Z"
    },
    "colab": {},
    "colab_type": "code",
    "id": "LCeAFkpfxVs1"
   },
   "outputs": [],
   "source": [
    "def getPathEnds(global_path, C0):\n",
    "  endpoints = []\n",
    "  for idx in range(1,len(global_path)):\n",
    "    if global_path[idx][0]!=global_path[idx-1][0]:\n",
    "      endpoints.append(global_path[idx])\n",
    "  endpoints.insert(0,(0,np.argmin(C0)))\n",
    "  return endpoints"
   ]
  },
  {
   "cell_type": "markdown",
   "metadata": {
    "colab_type": "text",
    "id": "PvfvWvSZ16Mo"
   },
   "source": [
    "\n",
    "## TSM"
   ]
  },
  {
   "cell_type": "code",
   "execution_count": 48,
   "metadata": {
    "ExecuteTime": {
     "end_time": "2020-05-10T05:35:39.288249Z",
     "start_time": "2020-05-10T05:35:39.271123Z"
    },
    "colab": {},
    "colab_type": "code",
    "id": "J3atVXVTHbt-"
   },
   "outputs": [],
   "source": [
    "def extrapolateTimeStretchFunction(local_paths, N):\n",
    "  new_stretch = []\n",
    "  k = 0\n",
    "  slope = 1\n",
    "  new_time = 0\n",
    "  counter = 0\n",
    "  for i in range(0,N):\n",
    "    if k<len(local_paths) and i >= local_paths[k][0][1]*hop_length and i <= local_paths[k][-1][1]*hop_length:\n",
    "      path = local_paths[k]\n",
    "      #if i == path[0][1]*hop_length:\n",
    "        #print(i,new_time)\n",
    "      if i == path[-1][1]*hop_length:\n",
    "        #print(i, new_time)    \n",
    "        k+=1\n",
    "        slope=1\n",
    "        counter = 0\n",
    "      elif i == path[counter][1]*hop_length:\n",
    "        slope = (path[counter+1][0]-path[counter][0])/(path[counter+1][1]-path[counter][1])\n",
    "        counter+=1\n",
    "    else:\n",
    "      slope=1\n",
    "    new_time+=slope\n",
    "    new_stretch.append(int(new_time))\n",
    "  return new_stretch\n",
    "def getInverseTimeFunction(time_function):\n",
    "  inverse_function = []\n",
    "  counter = 0\n",
    "  for i in range(time_function[-1]+1):\n",
    "    while time_function[counter]<i:\n",
    "      counter+=1\n",
    "    inverse_function.append(counter)\n",
    "  return inverse_function"
   ]
  },
  {
   "cell_type": "markdown",
   "metadata": {
    "colab_type": "text",
    "id": "ocAE7pd3OPEN"
   },
   "source": [
    "## Process Queries"
   ]
  },
  {
   "cell_type": "code",
   "execution_count": 49,
   "metadata": {
    "ExecuteTime": {
     "end_time": "2020-05-10T05:35:39.651327Z",
     "start_time": "2020-05-10T05:35:39.642291Z"
    },
    "code_folding": [
     0
    ]
   },
   "outputs": [],
   "source": [
    "def writeToFile(tf, segment_predict, solo_name, ref_name, hypdir, time_taken):\n",
    "    if hypdir != None:\n",
    "        experiment = \"experiments/{}\".format(hypdir)\n",
    "        if not os.path.exists(experiment):\n",
    "            os.mkdir(experiment)\n",
    "        fname = \"experiments/{}/{}-{}.hyp\".format(hypdir,solo_name,ref_name)\n",
    "        with open (fname, 'wb') as f:\n",
    "            pkl.dump((solo_name, ref_name, tf, segment_predict, time_taken),f)"
   ]
  },
  {
   "cell_type": "code",
   "execution_count": 50,
   "metadata": {
    "ExecuteTime": {
     "end_time": "2020-05-10T05:35:39.882728Z",
     "start_time": "2020-05-10T05:35:39.843861Z"
    }
   },
   "outputs": [],
   "source": [
    "def tf_preprocessing(local_paths):\n",
    "    ls = []\n",
    "    for seg in local_paths:\n",
    "        new_seg = []\n",
    "        for pair in seg:\n",
    "            new_seg.append(np.array([pair[0],pair[1]]))\n",
    "        ls.append(np.array(new_seg))\n",
    "    return ls\n",
    "def seg_time_function(wp):\n",
    "    start_time  = time.time()\n",
    "    wp = wp*hop_length\n",
    "    output = np.zeros((wp[-1,1]-wp[0,1])+1)\n",
    "    x_b = wp[0,1]\n",
    "    for pair_index in range(len(wp)-1):\n",
    "        y_0 = wp[pair_index,0]\n",
    "        y_1 = wp[pair_index+1,0]\n",
    "        x_0 = wp[pair_index,1]\n",
    "        x_1 = wp[pair_index+1,1]\n",
    "        slope = (y_1-y_0)/(x_1-x_0)\n",
    "        array = y_0+np.arange(x_1-x_0)*slope\n",
    "        output[x_0-x_b:x_1-x_b] = array\n",
    "    output[-1] = wp[-1,0]\n",
    "\n",
    "    return output\n",
    "def group_time_function(wp,ref_audio_len):\n",
    "    wp = tf_preprocessing(wp)\n",
    "    start_time = time.time()\n",
    "\n",
    "    output = np.zeros(ref_audio_len)\n",
    "    \n",
    "\n",
    "    current_start = 0\n",
    "    for index, seg_path in enumerate(wp):\n",
    "\n",
    "        pre_padd_end = seg_path[0][1] * hop_length\n",
    "\n",
    "        output[current_start:pre_padd_end]=(np.arange(pre_padd_end-current_start)+1)+output[current_start-1]\n",
    "\n",
    "        current_start = pre_padd_end\n",
    "        tf = seg_time_function(seg_path)\n",
    "        if index > 0:\n",
    "            start_point = max(0,wp[index-1][-1][1]-wp[index][0][1])*hop_length\n",
    "            end_point = min(len(output)-current_start,len(tf))\n",
    "\n",
    "            tf = tf[start_point:end_point]\n",
    "\n",
    "        if len(tf)>=2:\n",
    "            output[current_start:current_start+len(tf)] = tf+tf[1]+output[current_start-1]\n",
    "        elif len(tf)==1:\n",
    "            output[current_start:current_start+len(tf)] = tf+output[current_start-1]\n",
    "        current_start = current_start+len(tf)\n",
    "\n",
    "    output[current_start:]=np.arange(ref_audio_len-current_start)+output[current_start-1]\n",
    "    return output"
   ]
  },
  {
   "cell_type": "code",
   "execution_count": 51,
   "metadata": {
    "ExecuteTime": {
     "end_time": "2020-05-10T05:35:40.067397Z",
     "start_time": "2020-05-10T05:35:40.041440Z"
    },
    "code_folding": [],
    "colab": {},
    "colab_type": "code",
    "id": "rXCVFpAoIbRu"
   },
   "outputs": [],
   "source": [
    "def processQuery(solo_name, ref_name, visualize=False, hypdir = None, sr=22050):\n",
    "  print(\"Processing solo {}, Accompaniment {}\".format(solo_name, ref_name))\n",
    "  warnings.filterwarnings(\"ignore\", category=DeprecationWarning)\n",
    "  start_time = time.time()\n",
    "  outfile = 'experiments/{}/{}-{}.hyp'.format(hypdir, solo_name, ref_name)\n",
    "  if os.path.exists(outfile) and visualize == False:\n",
    "    print(\"Skipped: {}\".format(outfile))\n",
    "    return None\n",
    "\n",
    "  solo_segments = audioFiles[solo_name]\n",
    "  ref_audio = audioFiles[ref_name]\n",
    "\n",
    "  # Calculate L2-Normalized Chromas\n",
    "  solo_chromas = []\n",
    "  segment_lengths = []\n",
    "  ref_chroma = getChromaFeatures(ref_audio)\n",
    "  for i in solo_segments:\n",
    "    solo_chromas.append(getChromaFeatures(i))\n",
    "    segment_lengths.append(solo_chromas[-1].shape[1])\n",
    "\n",
    "  # Frame-Level DTW\n",
    "  frame_costs = []\n",
    "  cost_matrices = getCostMatrices(solo_chromas, ref_chroma)\n",
    "  \n",
    "\n",
    "  accum_costs = []\n",
    "  for C in cost_matrices:\n",
    "    D = getAccumCostMatrix(C)\n",
    "    accum_costs.append(D)\n",
    "    \n",
    "  #plt.imshow(cost_matrices[-1], aspect='auto')\n",
    "  #lbd.specshow(cost_matrices[-1], x_axis='frames', y_axis='frames')\n",
    "  \n",
    "  # Segment-Level DTW\n",
    "  segment_cost = np.array(generateSegmentCostMatrix(accum_costs))\n",
    "  D, path = segmental_DTW(segment_cost, segment_lengths)\n",
    "  pathEnds = getPathEnds(path[::-1],segment_cost[0])\n",
    "  \n",
    "  if visualize:\n",
    "      lbd.specshow(D, x_axis='frames', y_axis='frames')\n",
    "      x = [i[0] for i in path]\n",
    "      y = [i[1] for i in path]\n",
    "      plt.plot(y, x, label='Optimal path', color='y')\n",
    "      keys = queryInfo[solo_name.split('_')[0]]\n",
    "      samples = []\n",
    "      for idx,key in enumerate(keys):\n",
    "          i = key.split(',')[1][:-1]\n",
    "          plot_time = timeData[ref_name][i]\n",
    "          sample = np.round(plot_time*sr/hop_length)\n",
    "          plt.plot(int(sample), idx, marker=\".\", markersize=16)\n",
    "\n",
    "\n",
    "  # Local Backtraces\n",
    "  local_paths = []\n",
    "  segment_predict = []\n",
    "  for idx, C in enumerate(cost_matrices):\n",
    "    local_path = list(DTW.local_backtrace(accum_costs[idx],C,pathEnds[idx][1]))[::-1]\n",
    "    local_paths.append(local_path)\n",
    "    segment_predict.append((local_path[0][1],pathEnds[idx][1]))\n",
    "#  print(segment_predict)\n",
    "#     if idx==1:\n",
    "#       lbd.specshow(accum_costs[idx], x_axis='frames', y_axis='frames')\n",
    "#       x = [i[0] for i in local_path]\n",
    "#       y = [i[1] for i in local_path]\n",
    "#       plt.plot(y,x, label='Optimal path', color='y')\n",
    "#       debug_path = local_path\n",
    "\n",
    "    \n",
    "  \n",
    "  # TSM\n",
    "  print(time.time()-start_time)\n",
    "  time_function = group_time_function(local_paths, len(ref_audio))\n",
    "  #time_function = extrapolateTimeStretchFunction(local_paths, len(ref_audio))\n",
    "  #time_function = extrapolateTimeStretchFunction(local_paths)\n",
    "  #time_function = np.array(analysis2synthesis(local_paths, len(ref_audio)))\n",
    "  time_taken = time.time()-start_time\n",
    "  print(\"Took {} seconds\".format(time_taken))\n",
    "  writeToFile(time_function, segment_predict, solo_name, ref_name, hypdir, time_taken)\n",
    "  return time_function, local_paths, segment_cost,D, segment_predict"
   ]
  },
  {
   "cell_type": "code",
   "execution_count": 52,
   "metadata": {
    "ExecuteTime": {
     "end_time": "2020-05-10T05:35:41.156706Z",
     "start_time": "2020-05-10T05:35:40.516479Z"
    },
    "colab": {},
    "colab_type": "code",
    "id": "uV641Pv1MWgi",
    "scrolled": true
   },
   "outputs": [
    {
     "name": "stdout",
     "output_type": "stream",
     "text": [
      "Processing solo p2s_perf10, Accompaniment p2f_perf1\n",
      "0.41463184356689453\n",
      "Took 0.4526998996734619 seconds\n"
     ]
    },
    {
     "data": {
      "image/png": "[encoded data removed]",
      "text/plain": [
       "<Figure size 432x288 with 1 Axes>"
      ]
     },
     "metadata": {
      "needs_background": "light"
     },
     "output_type": "display_data"
    }
   ],
   "source": [
    "solo_name, ref_name ='p2s_perf10', 'p2f_perf1'\n",
    "time_function, local_paths,sc,D, sp  = processQuery(solo_name, ref_name, visualize=True, hypdir=\"debug4\")"
   ]
  },
  {
   "cell_type": "code",
   "execution_count": 53,
   "metadata": {
    "ExecuteTime": {
     "end_time": "2020-05-10T05:35:45.180782Z",
     "start_time": "2020-05-10T05:35:45.177084Z"
    }
   },
   "outputs": [
    {
     "name": "stdout",
     "output_type": "stream",
     "text": [
      "360448 1318912\n",
      "1343488 2338816\n",
      "2592768 3600384\n",
      "3534848 4722688\n",
      "4722688 5423104\n"
     ]
    }
   ],
   "source": [
    "for i in local_paths:\n",
    "    print(i[0][1]*hop_length,i[-1][1]*hop_length)"
   ]
  },
  {
   "cell_type": "code",
   "execution_count": 54,
   "metadata": {
    "ExecuteTime": {
     "end_time": "2020-05-10T05:35:45.931379Z",
     "start_time": "2020-05-10T05:35:45.927683Z"
    }
   },
   "outputs": [
    {
     "data": {
      "text/plain": [
       "(5585464, 5585464)"
      ]
     },
     "execution_count": 54,
     "metadata": {},
     "output_type": "execute_result"
    }
   ],
   "source": [
    "len(time_function),len(audioFiles[ref_name])"
   ]
  },
  {
   "cell_type": "code",
   "execution_count": 55,
   "metadata": {
    "ExecuteTime": {
     "end_time": "2020-05-10T05:35:46.869653Z",
     "start_time": "2020-05-10T05:35:46.854339Z"
    }
   },
   "outputs": [
    {
     "name": "stdout",
     "output_type": "stream",
     "text": [
      "344814.9999987 1345851.3333310501\n",
      "1345851.3333310501 2338564.6666662\n",
      "2595318.3333304496 3600637.66666695\n",
      "3600637.66666695 4727908.0000026\n",
      "4727908.0000026 5454163.0000053\n"
     ]
    }
   ],
   "source": [
    "pieceName = solo_name.split('_')[0]\n",
    "gt_segments = queryInfo[pieceName]\n",
    "sr=22050\n",
    "for beats in gt_segments:\n",
    "    beat1 = beats.split(',')[0][1:]\n",
    "    beat2 = beats.split(',')[1][:-1]\n",
    "    sample1 = (timeData[ref_name][beat1]*sr)\n",
    "    sample2 = (timeData[ref_name][beat2]*sr)\n",
    "    print(sample1,sample2)"
   ]
  },
  {
   "cell_type": "code",
   "execution_count": 56,
   "metadata": {
    "ExecuteTime": {
     "end_time": "2020-05-10T05:35:47.383733Z",
     "start_time": "2020-05-10T05:35:47.374209Z"
    }
   },
   "outputs": [
    {
     "name": "stdout",
     "output_type": "stream",
     "text": [
      "360448 1318912\n",
      "1343488 2338816\n",
      "2592768 3600384\n",
      "3534848 4722688\n",
      "4722688 5423104\n"
     ]
    }
   ],
   "source": [
    "for t1, t2 in sp:\n",
    "    print(t1*hop_length, t2*hop_length)"
   ]
  },
  {
   "cell_type": "code",
   "execution_count": null,
   "metadata": {
    "scrolled": true
   },
   "outputs": [],
   "source": [
    "a1 = lb.feature.chroma_cens(y=audioFiles['p1s_perf12'][-1], sr=22050)\n",
    "a2 = lb.feature.chroma_cens(y=audioFiles['p1f_perf23'], sr=22050)\n",
    "print(a1.shape)\n",
    "steps = np.array([2, 1, 1, 2, 1, 1]).reshape((3,2))\n",
    "weights = [2,1,1]\n",
    "D,wp=lb.sequence.dtw(a1,a2, step_sizes_sigma=steps, weights_mul=weights, subseq=True, backtrack=True)\n",
    "print(wp)"
   ]
  },
  {
   "cell_type": "code",
   "execution_count": 58,
   "metadata": {
    "ExecuteTime": {
     "end_time": "2020-05-10T05:36:42.481878Z",
     "start_time": "2020-05-10T05:36:10.696985Z"
    },
    "scrolled": true
   },
   "outputs": [
    {
     "name": "stdout",
     "output_type": "stream",
     "text": [
      "Processing solo p1s_perf12, Accompaniment p1f_perf16\n",
      "Skipped: experiments/exp_hop_4096/p1s_perf12-p1f_perf16.hyp\n",
      "Processing solo p1s_perf12, Accompaniment p1f_perf2\n",
      "0.2848496437072754\n",
      "Took 0.3117504119873047 seconds\n",
      "Processing solo p1s_perf12, Accompaniment p1f_perf23\n",
      "0.2503039836883545\n",
      "Took 0.27537965774536133 seconds\n",
      "Processing solo p1s_perf12, Accompaniment p1f_perf24\n",
      "0.2565150260925293\n",
      "Took 0.2823622226715088 seconds\n",
      "Processing solo p1s_perf12, Accompaniment p1f_perf6\n",
      "0.2522099018096924\n",
      "Took 0.2776463031768799 seconds\n",
      "Processing solo p1s_perf2, Accompaniment p1f_perf16\n",
      "0.24412250518798828\n",
      "Took 0.27281999588012695 seconds\n",
      "Processing solo p1s_perf2, Accompaniment p1f_perf2\n",
      "0.2668764591217041\n",
      "Took 0.30158376693725586 seconds\n",
      "Processing solo p1s_perf2, Accompaniment p1f_perf23\n",
      "0.26111793518066406\n",
      "Took 0.2866206169128418 seconds\n",
      "Processing solo p1s_perf2, Accompaniment p1f_perf24\n",
      "0.24211382865905762\n",
      "Took 0.2697875499725342 seconds\n",
      "Processing solo p1s_perf2, Accompaniment p1f_perf6\n",
      "0.23867058753967285\n",
      "Took 0.2645134925842285 seconds\n",
      "Processing solo p1s_perf25, Accompaniment p1f_perf16\n",
      "0.2559630870819092\n",
      "Took 0.2829265594482422 seconds\n",
      "Processing solo p1s_perf25, Accompaniment p1f_perf2\n",
      "0.27480244636535645\n",
      "Took 0.3066744804382324 seconds\n",
      "Processing solo p1s_perf25, Accompaniment p1f_perf23\n",
      "0.2543647289276123\n",
      "Took 0.2846693992614746 seconds\n",
      "Processing solo p1s_perf25, Accompaniment p1f_perf24\n",
      "0.26334428787231445\n",
      "Took 0.29626011848449707 seconds\n",
      "Processing solo p1s_perf25, Accompaniment p1f_perf6\n",
      "0.26813364028930664\n",
      "Took 0.2931404113769531 seconds\n",
      "Processing solo p1s_perf3, Accompaniment p1f_perf16\n",
      "0.2791788578033447\n",
      "Took 0.31404876708984375 seconds\n",
      "Processing solo p1s_perf3, Accompaniment p1f_perf2\n",
      "0.31714534759521484\n",
      "Took 0.3464546203613281 seconds\n",
      "Processing solo p1s_perf3, Accompaniment p1f_perf23\n",
      "0.2630190849304199\n",
      "Took 0.2905759811401367 seconds\n",
      "Processing solo p1s_perf3, Accompaniment p1f_perf24\n",
      "0.27426934242248535\n",
      "Took 0.30361413955688477 seconds\n",
      "Processing solo p1s_perf3, Accompaniment p1f_perf6\n",
      "0.27045702934265137\n",
      "Took 0.2978544235229492 seconds\n",
      "Processing solo p1s_perf9, Accompaniment p1f_perf16\n",
      "0.26966118812561035\n",
      "Took 0.30316996574401855 seconds\n",
      "Processing solo p1s_perf9, Accompaniment p1f_perf2\n",
      "0.28951597213745117\n",
      "Took 0.31970787048339844 seconds\n",
      "Processing solo p1s_perf9, Accompaniment p1f_perf23\n",
      "0.24423551559448242\n",
      "Took 0.2693302631378174 seconds\n",
      "Processing solo p1s_perf9, Accompaniment p1f_perf24\n",
      "0.25244784355163574\n",
      "Took 0.28235816955566406 seconds\n",
      "Processing solo p1s_perf9, Accompaniment p1f_perf6\n",
      "0.27070045471191406\n",
      "Took 0.29636096954345703 seconds\n",
      "Processing solo p2s_perf10, Accompaniment p2f_perf1\n",
      "0.41193437576293945\n",
      "Took 0.449634313583374 seconds\n",
      "Processing solo p2s_perf10, Accompaniment p2f_perf14\n",
      "0.39922022819519043\n",
      "Took 0.43604421615600586 seconds\n",
      "Processing solo p2s_perf10, Accompaniment p2f_perf18\n",
      "0.39868593215942383\n",
      "Took 0.45789480209350586 seconds\n",
      "Processing solo p2s_perf10, Accompaniment p2f_perf20\n",
      "0.3924131393432617\n",
      "Took 0.43630337715148926 seconds\n",
      "Processing solo p2s_perf10, Accompaniment p2f_perf5\n",
      "0.38370776176452637\n",
      "Took 0.43119215965270996 seconds\n",
      "Processing solo p2s_perf17, Accompaniment p2f_perf1\n",
      "0.28908228874206543\n",
      "Took 0.3307499885559082 seconds\n",
      "Processing solo p2s_perf17, Accompaniment p2f_perf14\n",
      "0.27541565895080566\n",
      "Took 0.3126363754272461 seconds\n",
      "Processing solo p2s_perf17, Accompaniment p2f_perf18\n",
      "0.2963411808013916\n",
      "Took 0.3365466594696045 seconds\n",
      "Processing solo p2s_perf17, Accompaniment p2f_perf20\n",
      "0.31890249252319336\n",
      "Took 0.35973620414733887 seconds\n",
      "Processing solo p2s_perf17, Accompaniment p2f_perf5\n",
      "0.275799036026001\n",
      "Took 0.3155498504638672 seconds\n",
      "Processing solo p2s_perf4, Accompaniment p2f_perf1\n",
      "0.3217620849609375\n",
      "Took 0.3628246784210205 seconds\n",
      "Processing solo p2s_perf4, Accompaniment p2f_perf14\n",
      "0.29230403900146484\n",
      "Took 0.327023983001709 seconds\n",
      "Processing solo p2s_perf4, Accompaniment p2f_perf18\n",
      "0.28759074211120605\n",
      "Took 0.32717347145080566 seconds\n",
      "Processing solo p2s_perf4, Accompaniment p2f_perf20\n",
      "0.2742772102355957\n",
      "Took 0.3122236728668213 seconds\n",
      "Processing solo p2s_perf4, Accompaniment p2f_perf5\n",
      "0.2725062370300293\n",
      "Took 0.3053576946258545 seconds\n",
      "Processing solo p2s_perf8, Accompaniment p2f_perf1\n",
      "0.3487980365753174\n",
      "Took 0.38544154167175293 seconds\n",
      "Processing solo p2s_perf8, Accompaniment p2f_perf14\n",
      "0.340029239654541\n",
      "Took 0.37621331214904785 seconds\n",
      "Processing solo p2s_perf8, Accompaniment p2f_perf18\n",
      "0.3534517288208008\n",
      "Took 0.39232492446899414 seconds\n",
      "Processing solo p2s_perf8, Accompaniment p2f_perf20\n",
      "0.3576693534851074\n",
      "Took 0.3989276885986328 seconds\n",
      "Processing solo p2s_perf8, Accompaniment p2f_perf5\n",
      "0.32686448097229004\n",
      "Took 0.3647949695587158 seconds\n",
      "Processing solo p2s_perf9, Accompaniment p2f_perf1\n",
      "0.38520050048828125\n",
      "Took 0.4300048351287842 seconds\n",
      "Processing solo p2s_perf9, Accompaniment p2f_perf14\n",
      "0.3828728199005127\n",
      "Took 0.4191319942474365 seconds\n",
      "Processing solo p2s_perf9, Accompaniment p2f_perf18\n",
      "0.3905019760131836\n",
      "Took 0.4315519332885742 seconds\n",
      "Processing solo p2s_perf9, Accompaniment p2f_perf20\n",
      "0.38129186630249023\n",
      "Took 0.41785430908203125 seconds\n",
      "Processing solo p2s_perf9, Accompaniment p2f_perf5\n",
      "0.39618492126464844\n",
      "Took 0.44928812980651855 seconds\n",
      "Processing solo p3s_perf12, Accompaniment p3f_perf11\n",
      "0.3391411304473877\n",
      "Took 0.3705439567565918 seconds\n",
      "Processing solo p3s_perf12, Accompaniment p3f_perf16\n",
      "0.3111281394958496\n",
      "Took 0.3438894748687744 seconds\n",
      "Processing solo p3s_perf12, Accompaniment p3f_perf2\n",
      "0.3676033020019531\n",
      "Took 0.4041271209716797 seconds\n",
      "Processing solo p3s_perf12, Accompaniment p3f_perf23\n",
      "0.3617887496948242\n",
      "Took 0.39690637588500977 seconds\n",
      "Processing solo p3s_perf12, Accompaniment p3f_perf24\n",
      "0.32257676124572754\n",
      "Took 0.3561742305755615 seconds\n",
      "Processing solo p3s_perf2, Accompaniment p3f_perf11\n",
      "0.30612993240356445\n",
      "Took 0.3383960723876953 seconds\n",
      "Processing solo p3s_perf2, Accompaniment p3f_perf16\n",
      "0.30494117736816406\n",
      "Took 0.3367183208465576 seconds\n",
      "Processing solo p3s_perf2, Accompaniment p3f_perf2\n",
      "0.32996368408203125\n",
      "Took 0.3648667335510254 seconds\n",
      "Processing solo p3s_perf2, Accompaniment p3f_perf23\n",
      "0.3349878787994385\n",
      "Took 0.3701353073120117 seconds\n",
      "Processing solo p3s_perf2, Accompaniment p3f_perf24\n",
      "0.3235752582550049\n",
      "Took 0.3562028408050537 seconds\n",
      "Processing solo p3s_perf21, Accompaniment p3f_perf11\n",
      "0.3078577518463135\n",
      "Took 0.33979129791259766 seconds\n",
      "Processing solo p3s_perf21, Accompaniment p3f_perf16\n",
      "0.3369104862213135\n",
      "Took 0.36901187896728516 seconds\n",
      "Processing solo p3s_perf21, Accompaniment p3f_perf2\n",
      "0.3293933868408203\n",
      "Took 0.365680456161499 seconds\n",
      "Processing solo p3s_perf21, Accompaniment p3f_perf23\n",
      "0.32628965377807617\n",
      "Took 0.36138176918029785 seconds\n",
      "Processing solo p3s_perf21, Accompaniment p3f_perf24\n",
      "0.3041837215423584\n",
      "Took 0.3383176326751709 seconds\n",
      "Processing solo p3s_perf22, Accompaniment p3f_perf11\n",
      "0.2953150272369385\n",
      "Took 0.3273658752441406 seconds\n",
      "Processing solo p3s_perf22, Accompaniment p3f_perf16\n",
      "0.29674792289733887\n",
      "Took 0.3320951461791992 seconds\n",
      "Processing solo p3s_perf22, Accompaniment p3f_perf2\n",
      "0.34142017364501953\n",
      "Took 0.37598419189453125 seconds\n",
      "Processing solo p3s_perf22, Accompaniment p3f_perf23\n",
      "0.317523717880249\n",
      "Took 0.35215067863464355 seconds\n",
      "Processing solo p3s_perf22, Accompaniment p3f_perf24\n",
      "0.30934810638427734\n",
      "Took 0.34186530113220215 seconds\n",
      "Processing solo p3s_perf9, Accompaniment p3f_perf11\n",
      "0.3067946434020996\n",
      "Took 0.3395423889160156 seconds\n",
      "Processing solo p3s_perf9, Accompaniment p3f_perf16\n",
      "0.31508731842041016\n",
      "Took 0.3468904495239258 seconds\n",
      "Processing solo p3s_perf9, Accompaniment p3f_perf2\n",
      "0.3574047088623047\n",
      "Took 0.393125057220459 seconds\n",
      "Processing solo p3s_perf9, Accompaniment p3f_perf23\n",
      "0.3522825241088867\n",
      "Took 0.38823699951171875 seconds\n",
      "Processing solo p3s_perf9, Accompaniment p3f_perf24\n",
      "0.3161654472351074\n",
      "Took 0.3489968776702881 seconds\n",
      "Processing solo p4s_perf15, Accompaniment p4f_perf13\n",
      "0.32729339599609375\n",
      "Took 0.3686637878417969 seconds\n",
      "Processing solo p4s_perf15, Accompaniment p4f_perf16\n",
      "0.2950870990753174\n",
      "Took 0.333543062210083 seconds\n",
      "Processing solo p4s_perf15, Accompaniment p4f_perf2\n",
      "0.30666542053222656\n",
      "Took 0.34139132499694824 seconds\n",
      "Processing solo p4s_perf2, Accompaniment p4f_perf13\n",
      "0.3346543312072754\n",
      "Took 0.3731968402862549 seconds\n",
      "Processing solo p4s_perf2, Accompaniment p4f_perf16\n"
     ]
    },
    {
     "name": "stdout",
     "output_type": "stream",
     "text": [
      "0.3205685615539551\n",
      "Took 0.35956668853759766 seconds\n",
      "Processing solo p4s_perf2, Accompaniment p4f_perf2\n",
      "0.3368251323699951\n",
      "Took 0.37120985984802246 seconds\n",
      "Processing solo p4s_perf8, Accompaniment p4f_perf13\n",
      "0.2787802219390869\n",
      "Took 0.3167848587036133 seconds\n",
      "Processing solo p4s_perf8, Accompaniment p4f_perf16\n",
      "0.2687497138977051\n",
      "Took 0.3062295913696289 seconds\n",
      "Processing solo p4s_perf8, Accompaniment p4f_perf2\n",
      "0.2955210208892822\n",
      "Took 0.3394200801849365 seconds\n",
      "Processing solo p4s_perf9, Accompaniment p4f_perf13\n",
      "0.3245508670806885\n",
      "Took 0.36338067054748535 seconds\n",
      "Processing solo p4s_perf9, Accompaniment p4f_perf16\n",
      "0.312960147857666\n",
      "Took 0.34981846809387207 seconds\n",
      "Processing solo p4s_perf9, Accompaniment p4f_perf2\n",
      "0.33307886123657227\n",
      "Took 0.3676741123199463 seconds\n"
     ]
    }
   ],
   "source": [
    "# Process all queries\n",
    "multiprocess = False\n",
    "hypdir = \"exp_hop_4096\"\n",
    "solo = {}\n",
    "accompaniment = {}\n",
    "for fileId in fileIds:\n",
    "    pieceNum = fileId.split(\"_\")[0]\n",
    "    if 's' in fileId:\n",
    "        if not pieceNum in solo.keys():\n",
    "            solo[pieceNum] = [fileId]\n",
    "        else:\n",
    "            solo[pieceNum].append(fileId)\n",
    "    if 'f' in fileId:\n",
    "        if not pieceNum in accompaniment.keys():\n",
    "            accompaniment[pieceNum] = [fileId]\n",
    "        else:\n",
    "            accompaniment[pieceNum].append(fileId)\n",
    "inputs = []\n",
    "for piece in solo.keys():\n",
    "    soloPieces = solo[piece]\n",
    "    refPieces = accompaniment[piece[:-1]+'f']\n",
    "    for i in soloPieces:\n",
    "        for j in refPieces:\n",
    "            inputs.append([i,j,False, hypdir])\n",
    "\n",
    "if multiprocess: \n",
    "    n_cores = multiprocessing.cpu_count()-1\n",
    "    pool = multiprocessing.Pool(processes=n_cores)\n",
    "    outputs = list(pool.starmap(processQuery, inputs))\n",
    "else:\n",
    "    for i in inputs:\n",
    "        processQuery(i[0], i[1], i[2], i[3])\n",
    "        #print(len(tf),len(audioFiles[i[1]]))"
   ]
  },
  {
   "cell_type": "code",
   "execution_count": null,
   "metadata": {},
   "outputs": [],
   "source": [
    "ref_audio = audioFiles['p3f_perf24']\n",
    "ipd.Audio(ref_audio, rate = 22050)"
   ]
  },
  {
   "cell_type": "code",
   "execution_count": null,
   "metadata": {},
   "outputs": [],
   "source": [
    "time_function = getInverseTimeFunction(time_function)"
   ]
  },
  {
   "cell_type": "code",
   "execution_count": null,
   "metadata": {},
   "outputs": [],
   "source": [
    "new_audio = TSM_Import.phase_vocoder(ref_audio,time_function)"
   ]
  },
  {
   "cell_type": "code",
   "execution_count": null,
   "metadata": {},
   "outputs": [],
   "source": []
  }
 ],
 "metadata": {
  "colab": {
   "collapsed_sections": [],
   "machine_shape": "hm",
   "name": "SegmentalDTW.ipynb",
   "provenance": [],
   "toc_visible": true
  },
  "kernelspec": {
   "display_name": "Python 3",
   "language": "python",
   "name": "python3"
  },
  "language_info": {
   "codemirror_mode": {
    "name": "ipython",
    "version": 3
   },
   "file_extension": ".py",
   "mimetype": "text/x-python",
   "name": "python",
   "nbconvert_exporter": "python",
   "pygments_lexer": "ipython3",
   "version": "3.7.5"
  },
  "toc": {
   "base_numbering": 1,
   "nav_menu": {},
   "number_sections": true,
   "sideBar": true,
   "skip_h1_title": false,
   "title_cell": "Table of Contents",
   "title_sidebar": "Contents",
   "toc_cell": false,
   "toc_position": {},
   "toc_section_display": true,
   "toc_window_display": false
  }
 },
 "nbformat": 4,
 "nbformat_minor": 1
}
