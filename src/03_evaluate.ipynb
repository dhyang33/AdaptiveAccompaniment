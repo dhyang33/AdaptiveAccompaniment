{
 "cells": [
  {
   "cell_type": "code",
   "execution_count": 1,
   "metadata": {
    "ExecuteTime": {
     "end_time": "2020-04-30T03:37:31.454318Z",
     "start_time": "2020-04-30T03:37:31.146894Z"
    }
   },
   "outputs": [
    {
     "name": "stdout",
     "output_type": "stream",
     "text": [
      "/home/krong/Documents/classes/SP/final/AdaptiveAccompaniment\n"
     ]
    }
   ],
   "source": [
    "import numpy as np\n",
    "import matplotlib.pyplot as plt\n",
    "import pickle as pkl\n",
    "import glob\n",
    "%cd ../"
   ]
  },
  {
   "cell_type": "code",
   "execution_count": 2,
   "metadata": {
    "ExecuteTime": {
     "end_time": "2020-04-30T03:37:31.950171Z",
     "start_time": "2020-04-30T03:37:31.457019Z"
    }
   },
   "outputs": [],
   "source": [
    "fileId_path = \"experiments/fileIds.pkl\"\n",
    "queryInfo_path = \"experiments/queryInfo.pkl\"\n",
    "timeData_path = \"experiments/timeData.pkl\"\n",
    "audioFiles_path = \"experiments/audioFiles.pkl\"\n",
    "with open(fileId_path, 'rb') as f:\n",
    "    fileIds=pkl.load(f)\n",
    "with open(queryInfo_path, 'rb') as f:\n",
    "    queryInfo=pkl.load(f)\n",
    "with open(timeData_path, 'rb') as f:\n",
    "    timeData=pkl.load(f)\n",
    "with open(audioFiles_path, 'rb') as f:\n",
    "    audioFiles=pkl.load(f)"
   ]
  },
  {
   "cell_type": "code",
   "execution_count": 3,
   "metadata": {
    "ExecuteTime": {
     "end_time": "2020-04-30T03:37:31.955544Z",
     "start_time": "2020-04-30T03:37:31.951724Z"
    }
   },
   "outputs": [],
   "source": [
    "def readHypFiles(hypdir):\n",
    "    data = []\n",
    "    for hypfile in sorted(glob.glob(\"experiments/{}/*.hyp\".format(hypdir))):\n",
    "        print(hypfile)\n",
    "        with open(hypfile, \"rb\") as f:\n",
    "            data.append(pkl.load(f))\n",
    "    return data"
   ]
  },
  {
   "cell_type": "code",
   "execution_count": 4,
   "metadata": {
    "ExecuteTime": {
     "end_time": "2020-04-30T03:37:32.236776Z",
     "start_time": "2020-04-30T03:37:32.219433Z"
    }
   },
   "outputs": [],
   "source": [
    "def evaluateSegmentLevel(segment_predict, solo_name, ref_name, sr=22050):\n",
    "    pieceName = solo_name.split('_')[0]\n",
    "    gt_segments = queryInfo[pieceName]\n",
    "    gt_samples = []\n",
    "    diffs = []\n",
    "    for beats in gt_segments:\n",
    "        beat1 = beats.split(',')[0][1:]\n",
    "        beat2 = beats.split(',')[1][:-1]\n",
    "        sample1 = timeData[ref_name][beat1]*512\n",
    "        sample2 = timeData[ref_name][beat2]*512\n",
    "        gt_samples.append((sample1, sample2))\n",
    "    for idx,segment in enumerate(segment_predict):\n",
    "        seg0 = segment[0]\n",
    "        seg1 = segment[1]\n",
    "        diff0 = np.abs(gt_samples[idx][0]-seg0)/sr\n",
    "        diff1 = np.abs(gt_samples[idx][1]-seg1)/sr\n",
    "        diffs.append(diff0)\n",
    "        diffs.append(diff1)\n",
    "    return diffs"
   ]
  },
  {
   "cell_type": "code",
   "execution_count": 56,
   "metadata": {
    "ExecuteTime": {
     "end_time": "2020-04-30T06:16:03.303183Z",
     "start_time": "2020-04-30T06:16:03.292845Z"
    }
   },
   "outputs": [],
   "source": [
    "def evaluateBeatLevel(tf, segment_predict, solo_name, ref_name, sr=22050):\n",
    "    # Only evaluate within segments\n",
    "    diffs = []\n",
    "    beat_ls = []\n",
    "    pieceName = solo_name.split('_')[0]\n",
    "    gt_segments = queryInfo[pieceName]\n",
    "    annotated_beats = list(timeData[ref_name].keys())\n",
    "    for beats in gt_segments:\n",
    "        beat1 = beats.split(',')[0][1:]\n",
    "        beat2 = beats.split(',')[1][:-1]\n",
    "        idx1 = annotated_beats.index(beat1)\n",
    "        idx2 = annotated_beats.index(beat2)\n",
    "        base_time = timeData[ref_name][beat1]\n",
    "        new_times = {}\n",
    "        for i in range(idx1,idx2):\n",
    "            key = annotated_beats[i]\n",
    "            sample = (timeData[ref_name][key]-base_time)*sr\n",
    "            new_time = tf[int(sample)]\n",
    "            new_times[key]=new_time\n",
    "        \n",
    "        gt_beats = list(timeData[solo_name].keys())\n",
    "        gt_base_time=timeData[solo_name][beat1]\n",
    "        for key in new_times:\n",
    "            if key in gt_beats:\n",
    "                gt_time = (timeData[solo_name][key]-gt_base_time)*sr\n",
    "                pred_time = new_times[key]\n",
    "                #print(gt_time, pred_time)\n",
    "                diffs.append(np.abs(gt_time-pred_time))\n",
    "        \n",
    "        gt_beats = list(timeData[solo_name].keys())\n",
    "        gt_base_time=timeData[solo_name][beat1]\n",
    "        for key in new_times:\n",
    "            if key in gt_beats:\n",
    "                gt_time = (timeData[solo_name][key]-gt_base_time)*sr\n",
    "                pred_time = new_times[key]\n",
    "                #print(gt_time/sr, pred_time/sr)\n",
    "                diffs.append(np.abs(gt_time-pred_time))\n",
    "                \n",
    "    return diffs"
   ]
  },
  {
   "cell_type": "code",
   "execution_count": 57,
   "metadata": {
    "ExecuteTime": {
     "end_time": "2020-04-30T06:16:03.604901Z",
     "start_time": "2020-04-30T06:16:03.586231Z"
    }
   },
   "outputs": [],
   "source": [
    "def evaluateDiffLevel(tf, segment_predict, solo_name, ref_name, sr=22050):\n",
    "    # Only evaluate within segments\n",
    "    diffs = []\n",
    "    beat_ls = []\n",
    "    pieceName = solo_name.split('_')[0]\n",
    "    gt_segments = queryInfo[pieceName]\n",
    "    annotated_beats = list(timeData[ref_name].keys())\n",
    "    for beats in gt_segments:\n",
    "        beat1 = beats.split(',')[0][1:]\n",
    "        beat2 = beats.split(',')[1][:-1]\n",
    "        idx1 = annotated_beats.index(beat1)\n",
    "        idx2 = annotated_beats.index(beat2)\n",
    "        base_time = timeData[ref_name][beat1]\n",
    "        new_times = {}\n",
    "        for i in range(idx1,idx2):\n",
    "            key = annotated_beats[i]\n",
    "            sample = (timeData[ref_name][key]-base_time)*sr\n",
    "            new_time = tf[int(sample)]\n",
    "            new_times[key]=new_time\n",
    "        \n",
    "        gt_beats = list(timeData[solo_name].keys())\n",
    "        gt_base_time=timeData[solo_name][beat1]\n",
    "        for key in new_times:\n",
    "            if key in gt_beats:\n",
    "                gt_time = (timeData[solo_name][key]-gt_base_time)*sr\n",
    "                pred_time = new_times[key]\n",
    "                #print(gt_time/sr, pred_time/sr)\n",
    "                #diffs.append(np.abs(gt_time-pred_time))\n",
    "                beat_array.append((gt_time,pred_time))\n",
    "    \n",
    "        print('here')\n",
    "    beat_ls.append(beat_array)\n",
    "    for i in range(len(beat_ls)):\n",
    "        for j in range(len(beat_ls[i])):\n",
    "            if j>0:\n",
    "                ground_diff = beat_ls[i][j][0]-beat_ls[i][j-1][0]\n",
    "                predict_diff = beat_ls[i][j][1]-beat_ls[i][j-1][1]\n",
    "                diffs.append(np.abs(ground_diff-predict_diff))\n",
    "    \n",
    "    return diffs"
   ]
  },
  {
   "cell_type": "code",
   "execution_count": 58,
   "metadata": {
    "ExecuteTime": {
     "end_time": "2020-04-30T06:16:03.854753Z",
     "start_time": "2020-04-30T06:16:03.834288Z"
    }
   },
   "outputs": [],
   "source": [
    "def evaluate(hypdir, sr=22050):\n",
    "    data = readHypFiles(hypdir)\n",
    "    times = []\n",
    "    segment_tolerances =[1]\n",
    "    segment_total = np.zeros(len(segment_tolerances))\n",
    "    segment_correct = np.zeros(len(segment_tolerances))\n",
    "    \n",
    "    beat_tolerances =[.25]\n",
    "    beat_total = np.zeros(len(beat_tolerances))\n",
    "    beat_correct = np.zeros(len(beat_tolerances))\n",
    "    \n",
    "    diff_tolerances =[.25]\n",
    "    diff_total = np.zeros(len(diff_tolerances))\n",
    "    diff_correct = np.zeros(len(diff_tolerances))\n",
    "    for solo_name, ref_name, tf, segment_predict, time_taken in data:\n",
    "        segment_predict = np.array(segment_predict)*512\n",
    "        segment_diffs = evaluateSegmentLevel(segment_predict, solo_name, ref_name)\n",
    "        beat_diffs = evaluateBeatLevel(tf, segment_predict, solo_name, ref_name)\n",
    "        diff_diffs = evaluateDiffLevel(tf, segment_predict, solo_name, ref_name)\n",
    "        segment_diffs =np.array(segment_diffs)/sr\n",
    "        beat_diffs =np.array(beat_diffs)/sr\n",
    "        diff_diffs = np.array(diff_diffs)/sr\n",
    "        times.append(time_taken)\n",
    "        \n",
    "        #Update Segment Level Accuracy\n",
    "        for idx, tolerance in enumerate(segment_tolerances):\n",
    "            segment_correct[idx] += np.sum(np.where(segment_diffs<tolerance, 1, 0))\n",
    "            segment_total[idx]+=len(segment_diffs)\n",
    "            \n",
    "            \n",
    "        #Update Beat Level Accuracy\n",
    "        for idx, tolerance in enumerate(beat_tolerances):\n",
    "            beat_correct[idx] += np.sum(np.where(beat_diffs<tolerance, 1, 0))\n",
    "            beat_total[idx]+=len(beat_diffs)\n",
    "            \n",
    "        for idx, tolerance in enumerate(diff_tolerances):\n",
    "            diff_correct[idx] += np.sum(np.where(diff_diffs<tolerance, 1, 0))\n",
    "            diff_total[idx]+=len(diff_diffs)\n",
    "    print(segment_correct/segment_total)\n",
    "    print(beat_correct/beat_total)\n",
    "    print(diff_correct/diff_total)"
   ]
  },
  {
   "cell_type": "code",
   "execution_count": null,
   "metadata": {},
   "outputs": [],
   "source": []
  }
 ],
 "metadata": {
  "kernelspec": {
   "display_name": "Python 3",
   "language": "python",
   "name": "python3"
  },
  "language_info": {
   "codemirror_mode": {
    "name": "ipython",
    "version": 3
   },
   "file_extension": ".py",
   "mimetype": "text/x-python",
   "name": "python",
   "nbconvert_exporter": "python",
   "pygments_lexer": "ipython3",
   "version": "3.7.5"
  },
  "toc": {
   "base_numbering": 1,
   "nav_menu": {},
   "number_sections": true,
   "sideBar": true,
   "skip_h1_title": false,
   "title_cell": "Table of Contents",
   "title_sidebar": "Contents",
   "toc_cell": false,
   "toc_position": {},
   "toc_section_display": true,
   "toc_window_display": false
  }
 },
 "nbformat": 4,
 "nbformat_minor": 4
}
