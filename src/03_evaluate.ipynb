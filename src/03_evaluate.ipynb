{
 "cells": [
  {
   "cell_type": "code",
   "execution_count": 1,
   "metadata": {},
   "outputs": [
    {
     "name": "stdout",
     "output_type": "stream",
     "text": [
      "/mnt/c/Users/Daniel Yang/Desktop/Final_Project\n"
     ]
    }
   ],
   "source": [
    "import numpy as np\n",
    "import matplotlib.pyplot as plt\n",
    "import pickle as pkl\n",
    "import glob\n",
    "%cd ../"
   ]
  },
  {
   "cell_type": "code",
   "execution_count": 10,
   "metadata": {},
   "outputs": [],
   "source": [
    "fileId_path = \"experiments/fileIds.pkl\"\n",
    "queryInfo_path = \"experiments/queryInfo.pkl\"\n",
    "timeData_path = \"experiments/timeData.pkl\"\n",
    "audioFiles_path = \"experiments/audioFiles.pkl\"\n",
    "with open(fileId_path, 'rb') as f:\n",
    "    fileIds=pkl.load(f)\n",
    "with open(queryInfo_path, 'rb') as f:\n",
    "    queryInfo=pkl.load(f)\n",
    "with open(timeData_path, 'rb') as f:\n",
    "    timeData=pkl.load(f)\n",
    "with open(audioFiles_path, 'rb') as f:\n",
    "    audioFiles=pkl.load(f)"
   ]
  },
  {
   "cell_type": "code",
   "execution_count": 11,
   "metadata": {},
   "outputs": [],
   "source": [
    "def readHypFiles(hypdir):\n",
    "    data = []\n",
    "    for hypfile in sorted(glob.glob(\"experiments/{}/*.hyp\".format(hypdir))):\n",
    "        print(hypfile)\n",
    "        with open(hypfile, \"rb\") as f:\n",
    "            data.append(pkl.load(f))\n",
    "    return data"
   ]
  },
  {
   "cell_type": "code",
   "execution_count": 26,
   "metadata": {},
   "outputs": [],
   "source": [
    "def evaluateSegmentLevel(segment_predict, solo_name, ref_name, sr=22050):\n",
    "    pieceName = solo_name.split('_')[0]\n",
    "    gt_segments = queryInfo[pieceName]\n",
    "    gt_samples = []\n",
    "    diffs = []\n",
    "    for beats in gt_segments:\n",
    "        beat1 = beats.split(',')[0][1:]\n",
    "        beat2 = beats.split(',')[1][:-1]\n",
    "        sample1 = timeData[ref_name][beat1]*512\n",
    "        sample2 = timeData[ref_name][beat2]*512\n",
    "        gt_samples.append((sample1, sample2))\n",
    "    for idx,segment in enumerate(segment_predict):\n",
    "        seg0 = segment[0]\n",
    "        seg1 = segment[1]\n",
    "        diff0 = np.abs(gt_samples[idx][0]-seg0)/sr\n",
    "        diff1 = np.abs(gt_samples[idx][1]-seg1)/sr\n",
    "        diffs.append(diff0)\n",
    "        diffs.append(diff1)\n",
    "    return diffs"
   ]
  },
  {
   "cell_type": "code",
   "execution_count": 36,
   "metadata": {},
   "outputs": [],
   "source": [
    "def evaluateBeatLevel(tf, segment_predict, solo_name, ref_name, sr=22050):\n",
    "    # Only evaluate within segments\n",
    "    diffs = []\n",
    "    pieceName = solo_name.split('_')[0]\n",
    "    gt_segments = queryInfo[pieceName]\n",
    "    annotated_beats = sorted(list(timeData[ref_name].keys()))\n",
    "    for beats in gt_segments:\n",
    "        beat1 = beats.split(',')[0][1:]\n",
    "        beat2 = beats.split(',')[1][:-1]\n",
    "        idx1 = annotated_beats.index(beat1)\n",
    "        idx2 = annotated_beats.index(beat2)\n",
    "        base_time = timeData[ref_name][beat1]\n",
    "        new_times = {}\n",
    "        for i in range(idx1,idx2):\n",
    "            key = annotated_beats[i]\n",
    "            sample = (timeData[ref_name][key]-base_time)*sr\n",
    "            new_time = tf[int(sample)]\n",
    "            new_times[key]=new_time\n",
    "        gt_beats = sorted(list(timeData[solo_name].keys()))\n",
    "        gt_base_time=timeData[solo_name][beat1]\n",
    "        for key in new_times:\n",
    "            if key in gt_beats:\n",
    "                gt_time = (timeData[solo_name][key]-gt_base_time)*sr\n",
    "                pred_time = new_times[key]\n",
    "                diffs.append(np.abs(gt_time-pred_time))\n",
    "    return diffs"
   ]
  },
  {
   "cell_type": "code",
   "execution_count": 43,
   "metadata": {},
   "outputs": [],
   "source": [
    "def evaluate(hypdir, sr=22050):\n",
    "    data = readHypFiles(hypdir)\n",
    "    times = []\n",
    "    for solo_name, ref_name, tf, segment_predict, time_taken in data:\n",
    "        segment_predict = np.array(segment_predict)*512\n",
    "        segment_diffs = evaluateSegmentLevel(segment_predict, solo_name, ref_name)\n",
    "        beat_diffs = evaluateBeatLevel(tf, segment_predict, solo_name, ref_name)\n",
    "        segment_diffs =np.array(segment_diffs)/sr\n",
    "        beat_diffs =np.array(beat_diffs)/sr\n",
    "        times.append(time_taken)\n",
    "        "
   ]
  },
  {
   "cell_type": "code",
   "execution_count": 44,
   "metadata": {},
   "outputs": [
    {
     "name": "stdout",
     "output_type": "stream",
     "text": [
      "experiments/debug/p1s_perf25-p1f_perf23.hyp\n",
      "[0.00055334 0.00153777 0.00322933 0.00389941 0.00387694 0.00565711\n",
      " 0.00470725 0.00725587 0.00680532 0.00780399]\n",
      "[4.53514739e-05 1.56130007e-01            nan            nan\n",
      " 3.21587302e-01 3.56764928e-01 4.97490552e-01 6.57823129e-01\n",
      " 8.52139078e-01 9.41783824e-01 1.05514739e+00 1.23814059e+00\n",
      " 1.35552532e+00 1.47342404e+00 1.62149660e+00 1.77009826e+00\n",
      " 4.53514739e-05 1.74603175e-01            nan            nan\n",
      " 3.41980348e-01 5.86485261e-01 7.43779290e-01 9.35646259e-01\n",
      " 1.06817838e+00 1.26816327e+00 1.52380952e+00 1.66433862e+00\n",
      " 1.81203326e+00 1.95854875e+00 2.11662887e+00 2.24290249e+00\n",
      " 2.39327286e+00 2.52837491e+00 2.28527589e+00 1.94730159e+00\n",
      " 2.03286470e+00 2.10956916e+00 2.14068027e+00 1.85549509e+00\n",
      "            nan            nan 2.11179138e+00 2.04869237e+00\n",
      " 2.13321240e+00 2.02400605e+00 2.04612245e+00 2.10822373e+00\n",
      " 2.00030234e+00 1.97720333e+00 1.54423280e+00 1.91274376e+00\n",
      " 1.80922147e+00 1.83334845e+00 1.76811791e+00 2.00908541e+00\n",
      " 1.94970522e+00 1.65091459e+00 4.53514739e-05 6.59108092e-03\n",
      " 8.64701442e-03 9.38775511e-03            nan            nan\n",
      " 5.34391534e-02 7.12925169e-02 6.68934243e-02 7.16250944e-02\n",
      " 4.86923659e-02 8.37641723e-02 1.36099773e-01 1.37157974e-01\n",
      " 1.22645502e-01 1.41934996e-01 1.99017385e-01 3.97490552e-01\n",
      " 6.37747544e-01 8.24187453e-01 9.51156463e-01 1.11245654e+00\n",
      " 1.50421769e+00 1.60695389e+00 1.73082389e+00 1.80904006e+00\n",
      "            nan            nan 1.89705215e+00 2.04619803e+00\n",
      " 2.22988662e+00 2.23882086e+00 2.97372638e+00 2.87247166e+00\n",
      " 3.06083144e+00 3.15832200e+00 3.17913832e+00 3.47629630e+00\n",
      " 3.33239607e+00 3.55866969e+00 3.28721088e+00 3.30388511e+00\n",
      " 3.27340892e+00 3.12795163e+00 3.08445956e+00 2.87980348e+00\n",
      " 2.77832200e+00 2.73504157e+00 1.87756206e+02 1.88212063e+02\n",
      " 2.54414210e+00 2.41318216e+00 2.29359033e+00 2.15130763e+00\n",
      " 1.96789116e+00 1.79210884e+00 1.63023432e+00 1.50716553e+00\n",
      " 1.24096750e+00 4.70733182e-01]\n"
     ]
    }
   ],
   "source": [
    "evaluate(\"debug\")"
   ]
  },
  {
   "cell_type": "code",
   "execution_count": null,
   "metadata": {},
   "outputs": [],
   "source": []
  }
 ],
 "metadata": {
  "kernelspec": {
   "display_name": "Python 3",
   "language": "python",
   "name": "python3"
  },
  "language_info": {
   "codemirror_mode": {
    "name": "ipython",
    "version": 3
   },
   "file_extension": ".py",
   "mimetype": "text/x-python",
   "name": "python",
   "nbconvert_exporter": "python",
   "pygments_lexer": "ipython3",
   "version": "3.7.6"
  }
 },
 "nbformat": 4,
 "nbformat_minor": 4
}
