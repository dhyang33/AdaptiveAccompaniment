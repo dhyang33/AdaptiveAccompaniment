{
 "cells": [
  {
   "cell_type": "code",
   "execution_count": 1,
   "metadata": {
    "ExecuteTime": {
     "end_time": "2020-05-09T22:51:31.327359Z",
     "start_time": "2020-05-09T22:51:30.978322Z"
    }
   },
   "outputs": [
    {
     "name": "stdout",
     "output_type": "stream",
     "text": [
      "/mnt/c/Users/Daniel Yang/Desktop/Final_Project\n"
     ]
    }
   ],
   "source": [
    "import numpy as np\n",
    "import matplotlib.pyplot as plt\n",
    "import pickle as pkl\n",
    "import glob\n",
    "%cd ../"
   ]
  },
  {
   "cell_type": "code",
   "execution_count": 2,
   "metadata": {
    "ExecuteTime": {
     "end_time": "2020-05-09T22:51:32.026925Z",
     "start_time": "2020-05-09T22:51:31.445617Z"
    }
   },
   "outputs": [],
   "source": [
    "fileId_path = \"experiments/fileIds.pkl\"\n",
    "queryInfo_path = \"experiments/queryInfo.pkl\"\n",
    "timeData_path = \"experiments/timeData.pkl\"\n",
    "audioFiles_path = \"experiments/audioFiles.pkl\"\n",
    "with open(fileId_path, 'rb') as f:\n",
    "    fileIds=pkl.load(f)\n",
    "with open(queryInfo_path, 'rb') as f:\n",
    "    queryInfo=pkl.load(f)\n",
    "with open(timeData_path, 'rb') as f:\n",
    "    timeData=pkl.load(f)\n",
    "with open(audioFiles_path, 'rb') as f:\n",
    "    audioFiles=pkl.load(f)"
   ]
  },
  {
   "cell_type": "code",
   "execution_count": 3,
   "metadata": {
    "ExecuteTime": {
     "end_time": "2020-05-09T22:51:32.031812Z",
     "start_time": "2020-05-09T22:51:32.028767Z"
    }
   },
   "outputs": [],
   "source": [
    "def readHypFiles(hypdir):\n",
    "    \n",
    "    for hypfile in sorted(glob.glob(\"{}/*.hyp\".format(hypdir))):\n",
    "        print(hypfile)\n",
    "        with open(hypfile, \"rb\") as f:\n",
    "            yield(pkl.load(f))"
   ]
  },
  {
   "cell_type": "code",
   "execution_count": 15,
   "metadata": {
    "ExecuteTime": {
     "end_time": "2020-05-09T22:51:32.216203Z",
     "start_time": "2020-05-09T22:51:32.207075Z"
    }
   },
   "outputs": [],
   "source": [
    "def evaluateBeatLevel(tf, segment_predict, solo_name, ref_name, sr=22050):\n",
    "    # Only evaluate within segments\n",
    "    diffs = []\n",
    "    pieceName = solo_name.split('_')[0]\n",
    "    gt_segments = queryInfo[pieceName]\n",
    "    annotated_beats = list(timeData[ref_name].keys())\n",
    "    for idx,beats in enumerate(gt_segments):\n",
    "        beat1 = beats.split(',')[0][1:]\n",
    "        beat2 = beats.split(',')[1][:-1]\n",
    "        idx1 = annotated_beats.index(beat1)\n",
    "        idx2 = annotated_beats.index(beat2)\n",
    "        #offset = int(timeData[ref_name][beat1]*sr)-segment_predict[idx][0]\n",
    "        #base_time = tf[segment_predict[idx][0]]\n",
    "        base_time = tf[int(timeData[ref_name][beat1]*sr)]\n",
    "        #print(offset)\n",
    "        \n",
    "        new_times = {}\n",
    "        for i in range(idx1,idx2+1):\n",
    "            key = annotated_beats[i]\n",
    "            sample = tf[int(timeData[ref_name][key]*sr)]\n",
    "            new_time = sample-base_time\n",
    "            new_times[key]=new_time\n",
    "            \n",
    "        gt_beats = list(timeData[solo_name].keys())\n",
    "        gt_base_time=timeData[solo_name][beat1]\n",
    "        prev = 0\n",
    "        prevgt = 0\n",
    "        for idx, key in enumerate(new_times):\n",
    "            if key in gt_beats:\n",
    "                gt_time = (timeData[solo_name][key]-gt_base_time)*sr\n",
    "                pred_time = new_times[key]\n",
    "                #f idx != 0:\n",
    "                #   print(\"diff\",gt_time-prevgt, pred_time-prev)\n",
    "                prev = pred_time\n",
    "                prevgt = gt_time\n",
    "                #rint(gt_time, pred_time)\n",
    "                diffs.append(np.abs(gt_time-pred_time))\n",
    "    return diffs"
   ]
  },
  {
   "cell_type": "code",
   "execution_count": 16,
   "metadata": {
    "ExecuteTime": {
     "end_time": "2020-05-09T22:51:32.564345Z",
     "start_time": "2020-05-09T22:51:32.552985Z"
    }
   },
   "outputs": [],
   "source": [
    "def evaluateBeatLevelFirst(tf, segment_predict, solo_name, ref_name, sr=22050):\n",
    "    # Only evaluate within segments\n",
    "    diffs = []\n",
    "    pieceName = solo_name.split('_')[0]\n",
    "    gt_segments = queryInfo[pieceName]\n",
    "    annotated_beats = list(timeData[ref_name].keys())\n",
    "    for idx,beats in enumerate(gt_segments):\n",
    "        if idx!=1:\n",
    "            continue\n",
    "        beat1 = beats.split(',')[0][1:]\n",
    "        beat2 = beats.split(',')[1][:-1]\n",
    "        idx1 = annotated_beats.index(beat1)\n",
    "        idx2 = annotated_beats.index(beat2)\n",
    "        offset = int(timeData[ref_name][beat1]*sr)-segment_predict[idx][0]\n",
    "        base_time = tf[segment_predict[idx][0]]\n",
    "        \n",
    "        new_times = {}\n",
    "        for i in range(idx1,idx2+1):\n",
    "            key = annotated_beats[i]\n",
    "            sample = tf[int(timeData[ref_name][key]*sr)]\n",
    "            new_time = sample-base_time\n",
    "            new_times[key]=new_time\n",
    "            \n",
    "        gt_beats = list(timeData[solo_name].keys())\n",
    "        gt_base_time=timeData[solo_name][beat1]\n",
    "        prev = 0\n",
    "        prevgt = 0\n",
    "        for idx, key in enumerate(new_times):\n",
    "            if key in gt_beats:\n",
    "                gt_time = (timeData[solo_name][key]-gt_base_time)*sr\n",
    "                pred_time = new_times[key]\n",
    "                #f idx != 0:\n",
    "                #   print(\"diff\",gt_time-prevgt, pred_time-prev)\n",
    "                prev = pred_time\n",
    "                prevgt = gt_time\n",
    "                #rint(gt_time, pred_time)\n",
    "                diffs.append(np.abs(gt_time-pred_time))\n",
    "    return diffs"
   ]
  },
  {
   "cell_type": "code",
   "execution_count": 17,
   "metadata": {
    "ExecuteTime": {
     "end_time": "2020-05-09T22:51:32.837998Z",
     "start_time": "2020-05-09T22:51:32.831186Z"
    }
   },
   "outputs": [],
   "source": [
    "def evaluateSegmentLevel(segment_predict, solo_name, ref_name, sr=22050):\n",
    "    pieceName = solo_name.split('_')[0]\n",
    "    gt_segments = queryInfo[pieceName]\n",
    "    gt_samples = []\n",
    "    diffs = []\n",
    "    for beats in gt_segments:\n",
    "        beat1 = beats.split(',')[0][1:]\n",
    "        beat2 = beats.split(',')[1][:-1]\n",
    "        sample1 = timeData[ref_name][beat1]*sr\n",
    "        sample2 = timeData[ref_name][beat2]*sr\n",
    "        gt_samples.append((sample1, sample2))\n",
    "    for idx,segment in enumerate(segment_predict):\n",
    "        seg0 = segment[0]\n",
    "        seg1 = segment[1]\n",
    "        diff0 = np.abs(gt_samples[idx][0]-seg0)\n",
    "        diff1 = np.abs(gt_samples[idx][1]-seg1)\n",
    "        diffs.append(diff0)\n",
    "        diffs.append(diff1)\n",
    "        if diff0 > 22050:\n",
    "            print(solo_name, ref_name)\n",
    "            print(gt_samples[idx][0],seg0)\n",
    "        if diff1 > 22050:\n",
    "            print(ref_name, solo_name)\n",
    "            print(gt_samples[idx][1],seg1)\n",
    "        #print((gt_samples[idx][0]-seg0)/(sr*sr))\n",
    "    return diffs, gt_samples, segment_predict"
   ]
  },
  {
   "cell_type": "code",
   "execution_count": 56,
   "metadata": {
    "ExecuteTime": {
     "end_time": "2020-05-10T05:38:25.652697Z",
     "start_time": "2020-05-10T05:38:25.633766Z"
    }
   },
   "outputs": [],
   "source": [
    "def evaluate(hypdir, hop_length=1024, sr=22050):\n",
    "    \n",
    "    times = []\n",
    "    segment_tolerances =[1, 0.5, 0.25]\n",
    "    segment_total = np.zeros(len(segment_tolerances))\n",
    "    segment_correct = np.zeros(len(segment_tolerances))\n",
    "    \n",
    "    beat_tolerances =np.arange(0.0, 2, 0.025)\n",
    "    #beat_tolerances=[0.25]\n",
    "    beat_total = np.zeros(len(beat_tolerances))\n",
    "    beat_correct = np.zeros(len(beat_tolerances))\n",
    "    beat_totalFirst = np.zeros(len(beat_tolerances))\n",
    "    beat_correctFirst = np.zeros(len(beat_tolerances))\n",
    "    for solo_name, ref_name, tf, segment_predict, time_taken in readHypFiles(hypdir):\n",
    "        tf = np.array(tf)\n",
    "        segment_predict = np.array(segment_predict)*hop_length\n",
    "        #print(segment_predict)\n",
    "        segment_diffs, gt_samples, segment_predict = evaluateSegmentLevel(segment_predict, solo_name, ref_name)\n",
    "        if any(tf!=None):\n",
    "            beat_diffs = evaluateBeatLevel(tf, segment_predict, solo_name, ref_name)\n",
    "            beat_diffsFirst = evaluateBeatLevelFirst(tf, segment_predict, solo_name, ref_name)\n",
    "            #beat_diffs = evaluateDiffLevel(tf, segment_predict, solo_name, ref_name)\n",
    "            beat_diffs =(np.array(beat_diffs)/sr)\n",
    "            beat_diffsFirst =(np.array(beat_diffsFirst)/sr)\n",
    "        segment_diffs =np.array(segment_diffs)/sr\n",
    "        times.append(time_taken)\n",
    "        \n",
    "        #Update Segment Level Accuracy\n",
    "        for idx, tolerance in enumerate(segment_tolerances):\n",
    "            segment_correct[idx] += np.sum(np.where(segment_diffs<tolerance, 1, 0))\n",
    "            segment_total[idx]+=len(segment_diffs)\n",
    "            \n",
    "            \n",
    "        if any(tf!=None):\n",
    "            #Update Beat Level Accuracy\n",
    "            for idx, tolerance in enumerate(beat_tolerances):\n",
    "                beat_correct[idx] += np.sum(np.where(beat_diffs<tolerance, 1, 0))\n",
    "                beat_total[idx]+=len(beat_diffs)\n",
    "\n",
    "            #Update First Beat Level Accuracy\n",
    "            for idx, tolerance in enumerate(beat_tolerances):\n",
    "                beat_correctFirst[idx] += np.sum(np.where(beat_diffsFirst<tolerance, 1, 0))\n",
    "                beat_totalFirst[idx]+=len(beat_diffsFirst)\n",
    "    print(\"hop_length\", hop_length)\n",
    "    print(segment_correct/segment_total)\n",
    "    print(beat_correct/beat_total)\n",
    "    return segment_correct/segment_total, beat_correct/beat_total     "
   ]
  },
  {
   "cell_type": "code",
   "execution_count": 90,
   "metadata": {
    "ExecuteTime": {
     "end_time": "2020-05-09T22:54:26.822684Z",
     "start_time": "2020-05-09T22:53:55.892781Z"
    },
    "scrolled": true
   },
   "outputs": [
    {
     "name": "stdout",
     "output_type": "stream",
     "text": [
      "experiments/expTest650/p1s_perf12-p1f_perf16.hyp\n",
      "p1f_perf16 p1s_perf12\n",
      "3888554.6666641505 3920150\n",
      "experiments/expTest650/p1s_perf12-p1f_perf2.hyp\n",
      "p1f_perf2 p1s_perf12\n",
      "3450449.3333341503 3476200\n",
      "p1f_perf2 p1s_perf12\n",
      "3928012.66666305 3983850\n",
      "experiments/expTest650/p1s_perf12-p1f_perf23.hyp\n",
      "p1f_perf23 p1s_perf12\n",
      "3797529.00000075 3886350\n",
      "experiments/expTest650/p1s_perf12-p1f_perf24.hyp\n",
      "p1f_perf24 p1s_perf12\n",
      "3991737.33333165 4022850\n",
      "experiments/expTest650/p1s_perf12-p1f_perf6.hyp\n",
      "p1f_perf6 p1s_perf12\n",
      "3799099.9999963506 3838900\n",
      "experiments/expTest650/p1s_perf2-p1f_perf16.hyp\n",
      "experiments/expTest650/p1s_perf2-p1f_perf2.hyp\n",
      "experiments/expTest650/p1s_perf2-p1f_perf23.hyp\n",
      "p1f_perf23 p1s_perf2\n",
      "3797529.00000075 3853200\n",
      "experiments/expTest650/p1s_perf2-p1f_perf24.hyp\n",
      "experiments/expTest650/p1s_perf2-p1f_perf6.hyp\n",
      "p1f_perf6 p1s_perf2\n",
      "3799099.9999963506 3840200\n",
      "experiments/expTest650/p1s_perf25-p1f_perf16.hyp\n",
      "p1f_perf16 p1s_perf25\n",
      "3391034.9999967 3420300\n",
      "p1f_perf16 p1s_perf25\n",
      "3888554.6666641505 3974100\n",
      "experiments/expTest650/p1s_perf25-p1f_perf2.hyp\n",
      "p1f_perf2 p1s_perf25\n",
      "3928012.66666305 4083950\n",
      "experiments/expTest650/p1s_perf25-p1f_perf23.hyp\n",
      "p1f_perf23 p1s_perf25\n",
      "3323518.0000008005 3357900\n",
      "p1f_perf23 p1s_perf25\n",
      "3797529.00000075 3882450\n",
      "experiments/expTest650/p1s_perf25-p1f_perf24.hyp\n",
      "p1f_perf24 p1s_perf25\n",
      "3493643.6666648993 3523000\n",
      "p1f_perf24 p1s_perf25\n",
      "3991737.33333165 4085250\n",
      "experiments/expTest650/p1s_perf25-p1f_perf6.hyp\n",
      "p1f_perf6 p1s_perf25\n",
      "3799099.9999963506 3858400\n",
      "experiments/expTest650/p1s_perf3-p1f_perf16.hyp\n",
      "p1f_perf16 p1s_perf3\n",
      "3391034.9999967 3523000\n",
      "experiments/expTest650/p1s_perf3-p1f_perf2.hyp\n",
      "p1f_perf2 p1s_perf3\n",
      "3450449.3333341503 3591900\n",
      "p1f_perf2 p1s_perf3\n",
      "3928012.66666305 3984500\n",
      "experiments/expTest650/p1s_perf3-p1f_perf23.hyp\n",
      "p1f_perf23 p1s_perf3\n",
      "3797529.00000075 3887000\n",
      "experiments/expTest650/p1s_perf3-p1f_perf24.hyp\n",
      "p1f_perf24 p1s_perf3\n",
      "3493643.6666648993 3626350\n",
      "experiments/expTest650/p1s_perf3-p1f_perf6.hyp\n",
      "p1f_perf6 p1s_perf3\n",
      "3322887.66666885 3463200\n",
      "p1f_perf6 p1s_perf3\n",
      "3799099.9999963506 3840850\n",
      "experiments/expTest650/p1s_perf9-p1f_perf16.hyp\n",
      "p1f_perf16 p1s_perf9\n",
      "3391034.9999967 3422900\n",
      "experiments/expTest650/p1s_perf9-p1f_perf2.hyp\n",
      "p1f_perf2 p1s_perf9\n",
      "3928012.66666305 3986450\n",
      "experiments/expTest650/p1s_perf9-p1f_perf23.hyp\n",
      "p1f_perf23 p1s_perf9\n",
      "3323518.0000008005 3362450\n",
      "experiments/expTest650/p1s_perf9-p1f_perf24.hyp\n",
      "p1f_perf24 p1s_perf9\n",
      "3493643.6666648993 3528200\n",
      "experiments/expTest650/p1s_perf9-p1f_perf6.hyp\n",
      "hop_length 650\n",
      "[0.892 0.84  0.744]\n",
      "[0.         0.03137725 0.03329341 0.03568862 0.03784431 0.04\n",
      " 0.04287425 0.04502994 0.04838323 0.05053892 0.05317365 0.05556886\n",
      " 0.0594012  0.06275449 0.06562874 0.06802395 0.06994012 0.07281437\n",
      " 0.0754491  0.07832335 0.08       0.08263473 0.08622754 0.08982036\n",
      " 0.09437126 0.09676647 0.09916168 0.10227545 0.10538922 0.1097006\n",
      " 0.11113772 0.11449102 0.11760479 0.12       0.12239521 0.12526946\n",
      " 0.12766467 0.13005988 0.13293413 0.1360479  0.13820359 0.13964072\n",
      " 0.14419162 0.14922156 0.15233533 0.15520958 0.15712575 0.16143713\n",
      " 0.16479042 0.16742515 0.17053892 0.17269461 0.17508982 0.17964072\n",
      " 0.18323353 0.18634731 0.18874251 0.19161677 0.19329341 0.19592814\n",
      " 0.19928144 0.20215569 0.20383234 0.20550898 0.20790419 0.21077844\n",
      " 0.21245509 0.21341317 0.21508982 0.21700599 0.21916168 0.2239521\n",
      " 0.22586826 0.22874251 0.23209581 0.23449102 0.23760479 0.24071856\n",
      " 0.24502994 0.24838323]\n"
     ]
    }
   ],
   "source": [
    "seg_accuracy, beat_accuracy = evaluate(\"experiments/expTest650\", hop_length=650)\n",
    "#seg_accuracy, beat_accuracy = evaluate(\"baselines/debug2\")"
   ]
  },
  {
   "cell_type": "code",
   "execution_count": 75,
   "metadata": {
    "ExecuteTime": {
     "end_time": "2020-05-09T23:15:21.181885Z",
     "start_time": "2020-05-09T23:14:17.493288Z"
    }
   },
   "outputs": [
    {
     "name": "stdout",
     "output_type": "stream",
     "text": [
      "experiments/expFinal/p1s_perf12-p1f_perf16.hyp\n",
      "p1s_perf12 p1f_perf16\n",
      "321005.66666804993 643072\n",
      "p1f_perf16 p1s_perf12\n",
      "835817.99999355 1671168\n",
      "p1s_perf12 p1f_perf16\n",
      "1028585.66665995 2057216\n",
      "p1f_perf16 p1s_perf12\n",
      "1278591.3333396 2556928\n",
      "p1s_perf12 p1f_perf16\n",
      "1748310.6666711 3481600\n",
      "p1f_perf16 p1s_perf12\n",
      "2446039.333332 4890624\n",
      "p1s_perf12 p1f_perf16\n",
      "2446039.333332 4891648\n",
      "p1f_perf16 p1s_perf12\n",
      "3391034.9999967 6793216\n",
      "p1s_perf12 p1f_perf16\n",
      "3441541.333335 6883328\n",
      "p1f_perf16 p1s_perf12\n",
      "3888554.6666641505 7780352\n",
      "experiments/expFinal/p1s_perf12-p1f_perf2.hyp\n",
      "p1s_perf12 p1f_perf2\n",
      "404050.66666229995 814080\n",
      "p1f_perf2 p1s_perf12\n",
      "894322.0000071 1785856\n",
      "p1s_perf12 p1f_perf2\n",
      "1065107.0000014498 2135040\n",
      "p1f_perf2 p1s_perf12\n",
      "1298349.99999705 2592768\n",
      "p1s_perf12 p1f_perf2\n",
      "1749710.6666676002 3474432\n",
      "p1f_perf2 p1s_perf12\n",
      "2465094.33333345 4927488\n",
      "p1s_perf12 p1f_perf2\n",
      "2465094.33333345 4936704\n",
      "p1f_perf2 p1s_perf12\n",
      "3450449.3333341503 6913024\n",
      "p1s_perf12 p1f_perf2\n",
      "3518185.9999944 7038976\n",
      "p1f_perf2 p1s_perf12\n",
      "3928012.66666305 7966720\n",
      "experiments/expFinal/p1s_perf12-p1f_perf23.hyp\n",
      "p1s_perf12 p1f_perf23\n",
      "276596.0000034 552960\n",
      "p1f_perf23 p1s_perf12\n",
      "765319.3333400999 1529856\n",
      "p1s_perf12 p1f_perf23\n",
      "934521.33333195 1866752\n",
      "p1f_perf23 p1s_perf12\n",
      "1169986.9999933501 2339840\n",
      "p1s_perf12 p1f_perf23\n",
      "1618488.0000029998 3225600\n",
      "p1f_perf23 p1s_perf12\n",
      "2335731.3333354 4671488\n",
      "p1s_perf12 p1f_perf23\n",
      "2335731.3333354 4670464\n",
      "p1f_perf23 p1s_perf12\n",
      "3323518.0000008005 6658048\n",
      "p1s_perf12 p1f_perf23\n",
      "3386342.3333365507 6780928\n",
      "p1f_perf23 p1s_perf12\n",
      "3797529.00000075 7698432\n",
      "experiments/expFinal/p1s_perf12-p1f_perf24.hyp\n",
      "p1s_perf12 p1f_perf24\n",
      "423670.3333317 847872\n",
      "p1f_perf24 p1s_perf12\n",
      "939182.3333329501 1876992\n",
      "p1s_perf12 p1f_perf24\n",
      "1130737.6666635 2262016\n",
      "p1f_perf24 p1s_perf12\n",
      "1381141.00000695 2759680\n",
      "p1s_perf12 p1f_perf24\n",
      "1850712.6666714002 3686400\n",
      "p1f_perf24 p1s_perf12\n",
      "2548239.3333337503 5093376\n",
      "p1s_perf12 p1f_perf24\n",
      "2548239.3333337503 5096448\n",
      "p1f_perf24 p1s_perf12\n",
      "3493643.6666648993 6999040\n",
      "p1s_perf12 p1f_perf24\n",
      "3543289.6666713 7088128\n",
      "p1f_perf24 p1s_perf12\n",
      "3991737.33333165 7984128\n",
      "experiments/expFinal/p1s_perf12-p1f_perf6.hyp\n",
      "p1s_perf12 p1f_perf6\n",
      "278335.33332990005 558080\n",
      "p1f_perf6 p1s_perf12\n",
      "764397.33333915 1523712\n",
      "p1s_perf12 p1f_perf6\n",
      "937284.99999645 1874944\n",
      "p1f_perf6 p1s_perf12\n",
      "1169542.9999953 2338816\n",
      "p1s_perf12 p1f_perf6\n",
      "1617952.3333333503 3227648\n",
      "p1f_perf6 p1s_perf12\n",
      "2333776.666662 4667392\n",
      "p1s_perf12 p1f_perf6\n",
      "2333776.666662 4686848\n",
      "p1f_perf6 p1s_perf12\n",
      "3322887.66666885 6659072\n",
      "p1s_perf12 p1f_perf6\n",
      "3383567.0000023497 6768640\n",
      "p1f_perf6 p1s_perf12\n",
      "3799099.9999963506 7677952\n",
      "experiments/expFinal/p1s_perf2-p1f_perf16.hyp\n",
      "p1s_perf2 p1f_perf16\n",
      "321005.66666804993 637952\n",
      "p1f_perf16 p1s_perf2\n",
      "835817.99999355 1670144\n",
      "p1s_perf2 p1f_perf16\n",
      "1028585.66665995 2050048\n",
      "p1f_perf16 p1s_perf2\n",
      "1278591.3333396 2556928\n",
      "p1s_perf2 p1f_perf16\n",
      "1748310.6666711 3488768\n",
      "p1f_perf16 p1s_perf2\n",
      "2446039.333332 4892672\n",
      "p1s_perf2 p1f_perf16\n",
      "2446039.333332 4895744\n",
      "p1f_perf16 p1s_perf2\n",
      "3391034.9999967 6778880\n",
      "p1s_perf2 p1f_perf16\n",
      "3441541.333335 6888448\n",
      "p1f_perf16 p1s_perf2\n",
      "3888554.6666641505 7780352\n",
      "experiments/expFinal/p1s_perf2-p1f_perf2.hyp\n",
      "p1s_perf2 p1f_perf2\n",
      "404050.66666229995 805888\n",
      "p1f_perf2 p1s_perf2\n",
      "894322.0000071 1784832\n",
      "p1s_perf2 p1f_perf2\n",
      "1065107.0000014498 2118656\n",
      "p1f_perf2 p1s_perf2\n",
      "1298349.99999705 2593792\n",
      "p1s_perf2 p1f_perf2\n",
      "1749710.6666676002 3479552\n",
      "p1f_perf2 p1s_perf2\n",
      "2465094.33333345 4928512\n",
      "p1s_perf2 p1f_perf2\n",
      "2465094.33333345 4928512\n",
      "p1f_perf2 p1s_perf2\n",
      "3450449.3333341503 6898688\n",
      "p1s_perf2 p1f_perf2\n",
      "3518185.9999944 7042048\n",
      "p1f_perf2 p1s_perf2\n",
      "3928012.66666305 7854080\n",
      "experiments/expFinal/p1s_perf2-p1f_perf23.hyp\n",
      "p1s_perf2 p1f_perf23\n",
      "276596.0000034 549888\n",
      "p1f_perf23 p1s_perf2\n",
      "765319.3333400999 1529856\n",
      "p1s_perf2 p1f_perf23\n",
      "934521.33333195 1864704\n",
      "p1f_perf23 p1s_perf2\n",
      "1169986.9999933501 2339840\n",
      "p1s_perf2 p1f_perf23\n",
      "1618488.0000029998 3237888\n",
      "p1f_perf23 p1s_perf2\n",
      "2335731.3333354 4672512\n",
      "p1s_perf2 p1f_perf23\n",
      "2335731.3333354 4674560\n",
      "p1f_perf23 p1s_perf2\n",
      "3323518.0000008005 6635520\n",
      "p1s_perf2 p1f_perf23\n",
      "3386342.3333365507 6772736\n",
      "p1f_perf23 p1s_perf2\n",
      "3797529.00000075 7632896\n",
      "experiments/expFinal/p1s_perf2-p1f_perf24.hyp\n",
      "p1s_perf2 p1f_perf24\n",
      "423670.3333317 845824\n",
      "p1f_perf24 p1s_perf2\n",
      "939182.3333329501 1876992\n",
      "p1s_perf2 p1f_perf24\n",
      "1130737.6666635 2256896\n",
      "p1f_perf24 p1s_perf2\n",
      "1381141.00000695 2761728\n",
      "p1s_perf2 p1f_perf24\n",
      "1850712.6666714002 3687424\n",
      "p1f_perf24 p1s_perf2\n",
      "2548239.3333337503 5094400\n",
      "p1s_perf2 p1f_perf24\n",
      "2548239.3333337503 5100544\n",
      "p1f_perf24 p1s_perf2\n",
      "3493643.6666648993 6983680\n",
      "p1s_perf2 p1f_perf24\n",
      "3543289.6666713 7095296\n",
      "p1f_perf24 p1s_perf2\n",
      "3991737.33333165 7982080\n",
      "experiments/expFinal/p1s_perf2-p1f_perf6.hyp\n",
      "p1s_perf2 p1f_perf6\n",
      "278335.33332990005 555008\n",
      "p1f_perf6 p1s_perf2\n",
      "764397.33333915 1522688\n",
      "p1s_perf2 p1f_perf6\n",
      "937284.99999645 1870848\n",
      "p1f_perf6 p1s_perf2\n",
      "1169542.9999953 2338816\n",
      "p1s_perf2 p1f_perf6\n",
      "1617952.3333333503 3222528\n",
      "p1f_perf6 p1s_perf2\n",
      "2333776.666662 4667392\n",
      "p1s_perf2 p1f_perf6\n",
      "2333776.666662 4672512\n",
      "p1f_perf6 p1s_perf2\n",
      "3322887.66666885 6622208\n",
      "p1s_perf2 p1f_perf6\n",
      "3383567.0000023497 6778880\n",
      "p1f_perf6 p1s_perf2\n",
      "3799099.9999963506 7614464\n",
      "experiments/expFinal/p1s_perf25-p1f_perf16.hyp\n",
      "p1s_perf25 p1f_perf16\n",
      "321005.66666804993 641024\n",
      "p1f_perf16 p1s_perf25\n",
      "835817.99999355 1672192\n",
      "p1s_perf25 p1f_perf16\n",
      "1028585.66665995 2054144\n",
      "p1f_perf16 p1s_perf25\n",
      "1278591.3333396 2556928\n",
      "p1s_perf25 p1f_perf16\n",
      "1748310.6666711 3500032\n",
      "p1f_perf16 p1s_perf25\n",
      "2446039.333332 4893696\n",
      "p1s_perf25 p1f_perf16\n",
      "2446039.333332 4909056\n",
      "p1f_perf16 p1s_perf25\n",
      "3391034.9999967 6818816\n",
      "p1s_perf25 p1f_perf16\n",
      "3441541.333335 6885376\n",
      "p1f_perf16 p1s_perf25\n",
      "3888554.6666641505 7948288\n",
      "experiments/expFinal/p1s_perf25-p1f_perf2.hyp\n",
      "p1s_perf25 p1f_perf2\n",
      "404050.66666229995 815104\n",
      "p1f_perf2 p1s_perf25\n",
      "894322.0000071 1786880\n",
      "p1s_perf25 p1f_perf2\n",
      "1065107.0000014498 2132992\n",
      "p1f_perf2 p1s_perf25\n",
      "1298349.99999705 2595840\n",
      "p1s_perf25 p1f_perf2\n",
      "1749710.6666676002 3483648\n",
      "p1f_perf2 p1s_perf25\n",
      "2465094.33333345 4931584\n",
      "p1s_perf25 p1f_perf2\n",
      "2465094.33333345 4937728\n",
      "p1f_perf2 p1s_perf25\n",
      "3450449.3333341503 6901760\n",
      "p1s_perf25 p1f_perf2\n",
      "3518185.9999944 7040000\n",
      "p1f_perf2 p1s_perf25\n",
      "3928012.66666305 8167424\n"
     ]
    },
    {
     "ename": "KeyboardInterrupt",
     "evalue": "",
     "output_type": "error",
     "traceback": [
      "\u001b[0;31m---------------------------------------------------------------------------\u001b[0m",
      "\u001b[0;31mKeyboardInterrupt\u001b[0m                         Traceback (most recent call last)",
      "\u001b[0;32m<ipython-input-75-412a64844b0e>\u001b[0m in \u001b[0;36m<module>\u001b[0;34m\u001b[0m\n\u001b[0;32m----> 1\u001b[0;31m \u001b[0mseg_accuracy\u001b[0m\u001b[0;34m,\u001b[0m \u001b[0mbeat_accuracy\u001b[0m \u001b[0;34m=\u001b[0m \u001b[0mevaluate\u001b[0m\u001b[0;34m(\u001b[0m\u001b[0;34m\"experiments/expFinal\"\u001b[0m\u001b[0;34m)\u001b[0m\u001b[0;34m\u001b[0m\u001b[0;34m\u001b[0m\u001b[0m\n\u001b[0m",
      "\u001b[0;32m<ipython-input-56-26a9e7ff1962>\u001b[0m in \u001b[0;36mevaluate\u001b[0;34m(hypdir, hop_length, sr)\u001b[0m\n\u001b[1;32m     17\u001b[0m         \u001b[0;31m#print(segment_predict)\u001b[0m\u001b[0;34m\u001b[0m\u001b[0;34m\u001b[0m\u001b[0;34m\u001b[0m\u001b[0m\n\u001b[1;32m     18\u001b[0m         \u001b[0msegment_diffs\u001b[0m\u001b[0;34m,\u001b[0m \u001b[0mgt_samples\u001b[0m\u001b[0;34m,\u001b[0m \u001b[0msegment_predict\u001b[0m \u001b[0;34m=\u001b[0m \u001b[0mevaluateSegmentLevel\u001b[0m\u001b[0;34m(\u001b[0m\u001b[0msegment_predict\u001b[0m\u001b[0;34m,\u001b[0m \u001b[0msolo_name\u001b[0m\u001b[0;34m,\u001b[0m \u001b[0mref_name\u001b[0m\u001b[0;34m)\u001b[0m\u001b[0;34m\u001b[0m\u001b[0;34m\u001b[0m\u001b[0m\n\u001b[0;32m---> 19\u001b[0;31m         \u001b[0;32mif\u001b[0m \u001b[0many\u001b[0m\u001b[0;34m(\u001b[0m\u001b[0mtf\u001b[0m\u001b[0;34m!=\u001b[0m\u001b[0;32mNone\u001b[0m\u001b[0;34m)\u001b[0m\u001b[0;34m:\u001b[0m\u001b[0;34m\u001b[0m\u001b[0;34m\u001b[0m\u001b[0m\n\u001b[0m\u001b[1;32m     20\u001b[0m             \u001b[0mbeat_diffs\u001b[0m \u001b[0;34m=\u001b[0m \u001b[0mevaluateBeatLevel\u001b[0m\u001b[0;34m(\u001b[0m\u001b[0mtf\u001b[0m\u001b[0;34m,\u001b[0m \u001b[0msegment_predict\u001b[0m\u001b[0;34m,\u001b[0m \u001b[0msolo_name\u001b[0m\u001b[0;34m,\u001b[0m \u001b[0mref_name\u001b[0m\u001b[0;34m)\u001b[0m\u001b[0;34m\u001b[0m\u001b[0;34m\u001b[0m\u001b[0m\n\u001b[1;32m     21\u001b[0m             \u001b[0mbeat_diffsFirst\u001b[0m \u001b[0;34m=\u001b[0m \u001b[0mevaluateBeatLevelFirst\u001b[0m\u001b[0;34m(\u001b[0m\u001b[0mtf\u001b[0m\u001b[0;34m,\u001b[0m \u001b[0msegment_predict\u001b[0m\u001b[0;34m,\u001b[0m \u001b[0msolo_name\u001b[0m\u001b[0;34m,\u001b[0m \u001b[0mref_name\u001b[0m\u001b[0;34m)\u001b[0m\u001b[0;34m\u001b[0m\u001b[0;34m\u001b[0m\u001b[0m\n",
      "\u001b[0;31mKeyboardInterrupt\u001b[0m: "
     ]
    }
   ],
   "source": [
    "seg_accuracy, beat_accuracy = evaluate(\"experiments/expFinal\")"
   ]
  },
  {
   "cell_type": "code",
   "execution_count": 50,
   "metadata": {
    "ExecuteTime": {
     "end_time": "2020-05-10T05:39:02.797818Z",
     "start_time": "2020-05-10T05:38:30.671020Z"
    },
    "scrolled": true
   },
   "outputs": [
    {
     "name": "stdout",
     "output_type": "stream",
     "text": [
      "hop_length 512\n",
      "[nan nan nan]\n",
      "[nan nan nan nan nan nan nan nan nan nan nan nan nan nan nan nan nan nan\n",
      " nan nan nan nan nan nan nan nan nan nan nan nan nan nan nan nan nan nan\n",
      " nan nan nan nan nan nan nan nan nan nan nan nan nan nan nan nan nan nan\n",
      " nan nan nan nan nan nan nan nan nan nan nan nan nan nan nan nan nan nan\n",
      " nan nan nan nan nan nan nan nan]\n"
     ]
    },
    {
     "name": "stderr",
     "output_type": "stream",
     "text": [
      "/home/dyang/anaconda3/envs/MIR5/lib/python3.7/site-packages/ipykernel_launcher.py:45: RuntimeWarning: invalid value encountered in true_divide\n",
      "/home/dyang/anaconda3/envs/MIR5/lib/python3.7/site-packages/ipykernel_launcher.py:46: RuntimeWarning: invalid value encountered in true_divide\n",
      "/home/dyang/anaconda3/envs/MIR5/lib/python3.7/site-packages/ipykernel_launcher.py:47: RuntimeWarning: invalid value encountered in true_divide\n"
     ]
    }
   ],
   "source": [
    "seg_accuracy, beat_accuracy = evaluate(\"baselines/test4\")"
   ]
  },
  {
   "cell_type": "code",
   "execution_count": 81,
   "metadata": {},
   "outputs": [
    {
     "data": {
      "text/plain": [
       "['(1.1,12.3)', '(13.1,35.1)', '(35.3,57.3)', '(58.1,71.1)', '(71.3,80.1)']"
      ]
     },
     "execution_count": 81,
     "metadata": {},
     "output_type": "execute_result"
    }
   ],
   "source": [
    "[0.952, 0.972, 0.976, 0.976, 0.976, 0.96, 0.944, 0.92, 0.892, ]"
   ]
  },
  {
   "cell_type": "code",
   "execution_count": 22,
   "metadata": {
    "ExecuteTime": {
     "end_time": "2020-05-09T23:16:59.135440Z",
     "start_time": "2020-05-09T23:16:59.127404Z"
    }
   },
   "outputs": [],
   "source": [
    "beat_y = beat_accuracy\n",
    "beat_x = np.arange(0.05, 2, 0.05)"
   ]
  },
  {
   "cell_type": "code",
   "execution_count": 57,
   "metadata": {
    "ExecuteTime": {
     "end_time": "2020-05-09T23:17:32.286428Z",
     "start_time": "2020-05-09T23:17:32.281353Z"
    }
   },
   "outputs": [],
   "source": [
    "beat_y = beat_accuracy\n",
    "beat_x = np.arange(0.05, 2, 0.05)"
   ]
  },
  {
   "cell_type": "code",
   "execution_count": 58,
   "metadata": {
    "ExecuteTime": {
     "end_time": "2020-05-09T23:17:32.926350Z",
     "start_time": "2020-05-09T23:17:32.785917Z"
    }
   },
   "outputs": [
    {
     "data": {
      "text/plain": [
       "Text(0, 0.5, 'Error')"
      ]
     },
     "execution_count": 58,
     "metadata": {},
     "output_type": "execute_result"
    },
    {
     "data": {
      "image/png": "[encoded data removed]",
      "text/plain": [
       "<Figure size 432x288 with 1 Axes>"
      ]
     },
     "metadata": {
      "needs_background": "light"
     },
     "output_type": "display_data"
    }
   ],
   "source": [
    "x=np.arange(0.0, 2, 0.025)\n",
    "plt.rcParams.update({'font.size': 15})\n",
    "plt.gca().set_yticklabels(['{:.0f}%'.format(x*100) for x in plt.gca().get_yticks()]) \n",
    "plt.plot(x, 1-np.array(beat_accuracy), linewidth=3)\n",
    "plt.xticks(np.arange(min(x), max(x)+.1, 0.2))\n",
    "plt.xlabel('Error Tolerance(s)', fontsize=20)\n",
    "plt.ylabel('Error', fontsize=20)"
   ]
  },
  {
   "cell_type": "code",
   "execution_count": 65,
   "metadata": {},
   "outputs": [
    {
     "data": {
      "text/plain": [
       "['(9.1,24.1)', '(29.1,36.1)', '(49.1,68.1)', '(68.1,95.1)', '(96.1,109.1)']"
      ]
     },
     "execution_count": 65,
     "metadata": {},
     "output_type": "execute_result"
    }
   ],
   "source": [
    "queryInfo['p1s']"
   ]
  },
  {
   "cell_type": "code",
   "execution_count": 66,
   "metadata": {},
   "outputs": [
    {
     "data": {
      "text/plain": [
       "{'1.1': 0.7393801963333333,\n",
       " '1.2': 1.458956916,\n",
       " '2.1': 2.19303099,\n",
       " '2.2': 2.815238095333333,\n",
       " '3.1': 3.461980347333333,\n",
       " '3.2': 4.078760393333334,\n",
       " '4.1': 4.729070294666666,\n",
       " '4.2': 5.400090703,\n",
       " '5.1': 6.018654573,\n",
       " '5.2': 6.651186697,\n",
       " '6.1': 7.249297052333333,\n",
       " '6.2': 7.944081632666667,\n",
       " '7.1': 8.635631141333333,\n",
       " '7.2': 9.349130763666667,\n",
       " '8.1': 9.972804233,\n",
       " '8.2': 10.94,\n",
       " '9.1': 12.544036281333334,\n",
       " '9.2': 13.276462585333334,\n",
       " '10.1': 14.010113378666667,\n",
       " '10.2': 14.742418745333334,\n",
       " '11.1': 15.459410430666667,\n",
       " '11.2': 16.144323507333336,\n",
       " '12.1': 16.866455026666667,\n",
       " '12.2': 17.63088435366667,\n",
       " '13.1': 18.41077853366667,\n",
       " '13.2': 19.130234316,\n",
       " '14.1': 19.889236583333332,\n",
       " '14.2': 20.651020408,\n",
       " '15.1': 21.42299319733333,\n",
       " '15.2': 22.121632652999995,\n",
       " '16.1': 22.859833711333334,\n",
       " '16.2': 23.630113378999997,\n",
       " '17.1': 24.394996220666666,\n",
       " '17.2': 25.254089191000002,\n",
       " '18.1': 26.001254724333336,\n",
       " '18.2': 26.728223734,\n",
       " '19.1': 27.46341647766667,\n",
       " '19.2': 28.170007558333335,\n",
       " '20.1': 28.912139077999996,\n",
       " '20.2': 29.652169312,\n",
       " '21.1': 30.389599395333335,\n",
       " '21.2': 31.096281179,\n",
       " '22.1': 31.807815570666666,\n",
       " '22.2': 32.508027211000005,\n",
       " '23.1': 33.274845049,\n",
       " '23.2': 33.970869236666665,\n",
       " '24.1': 34.70835978866666,\n",
       " '24.2': 35.45806500366667,\n",
       " '25.1': 36.24098261500001,\n",
       " '25.2': 37.00380952366667,\n",
       " '26.1': 37.776734694,\n",
       " '26.2': 38.53099017366667,\n",
       " '27.1': 39.25133786866667,\n",
       " '27.2': 40.012335601,\n",
       " '28.1': 40.802585033999996,\n",
       " '28.2': 41.629659864,\n",
       " '29.1': 42.381919879,\n",
       " '29.2': 43.153303099,\n",
       " '30.1': 43.90370370366666,\n",
       " '30.2': 44.67690098233333,\n",
       " '31.1': 45.426455026333336,\n",
       " '31.2': 46.17103552533333,\n",
       " '32.1': 46.927906274,\n",
       " '32.2': 47.749674981,\n",
       " '33.1': 48.52825396833333,\n",
       " '33.2': 49.247316704666666,\n",
       " '34.1': 50.0430839,\n",
       " '34.2': 50.78740740733334,\n",
       " '35.1': 51.55804988666667,\n",
       " '35.2': 52.29061224466667,\n",
       " '36.1': 53.060634920333335,\n",
       " '36.2': 53.800831443666674,\n",
       " '37.1': 54.56523053666666,\n",
       " '37.2': 55.28553287966667,\n",
       " '38.1': 56.177687074666665,\n",
       " '38.2': 56.95528344666667,\n",
       " '39.1': 57.69897203333333,\n",
       " '39.2': 58.406303855000004,\n",
       " '40.1': 59.121859410333336,\n",
       " '40.2': 59.83402872233333,\n",
       " '41.1': 60.587105064000006,\n",
       " '41.2': 61.29981859400001,\n",
       " '42.1': 62.139213907666665,\n",
       " '42.2': 62.90950869233333,\n",
       " '43.1': 63.663144369,\n",
       " '43.2': 64.33516250933333,\n",
       " '44.1': 65.067543462,\n",
       " '44.2': 65.79987906233333,\n",
       " '45.1': 66.609342404,\n",
       " '45.2': 67.39154950866667,\n",
       " '46.1': 68.16829931966667,\n",
       " '46.2': 68.99800453533334,\n",
       " '47.1': 69.939924414,\n",
       " '47.2': 70.83850340133334,\n",
       " '48.1': 71.655570673,\n",
       " '48.2': 72.49585789866667,\n",
       " '49.1': 73.40081632666666,\n",
       " '49.2': 74.22613756599999,\n",
       " '50.1': 75.05030990166667,\n",
       " '50.2': 75.85712774,\n",
       " '51.1': 76.666984127,\n",
       " '51.2': 77.45097505666666,\n",
       " '52.1': 78.278170824,\n",
       " '52.2': 79.08480725599999,\n",
       " '53.1': 79.93360544233333,\n",
       " '53.2': 80.68465608466667,\n",
       " '54.1': 81.49109599366666,\n",
       " '54.2': 82.28529100533335,\n",
       " '55.1': 83.08483749066666,\n",
       " '55.2': 83.96343159466666,\n",
       " '56.1': 84.72618291766666,\n",
       " '56.2': 85.567936508,\n",
       " '57.1': 86.70352229766667,\n",
       " '57.2': 87.70964474700001,\n",
       " '58.1': 88.47927437666665,\n",
       " '58.2': 89.25829176133333,\n",
       " '59.1': 90.10379440666667,\n",
       " '59.2': 90.92681783833335,\n",
       " '60.1': 91.76578987133335,\n",
       " '60.2': 92.59877551,\n",
       " '61.1': 93.44675736966667,\n",
       " '61.2': 94.26290249433333,\n",
       " '62.1': 95.09470899466668,\n",
       " '62.2': 95.96146636433333,\n",
       " '63.1': 96.82390022666665,\n",
       " '63.2': 97.62801209366667,\n",
       " '64.1': 98.42448979599999,\n",
       " '64.2': 99.27544973533332,\n",
       " '65.1': 100.11647770233333,\n",
       " '65.2': 100.86917611466667,\n",
       " '66.1': 101.65268329566668,\n",
       " '66.2': 102.49747543466667,\n",
       " '67.1': 103.43959183666665,\n",
       " '67.2': 104.56453514766667,\n",
       " '68.1': 105.92885865466667,\n",
       " '68.2': 106.77103552533333,\n",
       " '69.1': 107.672743764,\n",
       " '69.2': 108.545260771,\n",
       " '70.1': 109.49402872233333,\n",
       " '70.2': 110.35256235833333,\n",
       " '71.1': 111.241632653,\n",
       " '71.2': 112.101148904,\n",
       " '72.1': 112.98237339366669,\n",
       " '72.2': 113.84947845800001,\n",
       " '73.1': 114.78110355266665,\n",
       " '73.2': 115.66702947833333,\n",
       " '74.1': 116.54925170066667,\n",
       " '74.2': 117.45544973533333,\n",
       " '75.1': 118.34331065766666,\n",
       " '75.2': 119.22411186733332,\n",
       " '76.1': 120.15136810266665,\n",
       " '76.2': 121.05278911566666,\n",
       " '77.1': 121.97324263033333,\n",
       " '77.2': 122.89986394566667,\n",
       " '78.1': 123.78749811033333,\n",
       " '78.2': 124.659229025,\n",
       " '79.1': 125.52075585799999,\n",
       " '79.2': 126.361904762,\n",
       " '80.1': 127.22687830699999,\n",
       " '80.2': 128.10300831466665,\n",
       " '81.1': 129.02464096766667,\n",
       " '81.2': 129.91076341633334,\n",
       " '82.1': 130.81183673466666,\n",
       " '82.2': 131.74887377200002,\n",
       " '83.1': 132.67421012833333,\n",
       " '83.2': 133.54799697633334,\n",
       " '84.1': 134.47830687833334,\n",
       " '84.2': 135.347467876,\n",
       " '85.1': 136.14320483733334,\n",
       " '85.2': 136.88055933466669,\n",
       " '86.1': 137.61170068,\n",
       " '86.2': 138.33476946366667,\n",
       " '87.1': 139.05871504166666,\n",
       " '87.2': 139.76693877533333,\n",
       " '88.1': 140.4934542706667,\n",
       " '88.2': 141.22854119433333,\n",
       " '89.1': 141.95352985633335,\n",
       " '89.2': 142.68665154966666,\n",
       " '90.1': 143.41284958433332,\n",
       " '90.2': 144.11322751333333,\n",
       " '91.1': 144.82962962966667,\n",
       " '91.2': 145.52828420266667,\n",
       " '92.1': 146.22022675733334,\n",
       " '92.2': 146.929750567,\n",
       " '93.1': 147.61558578999998,\n",
       " '93.2': 148.32119425566668,\n",
       " '94.1': 149.05659863966665,\n",
       " '94.2': 149.817460317,\n",
       " '95.1': 150.72643990933335,\n",
       " '95.2': 151.810839002,\n",
       " '96.1': 153.57561602433336,\n",
       " '96.2': 154.40866213133333,\n",
       " '97.1': 155.21727891133335,\n",
       " '97.2': 155.96990173833333,\n",
       " '98.1': 156.75552532133332,\n",
       " '98.2': 157.48897959166666,\n",
       " '99.1': 158.27173091466668,\n",
       " '99.2': 159.05761148899998,\n",
       " '100.1': 159.837294029,\n",
       " '100.2': 160.60919123200003,\n",
       " '101.1': 161.38997732433333,\n",
       " '101.2': 162.13324263066667,\n",
       " '102.1': 162.90081632666667,\n",
       " '102.2': 163.69275888133333,\n",
       " '103.1': 164.79387755066668,\n",
       " '103.2': 165.47871504133334,\n",
       " '104.1': 166.04650037800002,\n",
       " '104.2': 166.60606198066668,\n",
       " '105.1': 167.23661375666669,\n",
       " '105.2': 167.83587301600002,\n",
       " '106.1': 168.448148148,\n",
       " '106.2': 169.04955404366663,\n",
       " '107.1': 169.60473167033334,\n",
       " '107.2': 170.25260770966668,\n",
       " '108.1': 170.8559939533333,\n",
       " '108.2': 171.49360544233332,\n",
       " '109.1': 172.223537415,\n",
       " '109.2': 173.04154195,\n",
       " '110.1': 173.96943310633333,\n",
       " '110.2': nan}"
      ]
     },
     "execution_count": 66,
     "metadata": {},
     "output_type": "execute_result"
    }
   ],
   "source": [
    "timeData['p1f_perf23']"
   ]
  },
  {
   "cell_type": "code",
   "execution_count": 26,
   "metadata": {},
   "outputs": [],
   "source": [
    "beat = 0\n",
    "for key in timeData.keys():\n",
    "    beat+=len(timeData[key])"
   ]
  },
  {
   "cell_type": "code",
   "execution_count": 28,
   "metadata": {},
   "outputs": [
    {
     "data": {
      "text/plain": [
       "11076"
      ]
     },
     "execution_count": 28,
     "metadata": {},
     "output_type": "execute_result"
    }
   ],
   "source": [
    "beat"
   ]
  },
  {
   "cell_type": "code",
   "execution_count": 70,
   "metadata": {},
   "outputs": [
    {
     "data": {
      "text/plain": [
       "Text(0.5, 1.0, 'Sorted Solo Segment Lengths in Seconds')"
      ]
     },
     "execution_count": 70,
     "metadata": {},
     "output_type": "execute_result"
    },
    {
     "data": {
      "image/png": "[encoded data removed]",
      "text/plain": [
       "<Figure size 432x288 with 1 Axes>"
      ]
     },
     "metadata": {
      "needs_background": "light"
     },
     "output_type": "display_data"
    }
   ],
   "source": [
    "beats = {}\n",
    "for key in queryInfo:\n",
    "    if 's' in key:\n",
    "        data = queryInfo[key]\n",
    "        for segment in data:\n",
    "            beat1 = segment.split(\",\")[0][1:]\n",
    "            beat2 = segment.split(\",\")[1][:-1]\n",
    "            if key in beats:\n",
    "                beats[key].append((beat1,beat2))\n",
    "            else:\n",
    "                beats[key] = [(beat1,beat2)]\n",
    "times={}\n",
    "for key in timeData:\n",
    "    pieceName = key.split(\"_\")[0]\n",
    "    if 's' in pieceName:\n",
    "        for beat1, beat2 in beats[pieceName]:\n",
    "            t1 = timeData[key][beat1]\n",
    "            t2 = timeData[key][beat2]\n",
    "            if pieceName in times:\n",
    "                times[pieceName].append(t2-t1)\n",
    "            else:\n",
    "                times[pieceName]=[t2-t1]\n",
    "for key in times:\n",
    "    plt.scatter(np.arange(len(times[key])),sorted(times[key])[::-1], label = '{}'.format(key))\n",
    "plt.legend(loc=\"upper right\",fontsize = 14)\n",
    "plt.title(\"Sorted Solo Segment Lengths in Seconds\")"
   ]
  },
  {
   "cell_type": "code",
   "execution_count": null,
   "metadata": {},
   "outputs": [],
   "source": [
    "beats = {}\n",
    "for key in audioFiles:\n",
    "    if 's' in key:\n",
    "        for audio in audioFiles[key]\n",
    "    "
   ]
  }
 ],
 "metadata": {
  "kernelspec": {
   "display_name": "Python 3",
   "language": "python",
   "name": "python3"
  },
  "language_info": {
   "codemirror_mode": {
    "name": "ipython",
    "version": 3
   },
   "file_extension": ".py",
   "mimetype": "text/x-python",
   "name": "python",
   "nbconvert_exporter": "python",
   "pygments_lexer": "ipython3",
   "version": "3.7.6"
  },
  "toc": {
   "base_numbering": 1,
   "nav_menu": {},
   "number_sections": true,
   "sideBar": true,
   "skip_h1_title": false,
   "title_cell": "Table of Contents",
   "title_sidebar": "Contents",
   "toc_cell": false,
   "toc_position": {},
   "toc_section_display": true,
   "toc_window_display": false
  }
 },
 "nbformat": 4,
 "nbformat_minor": 4
}
