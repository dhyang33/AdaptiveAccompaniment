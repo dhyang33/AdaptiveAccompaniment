{
 "cells": [
  {
   "cell_type": "code",
   "execution_count": 5,
   "metadata": {},
   "outputs": [
    {
     "name": "stdout",
     "output_type": "stream",
     "text": [
      "/mnt/c/Users/Daniel Yang/Desktop/Final_Project\n"
     ]
    }
   ],
   "source": [
    "import numpy as np\n",
    "import matplotlib.pyplot as plt\n",
    "import pickle as pkl\n",
    "%cd ../"
   ]
  },
  {
   "cell_type": "code",
   "execution_count": 6,
   "metadata": {},
   "outputs": [],
   "source": [
    "fileId_path = \"experiments/fileIds.pkl\"\n",
    "queryInfo_path = \"experiments/queryInfo.pkl\"\n",
    "timeData_path = \"experiments/timeData.pkl\"\n",
    "audioFiles_path = \"experiments/audioFiles.pkl\"\n",
    "with open(fileId_path, 'rb') as f:\n",
    "    fileIds=pkl.load(f)\n",
    "with open(queryInfo_path, 'rb') as f:\n",
    "    queryInfo=pkl.load(f)\n",
    "with open(timeData_path, 'rb') as f:\n",
    "    timeData=pkl.load(f)\n",
    "with open(audioFiles_path, 'rb') as f:\n",
    "    audioFiles=pkl.load(f)"
   ]
  },
  {
   "cell_type": "code",
   "execution_count": 4,
   "metadata": {},
   "outputs": [],
   "source": [
    "def readHypFiles(hypdir):\n",
    "    for hypfile in sorted(glob.glob(\"{}/*.hyp\".format(hypdir))):\n",
    "            print(hypfile)\n",
    "            with open(hypfile, \"rb\") as f:\n",
    "                l.append(pickle.load(f))"
   ]
  },
  {
   "cell_type": "code",
   "execution_count": null,
   "metadata": {},
   "outputs": [],
   "source": [
    "def evaluateSegmentLevel(segment_predict, solo_name, ref_name, sr=22050):\n",
    "    pieceName = solo_name.split('_')[0]\n",
    "    gt_segments = queryInfo[pieceName]\n",
    "    gt_samples = []\n",
    "    diffs = []\n",
    "    for beats in gt_segments:\n",
    "        beat1 = beats.split(',')[0][1:]\n",
    "        beat2 = beats.split(',')[1][:-1]\n",
    "        sample1 = timeData[ref_name][beat1]*512\n",
    "        sample2 = timeData[ref_name][beat2]*512\n",
    "        gt_samples.append[(sample1, sample2)]\n",
    "    for idx,segment in enumerate(segment_predict):\n",
    "        seg0 = segment[0]\n",
    "        seg1 = segment[1]\n",
    "        diff0 = np.abs(gt_samples[idx][0]-seg0)/sr\n",
    "        diff1 = np.abs(gt_samples[idx][1]-seg1)/sr\n",
    "        diffs.append(diff0)\n",
    "        diffs.append(diff1)\n",
    "    return diffs"
   ]
  },
  {
   "cell_type": "code",
   "execution_count": null,
   "metadata": {},
   "outputs": [],
   "source": [
    "def evaluateBeatLevel(tf, segment_predict, solo_name, ref_name):\n",
    "    # Only evaluate within segments\n",
    "    diffs = []\n",
    "    pieceName = solo_name.split('_')[0]\n",
    "    gt_segments = queryInfo[pieceName]\n",
    "    annotated_beats = sorted(list(timeData[ref_name].keys()))\n",
    "    for beats in gt_segments:\n",
    "        beat1 = beats.split(',')[0][1:]\n",
    "        beat2 = beats.split(',')[1][:-1]\n",
    "        idx1 = annotated_beats.find(beat1)\n",
    "        idx2 = annotated_beats.find(beat2)\n",
    "        base_time = timeData[ref_name][beat1]\n",
    "        new_times = {}\n",
    "        for i in range(idx1,idx2):\n",
    "            key = annotated_beats[i]\n",
    "            sample = (timeData[ref_name][key]-base_time)*sr\n",
    "            new_time = tf[sample]\n",
    "            new_times[key]=new_time\n",
    "        gt_beats = sorted(list(timeData[solo_name].keys()))\n",
    "        gt_base_time=timeData[solo_name][beat1]\n",
    "        for key in new_times:\n",
    "            if key in gt_beats:\n",
    "                gt_time = (timeData[solo_name][key]-gt_base_time)*sr\n",
    "                pred_time = new_times[key]\n",
    "                diffs.append(np.abs(gt_time-pred_time))\n",
    "    return diffs"
   ]
  },
  {
   "cell_type": "code",
   "execution_count": 6,
   "metadata": {},
   "outputs": [],
   "source": [
    "def evaluate(hypdir):\n",
    "    data = readHypFiles(hypdir)\n",
    "    times = []\n",
    "    for solo_name, ref_name, tf, segment_predict, time_taken in data:\n",
    "        segment_predict *= 512\n",
    "        segment_diffs = evaluateSegmentLevel(segment_predict, solo_name, ref_name)\n",
    "        beat_diffs = evaluateBeatLevel(tf, segment_predict, solo_name, ref_name)\n",
    "        times.append(time_taken)\n",
    "    "
   ]
  }
 ],
 "metadata": {
  "kernelspec": {
   "display_name": "Python 3",
   "language": "python",
   "name": "python3"
  },
  "language_info": {
   "codemirror_mode": {
    "name": "ipython",
    "version": 3
   },
   "file_extension": ".py",
   "mimetype": "text/x-python",
   "name": "python",
   "nbconvert_exporter": "python",
   "pygments_lexer": "ipython3",
   "version": "3.7.6"
  }
 },
 "nbformat": 4,
 "nbformat_minor": 4
}
