{
 "cells": [
  {
   "cell_type": "code",
   "execution_count": 1,
   "metadata": {},
   "outputs": [
    {
     "name": "stdout",
     "output_type": "stream",
     "text": [
      "/mnt/c/Users/Daniel Yang/Desktop/Final_Project\n"
     ]
    }
   ],
   "source": [
    "import numpy as np\n",
    "import matplotlib.pyplot as plt\n",
    "import pickle as pkl\n",
    "import glob\n",
    "%cd ../"
   ]
  },
  {
   "cell_type": "code",
   "execution_count": 2,
   "metadata": {},
   "outputs": [],
   "source": [
    "fileId_path = \"experiments/fileIds.pkl\"\n",
    "queryInfo_path = \"experiments/queryInfo.pkl\"\n",
    "timeData_path = \"experiments/timeData.pkl\"\n",
    "audioFiles_path = \"experiments/audioFiles.pkl\"\n",
    "with open(fileId_path, 'rb') as f:\n",
    "    fileIds=pkl.load(f)\n",
    "with open(queryInfo_path, 'rb') as f:\n",
    "    queryInfo=pkl.load(f)\n",
    "with open(timeData_path, 'rb') as f:\n",
    "    timeData=pkl.load(f)\n",
    "with open(audioFiles_path, 'rb') as f:\n",
    "    audioFiles=pkl.load(f)"
   ]
  },
  {
   "cell_type": "code",
   "execution_count": 3,
   "metadata": {},
   "outputs": [],
   "source": [
    "def readHypFiles(hypdir):\n",
    "    data = []\n",
    "    for hypfile in sorted(glob.glob(\"{}/*.hyp\".format(hypdir))):\n",
    "        print(hypfile)\n",
    "        with open(hypfile, \"rb\") as f:\n",
    "            data.append(pkl.load(f))\n",
    "    return data"
   ]
  },
  {
   "cell_type": "code",
   "execution_count": 4,
   "metadata": {},
   "outputs": [],
   "source": [
    "def evaluateBeatLevel(tf, segment_predict, solo_name, ref_name, sr=22050):\n",
    "    # Only evaluate within segments\n",
    "    diffs = []\n",
    "    pieceName = solo_name.split('_')[0]\n",
    "    gt_segments = queryInfo[pieceName]\n",
    "    annotated_beats = list(timeData[ref_name].keys())\n",
    "    for idx,beats in enumerate(gt_segments):\n",
    "        beat1 = beats.split(',')[0][1:]\n",
    "        beat2 = beats.split(',')[1][:-1]\n",
    "        idx1 = annotated_beats.index(beat1)\n",
    "        idx2 = annotated_beats.index(beat2)\n",
    "        #offset = int(timeData[ref_name][beat1]*sr)-segment_predict[idx][0]\n",
    "        base_time = tf[segment_predict[idx][0]]\n",
    "        #base_time = tf[int(timeData[ref_name][beat1]*sr)]\n",
    "        #print(offset)\n",
    "        \n",
    "        new_times = {}\n",
    "        for i in range(idx1,idx2+1):\n",
    "            key = annotated_beats[i]\n",
    "            sample = tf[int(timeData[ref_name][key]*sr)]\n",
    "            new_time = sample-base_time\n",
    "            new_times[key]=new_time\n",
    "            \n",
    "        gt_beats = list(timeData[solo_name].keys())\n",
    "        gt_base_time=timeData[solo_name][beat1]\n",
    "        prev = 0\n",
    "        prevgt = 0\n",
    "        for idx, key in enumerate(new_times):\n",
    "            if key in gt_beats:\n",
    "                gt_time = (timeData[solo_name][key]-gt_base_time)*sr\n",
    "                pred_time = new_times[key]\n",
    "                #f idx != 0:\n",
    "                #   print(\"diff\",gt_time-prevgt, pred_time-prev)\n",
    "                prev = pred_time\n",
    "                prevgt = gt_time\n",
    "                #rint(gt_time, pred_time)\n",
    "                diffs.append(np.abs(gt_time-pred_time))\n",
    "    return diffs"
   ]
  },
  {
   "cell_type": "code",
   "execution_count": 5,
   "metadata": {},
   "outputs": [],
   "source": [
    "def evaluateBeatLevelFirst(tf, segment_predict, solo_name, ref_name, sr=22050):\n",
    "    # Only evaluate within segments\n",
    "    diffs = []\n",
    "    pieceName = solo_name.split('_')[0]\n",
    "    gt_segments = queryInfo[pieceName]\n",
    "    annotated_beats = list(timeData[ref_name].keys())\n",
    "    for idx,beats in enumerate(gt_segments):\n",
    "        if idx!=1:\n",
    "            continue\n",
    "        beat1 = beats.split(',')[0][1:]\n",
    "        beat2 = beats.split(',')[1][:-1]\n",
    "        idx1 = annotated_beats.index(beat1)\n",
    "        idx2 = annotated_beats.index(beat2)\n",
    "        offset = int(timeData[ref_name][beat1]*sr)-segment_predict[idx][0]\n",
    "        base_time = tf[segment_predict[idx][0]]\n",
    "        \n",
    "        new_times = {}\n",
    "        for i in range(idx1,idx2+1):\n",
    "            key = annotated_beats[i]\n",
    "            sample = tf[int(timeData[ref_name][key]*sr)]\n",
    "            new_time = sample-base_time\n",
    "            new_times[key]=new_time\n",
    "            \n",
    "        gt_beats = list(timeData[solo_name].keys())\n",
    "        gt_base_time=timeData[solo_name][beat1]\n",
    "        prev = 0\n",
    "        prevgt = 0\n",
    "        for idx, key in enumerate(new_times):\n",
    "            if key in gt_beats:\n",
    "                gt_time = (timeData[solo_name][key]-gt_base_time)*sr\n",
    "                pred_time = new_times[key]\n",
    "                #f idx != 0:\n",
    "                #   print(\"diff\",gt_time-prevgt, pred_time-prev)\n",
    "                prev = pred_time\n",
    "                prevgt = gt_time\n",
    "                #rint(gt_time, pred_time)\n",
    "                diffs.append(np.abs(gt_time-pred_time))\n",
    "    return diffs"
   ]
  },
  {
   "cell_type": "code",
   "execution_count": 6,
   "metadata": {},
   "outputs": [],
   "source": [
    "def evaluate(hypdir, sr=22050):\n",
    "    data = readHypFiles(hypdir)\n",
    "    times = []\n",
    "    segment_tolerances =[1, 0.5, 0.25]\n",
    "    segment_total = np.zeros(len(segment_tolerances))\n",
    "    segment_correct = np.zeros(len(segment_tolerances))\n",
    "    \n",
    "    beat_tolerances =np.arange(0.0, 2, 0.025)\n",
    "    #beat_tolerances=[0.25]\n",
    "    beat_total = np.zeros(len(beat_tolerances))\n",
    "    beat_correct = np.zeros(len(beat_tolerances))\n",
    "    beat_totalFirst = np.zeros(len(beat_tolerances))\n",
    "    beat_correctFirst = np.zeros(len(beat_tolerances))\n",
    "    for solo_name, ref_name, tf, segment_predict, time_taken in data:\n",
    "        segment_predict = np.array(segment_predict)*512\n",
    "        #print(segment_predict)\n",
    "        segment_diffs, gt_samples, segment_predict = evaluateSegmentLevel(segment_predict, solo_name, ref_name)\n",
    "        if tf!=None:\n",
    "            beat_diffs = evaluateBeatLevel(tf, segment_predict, solo_name, ref_name)\n",
    "            beat_diffsFirst = evaluateBeatLevelFirst(tf, segment_predict, solo_name, ref_name)\n",
    "            #beat_diffs = evaluateDiffLevel(tf, segment_predict, solo_name, ref_name)\n",
    "            beat_diffs =(np.array(beat_diffs)/sr)\n",
    "            beat_diffsFirst =(np.array(beat_diffsFirst)/sr)\n",
    "        segment_diffs =np.array(segment_diffs)/sr\n",
    "        times.append(time_taken)\n",
    "        \n",
    "        #Update Segment Level Accuracy\n",
    "        for idx, tolerance in enumerate(segment_tolerances):\n",
    "            segment_correct[idx] += np.sum(np.where(segment_diffs<tolerance, 1, 0))\n",
    "            segment_total[idx]+=len(segment_diffs)\n",
    "            \n",
    "            \n",
    "        if tf!=None:\n",
    "            #Update Beat Level Accuracy\n",
    "            for idx, tolerance in enumerate(beat_tolerances):\n",
    "                beat_correct[idx] += np.sum(np.where(beat_diffs<tolerance, 1, 0))\n",
    "                beat_total[idx]+=len(beat_diffs)\n",
    "\n",
    "            #Update First Beat Level Accuracy\n",
    "            for idx, tolerance in enumerate(beat_tolerances):\n",
    "                beat_correctFirst[idx] += np.sum(np.where(beat_diffsFirst<tolerance, 1, 0))\n",
    "                beat_totalFirst[idx]+=len(beat_diffsFirst)\n",
    "    print(segment_correct/segment_total)\n",
    "    print(beat_correct/beat_total)\n",
    "    return segment_correct/segment_total, beat_correct/beat_total     "
   ]
  },
  {
   "cell_type": "code",
   "execution_count": 7,
   "metadata": {},
   "outputs": [],
   "source": [
    "def evaluateSegmentLevel(segment_predict, solo_name, ref_name, sr=22050):\n",
    "    pieceName = solo_name.split('_')[0]\n",
    "    gt_segments = queryInfo[pieceName]\n",
    "    gt_samples = []\n",
    "    diffs = []\n",
    "    for beats in gt_segments:\n",
    "        beat1 = beats.split(',')[0][1:]\n",
    "        beat2 = beats.split(',')[1][:-1]\n",
    "        sample1 = timeData[ref_name][beat1]*sr\n",
    "        sample2 = timeData[ref_name][beat2]*sr\n",
    "        gt_samples.append((sample1, sample2))\n",
    "    for idx,segment in enumerate(segment_predict):\n",
    "        seg0 = segment[0]\n",
    "        seg1 = segment[1]\n",
    "        diff0 = np.abs(gt_samples[idx][0]-seg0)\n",
    "        diff1 = np.abs(gt_samples[idx][1]-seg1)\n",
    "        diffs.append(diff0)\n",
    "        diffs.append(diff1)\n",
    "        if diff0 > 22050:\n",
    "            print(solo_name, ref_name)\n",
    "            print(gt_samples[idx][0],seg0)\n",
    "        if diff1 > 22050:\n",
    "            print(ref_name, solo_name)\n",
    "            print(gt_samples[idx][1],seg1)\n",
    "        #print((gt_samples[idx][0]-seg0)/(sr*sr))\n",
    "    return diffs, gt_samples, segment_predict"
   ]
  },
  {
   "cell_type": "code",
   "execution_count": 12,
   "metadata": {
    "scrolled": true
   },
   "outputs": [
    {
     "name": "stdout",
     "output_type": "stream",
     "text": [
      "experiments/test3/p1s_perf12-p1f_perf16.hyp\n",
      "[1.]\n",
      "[0.         0.16167665 0.32934132 0.44311377 0.56886228 0.67065868\n",
      " 0.74251497 0.81437126 0.84431138 0.85628743 0.86826347 0.89221557\n",
      " 0.91017964 0.92814371 0.92814371 0.92814371 0.94610778 0.96407186\n",
      " 0.98203593 0.98203593 1.         1.         1.         1.\n",
      " 1.         1.         1.         1.         1.         1.\n",
      " 1.         1.         1.         1.         1.         1.\n",
      " 1.         1.         1.         1.         1.         1.\n",
      " 1.         1.         1.         1.         1.         1.\n",
      " 1.         1.         1.         1.         1.         1.\n",
      " 1.         1.         1.         1.         1.         1.\n",
      " 1.         1.         1.         1.         1.         1.\n",
      " 1.         1.         1.         1.         1.         1.\n",
      " 1.         1.         1.         1.         1.         1.\n",
      " 1.         1.        ]\n"
     ]
    }
   ],
   "source": [
    "seg_accuracy, beat_accuracy = evaluate(\"experiments/test3\")\n",
    "#seg_accuracy, beat_accuracy = evaluate(\"baselines/test1\")"
   ]
  },
  {
   "cell_type": "code",
   "execution_count": 81,
   "metadata": {},
   "outputs": [
    {
     "data": {
      "text/plain": [
       "['(1.1,12.3)', '(13.1,35.1)', '(35.3,57.3)', '(58.1,71.1)', '(71.3,80.1)']"
      ]
     },
     "execution_count": 81,
     "metadata": {},
     "output_type": "execute_result"
    }
   ],
   "source": [
    "seg_y = [0.85579196, 0.82624113, 0.1, 0.5248227,  0.06382979]\n",
    "seg_x = [1,.5, 0.25, 0.125, 0.01]"
   ]
  },
  {
   "cell_type": "code",
   "execution_count": 44,
   "metadata": {},
   "outputs": [],
   "source": [
    "beat_y = [0,        0.30652671, 0.4832388,  0.57694912, 0.63104207, 0.66693473,\n",
    " 0.69330399, 0.71294337, 0.72754592, 0.73990519, 0.7513756,  0.76174553,\n",
    " 0.77012613, 0.77660205, 0.78379751, 0.78993482, 0.79476001, 0.79844239,\n",
    " 0.80220943, 0.80580716, 0.80864302, 0.81190214, 0.81499196, 0.81850504,\n",
    " 0.8205367,  0.82239905, 0.82476932, 0.82752053, 0.82967917, 0.83188013,\n",
    " 0.8340811,  0.83607043, 0.83772115, 0.83945653, 0.84144586, 0.84296961,\n",
    " 0.84432405, 0.84580547, 0.84711758, 0.848599,   0.85003809, 0.85075764,\n",
    " 0.85202743, 0.85333954, 0.85444002, 0.85562516, 0.85647168, 0.85736054,\n",
    " 0.85850334, 0.85964615, 0.860535,   0.86104292, 0.8619741,  0.8627783,\n",
    " 0.86366715, 0.86447135, 0.86544485, 0.86612207, 0.86701092, 0.86819606,\n",
    " 0.86900025, 0.86976213, 0.870524,   0.87158216, 0.87234403, 0.87323288,\n",
    " 0.87382545, 0.87437569, 0.87517989, 0.87581478, 0.87670363, 0.87750783,\n",
    " 0.87839668, 0.87915855, 0.87949716, 0.88038602, 0.88140185, 0.88195209,\n",
    " 0.88258698, 0.88296792]\n",
    "beat_x = np.arange(0.05, 2, 0.05)"
   ]
  },
  {
   "cell_type": "code",
   "execution_count": 45,
   "metadata": {},
   "outputs": [
    {
     "data": {
      "text/plain": [
       "Text(0, 0.5, 'Error')"
      ]
     },
     "execution_count": 45,
     "metadata": {},
     "output_type": "execute_result"
    },
    {
     "data": {
      "image/png": "[encoded data removed]",
      "text/plain": [
       "<Figure size 432x288 with 1 Axes>"
      ]
     },
     "metadata": {
      "needs_background": "light"
     },
     "output_type": "display_data"
    }
   ],
   "source": [
    "plt.title(\"Error vs Error Tolerances\")\n",
    "x=np.arange(0.0, 2, 0.025)\n",
    "plt.rcParams.update({'font.size': 15})\n",
    "plt.gca().set_yticklabels(['{:.0f}%'.format(x*100) for x in plt.gca().get_yticks()]) \n",
    "plt.plot(x, 1-np.array(beat_accuracy), linewidth=3)\n",
    "plt.xticks(np.arange(min(x), max(x)+.1, 0.2))\n",
    "plt.xlabel('Error Tolerance(s)', fontsize=20)\n",
    "plt.ylabel('Error', fontsize=20)"
   ]
  },
  {
   "cell_type": "code",
   "execution_count": 65,
   "metadata": {},
   "outputs": [
    {
     "data": {
      "text/plain": [
       "['(9.1,24.1)', '(29.1,36.1)', '(49.1,68.1)', '(68.1,95.1)', '(96.1,109.1)']"
      ]
     },
     "execution_count": 65,
     "metadata": {},
     "output_type": "execute_result"
    }
   ],
   "source": [
    "queryInfo['p1s']"
   ]
  },
  {
   "cell_type": "code",
   "execution_count": 66,
   "metadata": {},
   "outputs": [
    {
     "data": {
      "text/plain": [
       "{'1.1': 0.7393801963333333,\n",
       " '1.2': 1.458956916,\n",
       " '2.1': 2.19303099,\n",
       " '2.2': 2.815238095333333,\n",
       " '3.1': 3.461980347333333,\n",
       " '3.2': 4.078760393333334,\n",
       " '4.1': 4.729070294666666,\n",
       " '4.2': 5.400090703,\n",
       " '5.1': 6.018654573,\n",
       " '5.2': 6.651186697,\n",
       " '6.1': 7.249297052333333,\n",
       " '6.2': 7.944081632666667,\n",
       " '7.1': 8.635631141333333,\n",
       " '7.2': 9.349130763666667,\n",
       " '8.1': 9.972804233,\n",
       " '8.2': 10.94,\n",
       " '9.1': 12.544036281333334,\n",
       " '9.2': 13.276462585333334,\n",
       " '10.1': 14.010113378666667,\n",
       " '10.2': 14.742418745333334,\n",
       " '11.1': 15.459410430666667,\n",
       " '11.2': 16.144323507333336,\n",
       " '12.1': 16.866455026666667,\n",
       " '12.2': 17.63088435366667,\n",
       " '13.1': 18.41077853366667,\n",
       " '13.2': 19.130234316,\n",
       " '14.1': 19.889236583333332,\n",
       " '14.2': 20.651020408,\n",
       " '15.1': 21.42299319733333,\n",
       " '15.2': 22.121632652999995,\n",
       " '16.1': 22.859833711333334,\n",
       " '16.2': 23.630113378999997,\n",
       " '17.1': 24.394996220666666,\n",
       " '17.2': 25.254089191000002,\n",
       " '18.1': 26.001254724333336,\n",
       " '18.2': 26.728223734,\n",
       " '19.1': 27.46341647766667,\n",
       " '19.2': 28.170007558333335,\n",
       " '20.1': 28.912139077999996,\n",
       " '20.2': 29.652169312,\n",
       " '21.1': 30.389599395333335,\n",
       " '21.2': 31.096281179,\n",
       " '22.1': 31.807815570666666,\n",
       " '22.2': 32.508027211000005,\n",
       " '23.1': 33.274845049,\n",
       " '23.2': 33.970869236666665,\n",
       " '24.1': 34.70835978866666,\n",
       " '24.2': 35.45806500366667,\n",
       " '25.1': 36.24098261500001,\n",
       " '25.2': 37.00380952366667,\n",
       " '26.1': 37.776734694,\n",
       " '26.2': 38.53099017366667,\n",
       " '27.1': 39.25133786866667,\n",
       " '27.2': 40.012335601,\n",
       " '28.1': 40.802585033999996,\n",
       " '28.2': 41.629659864,\n",
       " '29.1': 42.381919879,\n",
       " '29.2': 43.153303099,\n",
       " '30.1': 43.90370370366666,\n",
       " '30.2': 44.67690098233333,\n",
       " '31.1': 45.426455026333336,\n",
       " '31.2': 46.17103552533333,\n",
       " '32.1': 46.927906274,\n",
       " '32.2': 47.749674981,\n",
       " '33.1': 48.52825396833333,\n",
       " '33.2': 49.247316704666666,\n",
       " '34.1': 50.0430839,\n",
       " '34.2': 50.78740740733334,\n",
       " '35.1': 51.55804988666667,\n",
       " '35.2': 52.29061224466667,\n",
       " '36.1': 53.060634920333335,\n",
       " '36.2': 53.800831443666674,\n",
       " '37.1': 54.56523053666666,\n",
       " '37.2': 55.28553287966667,\n",
       " '38.1': 56.177687074666665,\n",
       " '38.2': 56.95528344666667,\n",
       " '39.1': 57.69897203333333,\n",
       " '39.2': 58.406303855000004,\n",
       " '40.1': 59.121859410333336,\n",
       " '40.2': 59.83402872233333,\n",
       " '41.1': 60.587105064000006,\n",
       " '41.2': 61.29981859400001,\n",
       " '42.1': 62.139213907666665,\n",
       " '42.2': 62.90950869233333,\n",
       " '43.1': 63.663144369,\n",
       " '43.2': 64.33516250933333,\n",
       " '44.1': 65.067543462,\n",
       " '44.2': 65.79987906233333,\n",
       " '45.1': 66.609342404,\n",
       " '45.2': 67.39154950866667,\n",
       " '46.1': 68.16829931966667,\n",
       " '46.2': 68.99800453533334,\n",
       " '47.1': 69.939924414,\n",
       " '47.2': 70.83850340133334,\n",
       " '48.1': 71.655570673,\n",
       " '48.2': 72.49585789866667,\n",
       " '49.1': 73.40081632666666,\n",
       " '49.2': 74.22613756599999,\n",
       " '50.1': 75.05030990166667,\n",
       " '50.2': 75.85712774,\n",
       " '51.1': 76.666984127,\n",
       " '51.2': 77.45097505666666,\n",
       " '52.1': 78.278170824,\n",
       " '52.2': 79.08480725599999,\n",
       " '53.1': 79.93360544233333,\n",
       " '53.2': 80.68465608466667,\n",
       " '54.1': 81.49109599366666,\n",
       " '54.2': 82.28529100533335,\n",
       " '55.1': 83.08483749066666,\n",
       " '55.2': 83.96343159466666,\n",
       " '56.1': 84.72618291766666,\n",
       " '56.2': 85.567936508,\n",
       " '57.1': 86.70352229766667,\n",
       " '57.2': 87.70964474700001,\n",
       " '58.1': 88.47927437666665,\n",
       " '58.2': 89.25829176133333,\n",
       " '59.1': 90.10379440666667,\n",
       " '59.2': 90.92681783833335,\n",
       " '60.1': 91.76578987133335,\n",
       " '60.2': 92.59877551,\n",
       " '61.1': 93.44675736966667,\n",
       " '61.2': 94.26290249433333,\n",
       " '62.1': 95.09470899466668,\n",
       " '62.2': 95.96146636433333,\n",
       " '63.1': 96.82390022666665,\n",
       " '63.2': 97.62801209366667,\n",
       " '64.1': 98.42448979599999,\n",
       " '64.2': 99.27544973533332,\n",
       " '65.1': 100.11647770233333,\n",
       " '65.2': 100.86917611466667,\n",
       " '66.1': 101.65268329566668,\n",
       " '66.2': 102.49747543466667,\n",
       " '67.1': 103.43959183666665,\n",
       " '67.2': 104.56453514766667,\n",
       " '68.1': 105.92885865466667,\n",
       " '68.2': 106.77103552533333,\n",
       " '69.1': 107.672743764,\n",
       " '69.2': 108.545260771,\n",
       " '70.1': 109.49402872233333,\n",
       " '70.2': 110.35256235833333,\n",
       " '71.1': 111.241632653,\n",
       " '71.2': 112.101148904,\n",
       " '72.1': 112.98237339366669,\n",
       " '72.2': 113.84947845800001,\n",
       " '73.1': 114.78110355266665,\n",
       " '73.2': 115.66702947833333,\n",
       " '74.1': 116.54925170066667,\n",
       " '74.2': 117.45544973533333,\n",
       " '75.1': 118.34331065766666,\n",
       " '75.2': 119.22411186733332,\n",
       " '76.1': 120.15136810266665,\n",
       " '76.2': 121.05278911566666,\n",
       " '77.1': 121.97324263033333,\n",
       " '77.2': 122.89986394566667,\n",
       " '78.1': 123.78749811033333,\n",
       " '78.2': 124.659229025,\n",
       " '79.1': 125.52075585799999,\n",
       " '79.2': 126.361904762,\n",
       " '80.1': 127.22687830699999,\n",
       " '80.2': 128.10300831466665,\n",
       " '81.1': 129.02464096766667,\n",
       " '81.2': 129.91076341633334,\n",
       " '82.1': 130.81183673466666,\n",
       " '82.2': 131.74887377200002,\n",
       " '83.1': 132.67421012833333,\n",
       " '83.2': 133.54799697633334,\n",
       " '84.1': 134.47830687833334,\n",
       " '84.2': 135.347467876,\n",
       " '85.1': 136.14320483733334,\n",
       " '85.2': 136.88055933466669,\n",
       " '86.1': 137.61170068,\n",
       " '86.2': 138.33476946366667,\n",
       " '87.1': 139.05871504166666,\n",
       " '87.2': 139.76693877533333,\n",
       " '88.1': 140.4934542706667,\n",
       " '88.2': 141.22854119433333,\n",
       " '89.1': 141.95352985633335,\n",
       " '89.2': 142.68665154966666,\n",
       " '90.1': 143.41284958433332,\n",
       " '90.2': 144.11322751333333,\n",
       " '91.1': 144.82962962966667,\n",
       " '91.2': 145.52828420266667,\n",
       " '92.1': 146.22022675733334,\n",
       " '92.2': 146.929750567,\n",
       " '93.1': 147.61558578999998,\n",
       " '93.2': 148.32119425566668,\n",
       " '94.1': 149.05659863966665,\n",
       " '94.2': 149.817460317,\n",
       " '95.1': 150.72643990933335,\n",
       " '95.2': 151.810839002,\n",
       " '96.1': 153.57561602433336,\n",
       " '96.2': 154.40866213133333,\n",
       " '97.1': 155.21727891133335,\n",
       " '97.2': 155.96990173833333,\n",
       " '98.1': 156.75552532133332,\n",
       " '98.2': 157.48897959166666,\n",
       " '99.1': 158.27173091466668,\n",
       " '99.2': 159.05761148899998,\n",
       " '100.1': 159.837294029,\n",
       " '100.2': 160.60919123200003,\n",
       " '101.1': 161.38997732433333,\n",
       " '101.2': 162.13324263066667,\n",
       " '102.1': 162.90081632666667,\n",
       " '102.2': 163.69275888133333,\n",
       " '103.1': 164.79387755066668,\n",
       " '103.2': 165.47871504133334,\n",
       " '104.1': 166.04650037800002,\n",
       " '104.2': 166.60606198066668,\n",
       " '105.1': 167.23661375666669,\n",
       " '105.2': 167.83587301600002,\n",
       " '106.1': 168.448148148,\n",
       " '106.2': 169.04955404366663,\n",
       " '107.1': 169.60473167033334,\n",
       " '107.2': 170.25260770966668,\n",
       " '108.1': 170.8559939533333,\n",
       " '108.2': 171.49360544233332,\n",
       " '109.1': 172.223537415,\n",
       " '109.2': 173.04154195,\n",
       " '110.1': 173.96943310633333,\n",
       " '110.2': nan}"
      ]
     },
     "execution_count": 66,
     "metadata": {},
     "output_type": "execute_result"
    }
   ],
   "source": [
    "timeData['p1f_perf23']"
   ]
  },
  {
   "cell_type": "code",
   "execution_count": 26,
   "metadata": {},
   "outputs": [],
   "source": [
    "beat = 0\n",
    "for key in timeData.keys():\n",
    "    beat+=len(timeData[key])"
   ]
  },
  {
   "cell_type": "code",
   "execution_count": 28,
   "metadata": {},
   "outputs": [
    {
     "data": {
      "text/plain": [
       "11076"
      ]
     },
     "execution_count": 28,
     "metadata": {},
     "output_type": "execute_result"
    }
   ],
   "source": [
    "beat"
   ]
  },
  {
   "cell_type": "code",
   "execution_count": 70,
   "metadata": {},
   "outputs": [
    {
     "data": {
      "text/plain": [
       "Text(0.5, 1.0, 'Sorted Solo Segment Lengths in Seconds')"
      ]
     },
     "execution_count": 70,
     "metadata": {},
     "output_type": "execute_result"
    },
    {
     "data": {
      "image/png": "[encoded data removed]",
      "text/plain": [
       "<Figure size 432x288 with 1 Axes>"
      ]
     },
     "metadata": {
      "needs_background": "light"
     },
     "output_type": "display_data"
    }
   ],
   "source": [
    "beats = {}\n",
    "for key in queryInfo:\n",
    "    if 's' in key:\n",
    "        data = queryInfo[key]\n",
    "        for segment in data:\n",
    "            beat1 = segment.split(\",\")[0][1:]\n",
    "            beat2 = segment.split(\",\")[1][:-1]\n",
    "            if key in beats:\n",
    "                beats[key].append((beat1,beat2))\n",
    "            else:\n",
    "                beats[key] = [(beat1,beat2)]\n",
    "times={}\n",
    "for key in timeData:\n",
    "    pieceName = key.split(\"_\")[0]\n",
    "    if 's' in pieceName:\n",
    "        for beat1, beat2 in beats[pieceName]:\n",
    "            t1 = timeData[key][beat1]\n",
    "            t2 = timeData[key][beat2]\n",
    "            if pieceName in times:\n",
    "                times[pieceName].append(t2-t1)\n",
    "            else:\n",
    "                times[pieceName]=[t2-t1]\n",
    "for key in times:\n",
    "    plt.scatter(np.arange(len(times[key])),sorted(times[key])[::-1], label = '{}'.format(key))\n",
    "plt.legend(loc=\"upper right\",fontsize = 14)\n",
    "plt.title(\"Sorted Solo Segment Lengths in Seconds\")"
   ]
  },
  {
   "cell_type": "code",
   "execution_count": null,
   "metadata": {},
   "outputs": [],
   "source": [
    "beats = {}\n",
    "for key in audioFiles:\n",
    "    if 's' in key:\n",
    "        for audio in audioFiles[key]\n",
    "    "
   ]
  }
 ],
 "metadata": {
  "kernelspec": {
   "display_name": "Python 3",
   "language": "python",
   "name": "python3"
  },
  "language_info": {
   "codemirror_mode": {
    "name": "ipython",
    "version": 3
   },
   "file_extension": ".py",
   "mimetype": "text/x-python",
   "name": "python",
   "nbconvert_exporter": "python",
   "pygments_lexer": "ipython3",
   "version": "3.7.6"
  }
 },
 "nbformat": 4,
 "nbformat_minor": 4
}
