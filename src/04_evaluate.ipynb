{
 "cells": [
  {
   "cell_type": "code",
   "execution_count": 1,
   "metadata": {
    "ExecuteTime": {
     "end_time": "2020-05-09T22:51:31.327359Z",
     "start_time": "2020-05-09T22:51:30.978322Z"
    }
   },
   "outputs": [
    {
     "name": "stdout",
     "output_type": "stream",
     "text": [
      "/mnt/c/Users/Daniel Yang/Desktop/Final_Project\n"
     ]
    }
   ],
   "source": [
    "import numpy as np\n",
    "import matplotlib.pyplot as plt\n",
    "import pickle as pkl\n",
    "import glob\n",
    "%cd ../"
   ]
  },
  {
   "cell_type": "code",
   "execution_count": 2,
   "metadata": {
    "ExecuteTime": {
     "end_time": "2020-05-09T22:51:32.026925Z",
     "start_time": "2020-05-09T22:51:31.445617Z"
    }
   },
   "outputs": [],
   "source": [
    "fileId_path = \"experiments/fileIds.pkl\"\n",
    "queryInfo_path = \"experiments/queryInfo.pkl\"\n",
    "timeData_path = \"experiments/timeData.pkl\"\n",
    "audioFiles_path = \"experiments/audioFiles.pkl\"\n",
    "with open(fileId_path, 'rb') as f:\n",
    "    fileIds=pkl.load(f)\n",
    "with open(queryInfo_path, 'rb') as f:\n",
    "    queryInfo=pkl.load(f)\n",
    "with open(timeData_path, 'rb') as f:\n",
    "    timeData=pkl.load(f)\n",
    "with open(audioFiles_path, 'rb') as f:\n",
    "    audioFiles=pkl.load(f)"
   ]
  },
  {
   "cell_type": "code",
   "execution_count": 3,
   "metadata": {
    "ExecuteTime": {
     "end_time": "2020-05-09T22:51:32.031812Z",
     "start_time": "2020-05-09T22:51:32.028767Z"
    }
   },
   "outputs": [],
   "source": [
    "def readHypFiles(hypdir):\n",
    "    \n",
    "    for hypfile in sorted(glob.glob(\"{}/*.hyp\".format(hypdir))):\n",
    "        print(hypfile)\n",
    "        with open(hypfile, \"rb\") as f:\n",
    "            yield(pkl.load(f))"
   ]
  },
  {
   "cell_type": "code",
   "execution_count": 4,
   "metadata": {
    "ExecuteTime": {
     "end_time": "2020-05-09T22:51:32.216203Z",
     "start_time": "2020-05-09T22:51:32.207075Z"
    }
   },
   "outputs": [],
   "source": [
    "def evaluateBeatLevel(tf, solo_name, ref_name, sr=22050):\n",
    "    # Only evaluate within segments\n",
    "    diffs = []\n",
    "    pieceName = solo_name.split('_')[0]\n",
    "    gt_segments = queryInfo[pieceName]\n",
    "    annotated_beats = list(timeData[ref_name].keys())\n",
    "    for idx,beats in enumerate(gt_segments):\n",
    "        beat1 = beats.split(',')[0][1:]\n",
    "        beat2 = beats.split(',')[1][:-1]\n",
    "        idx1 = annotated_beats.index(beat1)\n",
    "        idx2 = annotated_beats.index(beat2)\n",
    "        #offset = int(timeData[ref_name][beat1]*sr)-segment_predict[idx][0]\n",
    "        #base_time = tf[segment_predict[idx][0]]\n",
    "        base_time = tf[int(timeData[ref_name][beat1]*sr)]\n",
    "        #print(offset)\n",
    "        \n",
    "        new_times = {}\n",
    "        for i in range(idx1,idx2+1):\n",
    "            key = annotated_beats[i]\n",
    "            sample = tf[int(timeData[ref_name][key]*sr)]\n",
    "            new_time = sample-base_time\n",
    "            new_times[key]=new_time\n",
    "            \n",
    "        gt_beats = list(timeData[solo_name].keys())\n",
    "        gt_base_time=timeData[solo_name][beat1]\n",
    "        prev = 0\n",
    "        prevgt = 0\n",
    "        for idx, key in enumerate(new_times):\n",
    "            if key in gt_beats:\n",
    "                gt_time = (timeData[solo_name][key]-gt_base_time)*sr\n",
    "                pred_time = new_times[key]\n",
    "                #f idx != 0:\n",
    "                #   print(\"diff\",gt_time-prevgt, pred_time-prev)\n",
    "                prev = pred_time\n",
    "                prevgt = gt_time\n",
    "                #rint(gt_time, pred_time)\n",
    "                diffs.append(np.abs(gt_time-pred_time))\n",
    "    return diffs"
   ]
  },
  {
   "cell_type": "code",
   "execution_count": 5,
   "metadata": {
    "ExecuteTime": {
     "end_time": "2020-05-09T22:51:32.564345Z",
     "start_time": "2020-05-09T22:51:32.552985Z"
    }
   },
   "outputs": [],
   "source": [
    "def evaluateBeatLevelFirst(tf, segment_predict, solo_name, ref_name, sr=22050):\n",
    "    # Only evaluate within segments\n",
    "    diffs = []\n",
    "    pieceName = solo_name.split('_')[0]\n",
    "    gt_segments = queryInfo[pieceName]\n",
    "    annotated_beats = list(timeData[ref_name].keys())\n",
    "    for idx,beats in enumerate(gt_segments):\n",
    "        if idx!=1:\n",
    "            continue\n",
    "        beat1 = beats.split(',')[0][1:]\n",
    "        beat2 = beats.split(',')[1][:-1]\n",
    "        idx1 = annotated_beats.index(beat1)\n",
    "        idx2 = annotated_beats.index(beat2)\n",
    "        offset = int(timeData[ref_name][beat1]*sr)-segment_predict[idx][0]\n",
    "        base_time = tf[segment_predict[idx][0]]\n",
    "        \n",
    "        new_times = {}\n",
    "        for i in range(idx1,idx2+1):\n",
    "            key = annotated_beats[i]\n",
    "            sample = tf[int(timeData[ref_name][key]*sr)]\n",
    "            new_time = sample-base_time\n",
    "            new_times[key]=new_time\n",
    "            \n",
    "        gt_beats = list(timeData[solo_name].keys())\n",
    "        gt_base_time=timeData[solo_name][beat1]\n",
    "        prev = 0\n",
    "        prevgt = 0\n",
    "        for idx, key in enumerate(new_times):\n",
    "            if key in gt_beats:\n",
    "                gt_time = (timeData[solo_name][key]-gt_base_time)*sr\n",
    "                pred_time = new_times[key]\n",
    "                #f idx != 0:\n",
    "                #   print(\"diff\",gt_time-prevgt, pred_time-prev)\n",
    "                prev = pred_time\n",
    "                prevgt = gt_time\n",
    "                #rint(gt_time, pred_time)\n",
    "                diffs.append(np.abs(gt_time-pred_time))\n",
    "    return diffs"
   ]
  },
  {
   "cell_type": "code",
   "execution_count": 6,
   "metadata": {
    "ExecuteTime": {
     "end_time": "2020-05-09T22:51:32.837998Z",
     "start_time": "2020-05-09T22:51:32.831186Z"
    }
   },
   "outputs": [],
   "source": [
    "def evaluateSegmentLevel(segment_predict, solo_name, ref_name, sr=22050):\n",
    "    pieceName = solo_name.split('_')[0]\n",
    "    gt_segments = queryInfo[pieceName]\n",
    "    gt_samples = []\n",
    "    diffs = []\n",
    "    for beats in gt_segments:\n",
    "        beat1 = beats.split(',')[0][1:]\n",
    "        beat2 = beats.split(',')[1][:-1]\n",
    "        sample1 = timeData[ref_name][beat1]*sr\n",
    "        sample2 = timeData[ref_name][beat2]*sr\n",
    "        gt_samples.append((sample1, sample2))\n",
    "    for idx,segment in enumerate(segment_predict):\n",
    "        seg0 = segment[0]\n",
    "        seg1 = segment[1]\n",
    "        diff0 = np.abs(gt_samples[idx][0]-seg0)\n",
    "        diff1 = np.abs(gt_samples[idx][1]-seg1)\n",
    "        diffs.append(diff0)\n",
    "        diffs.append(diff1)\n",
    "        if diff0 > 22050:\n",
    "            print(solo_name, ref_name)\n",
    "            print(gt_samples[idx][0],seg0)\n",
    "        if diff1 > 22050:\n",
    "            print(ref_name, solo_name)\n",
    "            print(gt_samples[idx][1],seg1)\n",
    "        #print((gt_samples[idx][0]-seg0)/(sr*sr))\n",
    "    return diffs, gt_samples, segment_predict"
   ]
  },
  {
   "cell_type": "code",
   "execution_count": 7,
   "metadata": {
    "ExecuteTime": {
     "end_time": "2020-05-10T05:38:25.652697Z",
     "start_time": "2020-05-10T05:38:25.633766Z"
    }
   },
   "outputs": [],
   "source": [
    "def evaluate(hypdir, hop_length=512, sr=22050):\n",
    "    \n",
    "    times = []\n",
    "    segment_tolerances =[1, 0.5, 0.25]\n",
    "    segment_total = np.zeros(len(segment_tolerances))\n",
    "    segment_correct = np.zeros(len(segment_tolerances))\n",
    "    \n",
    "    beat_tolerances =np.arange(0.0, 2, 0.025)\n",
    "    #beat_tolerances=[0.25]\n",
    "    beat_total = np.zeros(len(beat_tolerances))\n",
    "    beat_correct = np.zeros(len(beat_tolerances))\n",
    "    beat_totalFirst = np.zeros(len(beat_tolerances))\n",
    "    beat_correctFirst = np.zeros(len(beat_tolerances))\n",
    "    for solo_name, ref_name, tf, segment_predict, time_taken in readHypFiles(hypdir):\n",
    "        tf = np.array(tf)\n",
    "        segment_predict = np.array(segment_predict)*hop_length\n",
    "        #print(segment_predict)\n",
    "        segment_diffs, gt_samples, segment_predict = evaluateSegmentLevel(segment_predict, solo_name, ref_name)\n",
    "        if any(tf!=None):\n",
    "            beat_diffs = evaluateBeatLevel(tf, solo_name, ref_name)\n",
    "            beat_diffsFirst = evaluateBeatLevelFirst(tf, segment_predict, solo_name, ref_name)\n",
    "            #beat_diffs = evaluateDiffLevel(tf, segment_predict, solo_name, ref_name)\n",
    "            beat_diffs =(np.array(beat_diffs)/sr)\n",
    "            beat_diffsFirst =(np.array(beat_diffsFirst)/sr)\n",
    "        segment_diffs =np.array(segment_diffs)/sr\n",
    "        times.append(time_taken)\n",
    "        \n",
    "        #Update Segment Level Accuracy\n",
    "        for idx, tolerance in enumerate(segment_tolerances):\n",
    "            segment_correct[idx] += np.sum(np.where(segment_diffs<tolerance, 1, 0))\n",
    "            segment_total[idx]+=len(segment_diffs)\n",
    "            \n",
    "            \n",
    "        if any(tf!=None):\n",
    "            #Update Beat Level Accuracy\n",
    "            for idx, tolerance in enumerate(beat_tolerances):\n",
    "                beat_correct[idx] += np.sum(np.where(beat_diffs<tolerance, 1, 0))\n",
    "                beat_total[idx]+=len(beat_diffs)\n",
    "\n",
    "            #Update First Beat Level Accuracy\n",
    "            for idx, tolerance in enumerate(beat_tolerances):\n",
    "                beat_correctFirst[idx] += np.sum(np.where(beat_diffsFirst<tolerance, 1, 0))\n",
    "                beat_totalFirst[idx]+=len(beat_diffsFirst)\n",
    "    print(\"hop_length\", hop_length)\n",
    "    print(segment_correct/segment_total)\n",
    "    print(beat_correct/beat_total)\n",
    "    return segment_correct/segment_total, beat_correct/beat_total, times   "
   ]
  },
  {
   "cell_type": "code",
   "execution_count": 8,
   "metadata": {
    "ExecuteTime": {
     "end_time": "2020-05-09T22:54:26.822684Z",
     "start_time": "2020-05-09T22:53:55.892781Z"
    },
    "scrolled": true
   },
   "outputs": [
    {
     "name": "stdout",
     "output_type": "stream",
     "text": [
      "experiments/expFinal/p1s_perf12-p1f_perf16.hyp\n",
      "experiments/expFinal/p1s_perf12-p1f_perf2.hyp\n",
      "p1f_perf2 p1s_perf12\n",
      "3928012.66666305 3983360\n",
      "experiments/expFinal/p1s_perf12-p1f_perf23.hyp\n",
      "p1f_perf23 p1s_perf12\n",
      "3797529.00000075 3849216\n",
      "experiments/expFinal/p1s_perf12-p1f_perf24.hyp\n",
      "experiments/expFinal/p1s_perf12-p1f_perf6.hyp\n",
      "p1f_perf6 p1s_perf12\n",
      "3799099.9999963506 3838976\n",
      "experiments/expFinal/p1s_perf2-p1f_perf16.hyp\n",
      "experiments/expFinal/p1s_perf2-p1f_perf2.hyp\n",
      "experiments/expFinal/p1s_perf2-p1f_perf23.hyp\n",
      "experiments/expFinal/p1s_perf2-p1f_perf24.hyp\n",
      "experiments/expFinal/p1s_perf2-p1f_perf6.hyp\n",
      "experiments/expFinal/p1s_perf25-p1f_perf16.hyp\n",
      "p1f_perf16 p1s_perf25\n",
      "3888554.6666641505 3974144\n",
      "experiments/expFinal/p1s_perf25-p1f_perf2.hyp\n",
      "p1f_perf2 p1s_perf25\n",
      "3928012.66666305 4083712\n",
      "experiments/expFinal/p1s_perf25-p1f_perf23.hyp\n",
      "p1f_perf23 p1s_perf25\n",
      "3797529.00000075 3882496\n",
      "experiments/expFinal/p1s_perf25-p1f_perf24.hyp\n",
      "p1f_perf24 p1s_perf25\n",
      "3493643.6666648993 3522560\n",
      "p1f_perf24 p1s_perf25\n",
      "3991737.33333165 4076544\n",
      "experiments/expFinal/p1s_perf25-p1f_perf6.hyp\n",
      "p1f_perf6 p1s_perf25\n",
      "3799099.9999963506 3857920\n",
      "experiments/expFinal/p1s_perf3-p1f_perf16.hyp\n",
      "experiments/expFinal/p1s_perf3-p1f_perf2.hyp\n",
      "experiments/expFinal/p1s_perf3-p1f_perf23.hyp\n",
      "p1f_perf23 p1s_perf3\n",
      "3797529.00000075 3887104\n",
      "experiments/expFinal/p1s_perf3-p1f_perf24.hyp\n",
      "experiments/expFinal/p1s_perf3-p1f_perf6.hyp\n",
      "experiments/expFinal/p1s_perf9-p1f_perf16.hyp\n",
      "experiments/expFinal/p1s_perf9-p1f_perf2.hyp\n",
      "experiments/expFinal/p1s_perf9-p1f_perf23.hyp\n",
      "experiments/expFinal/p1s_perf9-p1f_perf24.hyp\n",
      "experiments/expFinal/p1s_perf9-p1f_perf6.hyp\n",
      "experiments/expFinal/p2s_perf10-p2f_perf1.hyp\n",
      "p2f_perf1 p2s_perf10\n",
      "1345851.3333310501 1320960\n",
      "p2f_perf1 p2s_perf10\n",
      "3600637.66666695 3664896\n",
      "experiments/expFinal/p2s_perf10-p2f_perf14.hyp\n",
      "experiments/expFinal/p2s_perf10-p2f_perf18.hyp\n",
      "p2f_perf18 p2s_perf10\n",
      "1304883.6666684 1354752\n",
      "p2f_perf18 p2s_perf10\n",
      "5317967.9999963995 5290496\n",
      "experiments/expFinal/p2s_perf10-p2f_perf20.hyp\n",
      "experiments/expFinal/p2s_perf10-p2f_perf5.hyp\n",
      "p2f_perf5 p2s_perf10\n",
      "1106789.0000002503 1134592\n",
      "p2s_perf10 p2f_perf5\n",
      "2253295.99999455 2024448\n",
      "p2f_perf5 p2s_perf10\n",
      "3153074.3333375994 3221504\n",
      "experiments/expFinal/p2s_perf17-p2f_perf1.hyp\n",
      "p2f_perf1 p2s_perf17\n",
      "1345851.3333310501 1303552\n"
     ]
    },
    {
     "name": "stderr",
     "output_type": "stream",
     "text": [
      "/home/dyang/anaconda3/envs/MIR5/lib/python3.7/site-packages/ipykernel_launcher.py:37: RuntimeWarning: invalid value encountered in less\n"
     ]
    },
    {
     "name": "stdout",
     "output_type": "stream",
     "text": [
      "experiments/expFinal/p2s_perf17-p2f_perf14.hyp\n",
      "experiments/expFinal/p2s_perf17-p2f_perf18.hyp\n",
      "p2f_perf18 p2s_perf17\n",
      "1304883.6666684 1280000\n",
      "p2f_perf18 p2s_perf17\n",
      "5317967.9999963995 5291008\n",
      "experiments/expFinal/p2s_perf17-p2f_perf20.hyp\n",
      "experiments/expFinal/p2s_perf17-p2f_perf5.hyp\n",
      "p2f_perf5 p2s_perf17\n",
      "4821841.6666623 4788736\n",
      "experiments/expFinal/p2s_perf4-p2f_perf1.hyp\n",
      "p2f_perf1 p2s_perf4\n",
      "1345851.3333310501 1297408\n",
      "experiments/expFinal/p2s_perf4-p2f_perf14.hyp\n",
      "experiments/expFinal/p2s_perf4-p2f_perf18.hyp\n",
      "p2f_perf18 p2s_perf4\n",
      "5317967.9999963995 5287424\n",
      "experiments/expFinal/p2s_perf4-p2f_perf20.hyp\n",
      "experiments/expFinal/p2s_perf4-p2f_perf5.hyp\n",
      "p2f_perf5 p2s_perf4\n",
      "3153074.3333375994 3209216\n",
      "p2f_perf5 p2s_perf4\n",
      "4821841.6666623 4794880\n",
      "experiments/expFinal/p2s_perf8-p2f_perf1.hyp\n",
      "p2f_perf1 p2s_perf8\n",
      "1345851.3333310501 1321984\n",
      "experiments/expFinal/p2s_perf8-p2f_perf14.hyp\n",
      "p2f_perf14 p2s_perf8\n",
      "5230606.3333377 5207040\n",
      "experiments/expFinal/p2s_perf8-p2f_perf18.hyp\n",
      "p2f_perf18 p2s_perf8\n",
      "1304883.6666684 1354752\n",
      "p2f_perf18 p2s_perf8\n",
      "5317967.9999963995 5287936\n",
      "experiments/expFinal/p2s_perf8-p2f_perf20.hyp\n",
      "experiments/expFinal/p2s_perf8-p2f_perf5.hyp\n",
      "p2f_perf5 p2s_perf8\n",
      "1106789.0000002503 1134592\n",
      "p2f_perf5 p2s_perf8\n",
      "3153074.3333375994 3222016\n",
      "experiments/expFinal/p2s_perf9-p2f_perf1.hyp\n",
      "p2f_perf1 p2s_perf9\n",
      "1345851.3333310501 1375744\n",
      "p2f_perf1 p2s_perf9\n",
      "3600637.66666695 3665920\n",
      "experiments/expFinal/p2s_perf9-p2f_perf14.hyp\n",
      "experiments/expFinal/p2s_perf9-p2f_perf18.hyp\n",
      "p2f_perf18 p2s_perf9\n",
      "1304883.6666684 1355776\n",
      "p2f_perf18 p2s_perf9\n",
      "5317967.9999963995 5288960\n",
      "experiments/expFinal/p2s_perf9-p2f_perf20.hyp\n",
      "experiments/expFinal/p2s_perf9-p2f_perf5.hyp\n",
      "p2f_perf5 p2s_perf9\n",
      "1106789.0000002503 1135104\n",
      "p2s_perf9 p2f_perf5\n",
      "2253295.99999455 2024960\n",
      "p2f_perf5 p2s_perf9\n",
      "3153074.3333375994 3221504\n",
      "experiments/expFinal/p3s_perf12-p3f_perf11.hyp\n",
      "experiments/expFinal/p3s_perf12-p3f_perf16.hyp\n",
      "experiments/expFinal/p3s_perf12-p3f_perf2.hyp\n",
      "p3s_perf12 p3f_perf2\n",
      "3455676.3333372 3425792\n",
      "experiments/expFinal/p3s_perf12-p3f_perf23.hyp\n",
      "experiments/expFinal/p3s_perf12-p3f_perf24.hyp\n",
      "experiments/expFinal/p3s_perf2-p3f_perf11.hyp\n",
      "experiments/expFinal/p3s_perf2-p3f_perf16.hyp\n",
      "experiments/expFinal/p3s_perf2-p3f_perf2.hyp\n",
      "p3s_perf2 p3f_perf2\n",
      "3455676.3333372 3424768\n",
      "experiments/expFinal/p3s_perf2-p3f_perf23.hyp\n",
      "experiments/expFinal/p3s_perf2-p3f_perf24.hyp\n",
      "experiments/expFinal/p3s_perf21-p3f_perf11.hyp\n",
      "experiments/expFinal/p3s_perf21-p3f_perf16.hyp\n",
      "experiments/expFinal/p3s_perf21-p3f_perf2.hyp\n",
      "p3s_perf21 p3f_perf2\n",
      "3455676.3333372 3425280\n",
      "experiments/expFinal/p3s_perf21-p3f_perf23.hyp\n",
      "experiments/expFinal/p3s_perf21-p3f_perf24.hyp\n",
      "experiments/expFinal/p3s_perf22-p3f_perf11.hyp\n"
     ]
    },
    {
     "name": "stderr",
     "output_type": "stream",
     "text": [
      "/home/dyang/anaconda3/envs/MIR5/lib/python3.7/site-packages/ipykernel_launcher.py:42: RuntimeWarning: invalid value encountered in less\n"
     ]
    },
    {
     "name": "stdout",
     "output_type": "stream",
     "text": [
      "experiments/expFinal/p3s_perf22-p3f_perf16.hyp\n",
      "experiments/expFinal/p3s_perf22-p3f_perf2.hyp\n",
      "experiments/expFinal/p3s_perf22-p3f_perf23.hyp\n",
      "experiments/expFinal/p3s_perf22-p3f_perf24.hyp\n",
      "experiments/expFinal/p3s_perf9-p3f_perf11.hyp\n",
      "experiments/expFinal/p3s_perf9-p3f_perf16.hyp\n",
      "experiments/expFinal/p3s_perf9-p3f_perf2.hyp\n",
      "p3s_perf9 p3f_perf2\n",
      "3455676.3333372 3425280\n",
      "experiments/expFinal/p3s_perf9-p3f_perf23.hyp\n",
      "experiments/expFinal/p3s_perf9-p3f_perf24.hyp\n",
      "experiments/expFinal/p4s_perf15-p4f_perf13.hyp\n",
      "p4s_perf15 p4f_perf13\n",
      "204395.33332680003 1395712\n",
      "p4f_perf13 p4s_perf15\n",
      "1369877.33333535 2529792\n",
      "experiments/expFinal/p4s_perf15-p4f_perf16.hyp\n",
      "p4s_perf15 p4f_perf16\n",
      "18244.666661550003 1144832\n",
      "p4f_perf16 p4s_perf15\n",
      "1116649.33333275 2265088\n",
      "experiments/expFinal/p4s_perf15-p4f_perf2.hyp\n",
      "experiments/expFinal/p4s_perf2-p4f_perf13.hyp\n",
      "p4s_perf2 p4f_perf13\n",
      "204395.33332680003 1395200\n",
      "p4f_perf13 p4s_perf2\n",
      "1369877.33333535 2530304\n",
      "experiments/expFinal/p4s_perf2-p4f_perf16.hyp\n",
      "p4s_perf2 p4f_perf16\n",
      "18244.666661550003 1143296\n",
      "p4f_perf16 p4s_perf2\n",
      "1116649.33333275 2265600\n",
      "p4s_perf2 p4f_perf16\n",
      "2302869.66666645 2279424\n",
      "experiments/expFinal/p4s_perf2-p4f_perf2.hyp\n",
      "experiments/expFinal/p4s_perf8-p4f_perf13.hyp\n",
      "p4s_perf8 p4f_perf13\n",
      "204395.33332680003 1394688\n",
      "p4f_perf13 p4s_perf8\n",
      "1369877.33333535 2527744\n",
      "experiments/expFinal/p4s_perf8-p4f_perf16.hyp\n",
      "p4s_perf8 p4f_perf16\n",
      "18244.666661550003 1148416\n",
      "p4f_perf16 p4s_perf8\n",
      "1116649.33333275 2264064\n",
      "experiments/expFinal/p4s_perf8-p4f_perf2.hyp\n",
      "experiments/expFinal/p4s_perf9-p4f_perf13.hyp\n",
      "p4s_perf9 p4f_perf13\n",
      "204395.33332680003 1395712\n",
      "p4f_perf13 p4s_perf9\n",
      "1369877.33333535 2529792\n",
      "p4s_perf9 p4f_perf13\n",
      "2562035.9999955003 2531328\n",
      "experiments/expFinal/p4s_perf9-p4f_perf16.hyp\n",
      "p4s_perf9 p4f_perf16\n",
      "18244.666661550003 1148928\n",
      "p4f_perf16 p4s_perf9\n",
      "1116649.33333275 2264576\n",
      "experiments/expFinal/p4s_perf9-p4f_perf2.hyp\n",
      "hop_length 512\n",
      "[0.92907801 0.90307329 0.75531915]\n",
      "[0.         0.11707441 0.20782189 0.28180818 0.34910692 0.40865995\n",
      " 0.4609752  0.50524846 0.5490138  0.58909676 0.62638618 0.65944299\n",
      " 0.68902904 0.71603318 0.7454076  0.77478202 0.79945822 0.81787014\n",
      " 0.83158385 0.84076864 0.84872598 0.85613307 0.86104292 0.86430204\n",
      " 0.8679421  0.86984678 0.87196309 0.87378312 0.87594176 0.87742318\n",
      " 0.87924321 0.88042834 0.88186743 0.88262931 0.88377212 0.8850419\n",
      " 0.88631169 0.88775078 0.8892322  0.89092525 0.89198341 0.89308389\n",
      " 0.89443833 0.89625836 0.89765513 0.89955981 0.90074494 0.90142216\n",
      " 0.90256497 0.90353847 0.904385   0.90506222 0.90569711 0.90637433\n",
      " 0.90671294 0.90700923 0.90747482 0.90802506 0.90832134 0.90865995\n",
      " 0.90912554 0.9095488  0.90992974 0.910353   0.91111487 0.91136883\n",
      " 0.91225768 0.91327351 0.91382375 0.91441632 0.91475493 0.91509354\n",
      " 0.91547448 0.91577076 0.91589774 0.91610937 0.91619402 0.91661729\n",
      " 0.91687124 0.91716753]\n"
     ]
    }
   ],
   "source": [
    "seg_accuracy, beat_accuracy, times = evaluate(\"experiments/expFinal\", hop_length=512)\n",
    "#seg_accuracy, beat_accuracy = evaluate(\"baselines/debug2\")"
   ]
  },
  {
   "cell_type": "code",
   "execution_count": 102,
   "metadata": {},
   "outputs": [
    {
     "data": {
      "text/plain": [
       "7.503427006732458"
      ]
     },
     "execution_count": 102,
     "metadata": {},
     "output_type": "execute_result"
    }
   ],
   "source": [
    "np.average(times)"
   ]
  },
  {
   "cell_type": "code",
   "execution_count": 109,
   "metadata": {
    "ExecuteTime": {
     "end_time": "2020-05-09T23:15:21.181885Z",
     "start_time": "2020-05-09T23:14:17.493288Z"
    }
   },
   "outputs": [
    {
     "name": "stdout",
     "output_type": "stream",
     "text": [
      "experiments/expTest8/p1s_perf12-p1f_perf16.hyp\n",
      "experiments/expTest8/p1s_perf12-p1f_perf2.hyp\n",
      "p1f_perf2 p1s_perf12\n",
      "3928012.66666305 3982336\n",
      "experiments/expTest8/p1s_perf12-p1f_perf23.hyp\n",
      "p1f_perf23 p1s_perf12\n",
      "3797529.00000075 3852288\n",
      "experiments/expTest8/p1s_perf12-p1f_perf24.hyp\n",
      "experiments/expTest8/p1s_perf12-p1f_perf6.hyp\n",
      "p1f_perf6 p1s_perf12\n",
      "3799099.9999963506 3838976\n",
      "experiments/expTest8/p1s_perf2-p1f_perf16.hyp\n",
      "experiments/expTest8/p1s_perf2-p1f_perf2.hyp\n",
      "experiments/expTest8/p1s_perf2-p1f_perf23.hyp\n",
      "experiments/expTest8/p1s_perf2-p1f_perf24.hyp\n",
      "experiments/expTest8/p1s_perf2-p1f_perf6.hyp\n",
      "experiments/expTest8/p1s_perf25-p1f_perf16.hyp\n",
      "p1f_perf16 p1s_perf25\n",
      "3888554.6666641505 3962880\n",
      "experiments/expTest8/p1s_perf25-p1f_perf2.hyp\n",
      "p1f_perf2 p1s_perf25\n",
      "3928012.66666305 4083712\n",
      "experiments/expTest8/p1s_perf25-p1f_perf23.hyp\n",
      "p1f_perf23 p1s_perf25\n",
      "3797529.00000075 3882496\n",
      "experiments/expTest8/p1s_perf25-p1f_perf24.hyp\n",
      "p1f_perf24 p1s_perf25\n",
      "3493643.6666648993 3522560\n",
      "p1f_perf24 p1s_perf25\n",
      "3991737.33333165 4077056\n",
      "experiments/expTest8/p1s_perf25-p1f_perf6.hyp\n",
      "p1f_perf6 p1s_perf25\n",
      "3799099.9999963506 3855872\n",
      "experiments/expTest8/p1s_perf3-p1f_perf16.hyp\n",
      "experiments/expTest8/p1s_perf3-p1f_perf2.hyp\n",
      "experiments/expTest8/p1s_perf3-p1f_perf23.hyp\n",
      "experiments/expTest8/p1s_perf3-p1f_perf24.hyp\n",
      "experiments/expTest8/p1s_perf3-p1f_perf6.hyp\n",
      "experiments/expTest8/p1s_perf9-p1f_perf16.hyp\n",
      "hop_length 512\n",
      "[0.95714286 0.91904762 0.80952381]\n",
      "[0.         0.16509837 0.29426861 0.39150271 0.47647562 0.55004277\n",
      " 0.60906758 0.65583119 0.6960365  0.72426575 0.75078415 0.77502139\n",
      " 0.8003992  0.82035928 0.8431708  0.85885372 0.87966923 0.90134018\n",
      " 0.91787853 0.93099515 0.94240091 0.95152552 0.95694326 0.96549758\n",
      " 0.97091531 0.9740519  0.97832906 0.98003992 0.98289136 0.98602794\n",
      " 0.98802395 0.9903051  0.99116054 0.99144568 0.99144568 0.99144568\n",
      " 0.99173082 0.99173082 0.99201597 0.99201597 0.99201597 0.99230111\n",
      " 0.99230111 0.99230111 0.99258626 0.99315654 0.99315654 0.99401198\n",
      " 0.99401198 0.99401198 0.99429712 0.99429712 0.99429712 0.99429712\n",
      " 0.99429712 0.99429712 0.99458226 0.99458226 0.99486741 0.99486741\n",
      " 0.9954377  0.9954377  0.9954377  0.9954377  0.9954377  0.9954377\n",
      " 0.9954377  0.9954377  0.99572284 0.99600798 0.99600798 0.99600798\n",
      " 0.99600798 0.99600798 0.99600798 0.99600798 0.99600798 0.99600798\n",
      " 0.99600798 0.99600798]\n"
     ]
    }
   ],
   "source": [
    "seg_accuracy, beat_accuracy, times = evaluate(\"experiments/expTest8\")"
   ]
  },
  {
   "cell_type": "code",
   "execution_count": 50,
   "metadata": {
    "ExecuteTime": {
     "end_time": "2020-05-10T05:39:02.797818Z",
     "start_time": "2020-05-10T05:38:30.671020Z"
    },
    "scrolled": true
   },
   "outputs": [
    {
     "name": "stdout",
     "output_type": "stream",
     "text": [
      "hop_length 512\n",
      "[nan nan nan]\n",
      "[nan nan nan nan nan nan nan nan nan nan nan nan nan nan nan nan nan nan\n",
      " nan nan nan nan nan nan nan nan nan nan nan nan nan nan nan nan nan nan\n",
      " nan nan nan nan nan nan nan nan nan nan nan nan nan nan nan nan nan nan\n",
      " nan nan nan nan nan nan nan nan nan nan nan nan nan nan nan nan nan nan\n",
      " nan nan nan nan nan nan nan nan]\n"
     ]
    },
    {
     "name": "stderr",
     "output_type": "stream",
     "text": [
      "/home/dyang/anaconda3/envs/MIR5/lib/python3.7/site-packages/ipykernel_launcher.py:45: RuntimeWarning: invalid value encountered in true_divide\n",
      "/home/dyang/anaconda3/envs/MIR5/lib/python3.7/site-packages/ipykernel_launcher.py:46: RuntimeWarning: invalid value encountered in true_divide\n",
      "/home/dyang/anaconda3/envs/MIR5/lib/python3.7/site-packages/ipykernel_launcher.py:47: RuntimeWarning: invalid value encountered in true_divide\n"
     ]
    }
   ],
   "source": [
    "seg_accuracy, beat_accuracy = evaluate(\"baselines/test4\")"
   ]
  },
  {
   "cell_type": "code",
   "execution_count": 120,
   "metadata": {},
   "outputs": [
    {
     "data": {
      "image/png": "[encoded data removed]",
      "text/plain": [
       "<Figure size 432x288 with 1 Axes>"
      ]
     },
     "metadata": {
      "needs_background": "light"
     },
     "output_type": "display_data"
    }
   ],
   "source": [
    "\n",
    "x = [100,150,200,250,300,350,400,450,500,550,600,650,700,750,800]\n",
    "y= 1-np.array([0.372, 0.952, 0.972, 0.976, 0.976, 0.976, 0.96, 0.944, 0.92, 0.892, 0.84, 0.816, 0.712, .631, .228])-.047"
   ]
  },
  {
   "cell_type": "code",
   "execution_count": 123,
   "metadata": {},
   "outputs": [
    {
     "data": {
      "text/plain": [
       "[<matplotlib.lines.Line2D at 0x7fa6157bec10>]"
      ]
     },
     "execution_count": 123,
     "metadata": {},
     "output_type": "execute_result"
    },
    {
     "data": {
      "image/png": "[encoded data removed]",
      "text/plain": [
       "<Figure size 432x288 with 1 Axes>"
      ]
     },
     "metadata": {
      "needs_background": "light"
     },
     "output_type": "display_data"
    }
   ],
   "source": [
    "plt.rcParams.update({'font.size': 15})\n",
    "plt.gca().set_yticklabels(['{:.0f}%'.format(x*100) for x in plt.gca().get_yticks()]) \n",
    "plt.xlabel('Hop Size (samples)', fontsize=20)\n",
    "plt.ylabel('Error', fontsize=20)\n",
    "plt.plot(x,y, linewidth=3)"
   ]
  },
  {
   "cell_type": "code",
   "execution_count": 22,
   "metadata": {
    "ExecuteTime": {
     "end_time": "2020-05-09T23:16:59.135440Z",
     "start_time": "2020-05-09T23:16:59.127404Z"
    }
   },
   "outputs": [],
   "source": [
    "beat_y = beat_accuracy\n",
    "beat_x = np.arange(0.05, 2, 0.05)"
   ]
  },
  {
   "cell_type": "code",
   "execution_count": 57,
   "metadata": {
    "ExecuteTime": {
     "end_time": "2020-05-09T23:17:32.286428Z",
     "start_time": "2020-05-09T23:17:32.281353Z"
    }
   },
   "outputs": [],
   "source": [
    "beat_y = beat_accuracy\n",
    "beat_x = np.arange(0.05, 2, 0.05)"
   ]
  },
  {
   "cell_type": "code",
   "execution_count": 58,
   "metadata": {
    "ExecuteTime": {
     "end_time": "2020-05-09T23:17:32.926350Z",
     "start_time": "2020-05-09T23:17:32.785917Z"
    }
   },
   "outputs": [
    {
     "data": {
      "text/plain": [
       "Text(0, 0.5, 'Error')"
      ]
     },
     "execution_count": 58,
     "metadata": {},
     "output_type": "execute_result"
    },
    {
     "data": {
      "image/png": "[encoded data removed]",
      "text/plain": [
       "<Figure size 432x288 with 1 Axes>"
      ]
     },
     "metadata": {
      "needs_background": "light"
     },
     "output_type": "display_data"
    }
   ],
   "source": [
    "x=np.arange(0.0, 2, 0.025)\n",
    "plt.rcParams.update({'font.size': 15})\n",
    "plt.gca().set_yticklabels(['{:.0f}%'.format(x*100) for x in plt.gca().get_yticks()]) \n",
    "plt.plot(x, 1-np.array(beat_accuracy), linewidth=3)\n",
    "plt.xticks(np.arange(min(x), max(x)+.1, 0.2))\n",
    "plt.xlabel('Error Tolerance(s)', fontsize=20)\n",
    "plt.ylabel('Error', fontsize=20)"
   ]
  },
  {
   "cell_type": "code",
   "execution_count": 65,
   "metadata": {},
   "outputs": [
    {
     "data": {
      "text/plain": [
       "['(9.1,24.1)', '(29.1,36.1)', '(49.1,68.1)', '(68.1,95.1)', '(96.1,109.1)']"
      ]
     },
     "execution_count": 65,
     "metadata": {},
     "output_type": "execute_result"
    }
   ],
   "source": [
    "queryInfo['p1s']"
   ]
  },
  {
   "cell_type": "code",
   "execution_count": 66,
   "metadata": {},
   "outputs": [
    {
     "data": {
      "text/plain": [
       "{'1.1': 0.7393801963333333,\n",
       " '1.2': 1.458956916,\n",
       " '2.1': 2.19303099,\n",
       " '2.2': 2.815238095333333,\n",
       " '3.1': 3.461980347333333,\n",
       " '3.2': 4.078760393333334,\n",
       " '4.1': 4.729070294666666,\n",
       " '4.2': 5.400090703,\n",
       " '5.1': 6.018654573,\n",
       " '5.2': 6.651186697,\n",
       " '6.1': 7.249297052333333,\n",
       " '6.2': 7.944081632666667,\n",
       " '7.1': 8.635631141333333,\n",
       " '7.2': 9.349130763666667,\n",
       " '8.1': 9.972804233,\n",
       " '8.2': 10.94,\n",
       " '9.1': 12.544036281333334,\n",
       " '9.2': 13.276462585333334,\n",
       " '10.1': 14.010113378666667,\n",
       " '10.2': 14.742418745333334,\n",
       " '11.1': 15.459410430666667,\n",
       " '11.2': 16.144323507333336,\n",
       " '12.1': 16.866455026666667,\n",
       " '12.2': 17.63088435366667,\n",
       " '13.1': 18.41077853366667,\n",
       " '13.2': 19.130234316,\n",
       " '14.1': 19.889236583333332,\n",
       " '14.2': 20.651020408,\n",
       " '15.1': 21.42299319733333,\n",
       " '15.2': 22.121632652999995,\n",
       " '16.1': 22.859833711333334,\n",
       " '16.2': 23.630113378999997,\n",
       " '17.1': 24.394996220666666,\n",
       " '17.2': 25.254089191000002,\n",
       " '18.1': 26.001254724333336,\n",
       " '18.2': 26.728223734,\n",
       " '19.1': 27.46341647766667,\n",
       " '19.2': 28.170007558333335,\n",
       " '20.1': 28.912139077999996,\n",
       " '20.2': 29.652169312,\n",
       " '21.1': 30.389599395333335,\n",
       " '21.2': 31.096281179,\n",
       " '22.1': 31.807815570666666,\n",
       " '22.2': 32.508027211000005,\n",
       " '23.1': 33.274845049,\n",
       " '23.2': 33.970869236666665,\n",
       " '24.1': 34.70835978866666,\n",
       " '24.2': 35.45806500366667,\n",
       " '25.1': 36.24098261500001,\n",
       " '25.2': 37.00380952366667,\n",
       " '26.1': 37.776734694,\n",
       " '26.2': 38.53099017366667,\n",
       " '27.1': 39.25133786866667,\n",
       " '27.2': 40.012335601,\n",
       " '28.1': 40.802585033999996,\n",
       " '28.2': 41.629659864,\n",
       " '29.1': 42.381919879,\n",
       " '29.2': 43.153303099,\n",
       " '30.1': 43.90370370366666,\n",
       " '30.2': 44.67690098233333,\n",
       " '31.1': 45.426455026333336,\n",
       " '31.2': 46.17103552533333,\n",
       " '32.1': 46.927906274,\n",
       " '32.2': 47.749674981,\n",
       " '33.1': 48.52825396833333,\n",
       " '33.2': 49.247316704666666,\n",
       " '34.1': 50.0430839,\n",
       " '34.2': 50.78740740733334,\n",
       " '35.1': 51.55804988666667,\n",
       " '35.2': 52.29061224466667,\n",
       " '36.1': 53.060634920333335,\n",
       " '36.2': 53.800831443666674,\n",
       " '37.1': 54.56523053666666,\n",
       " '37.2': 55.28553287966667,\n",
       " '38.1': 56.177687074666665,\n",
       " '38.2': 56.95528344666667,\n",
       " '39.1': 57.69897203333333,\n",
       " '39.2': 58.406303855000004,\n",
       " '40.1': 59.121859410333336,\n",
       " '40.2': 59.83402872233333,\n",
       " '41.1': 60.587105064000006,\n",
       " '41.2': 61.29981859400001,\n",
       " '42.1': 62.139213907666665,\n",
       " '42.2': 62.90950869233333,\n",
       " '43.1': 63.663144369,\n",
       " '43.2': 64.33516250933333,\n",
       " '44.1': 65.067543462,\n",
       " '44.2': 65.79987906233333,\n",
       " '45.1': 66.609342404,\n",
       " '45.2': 67.39154950866667,\n",
       " '46.1': 68.16829931966667,\n",
       " '46.2': 68.99800453533334,\n",
       " '47.1': 69.939924414,\n",
       " '47.2': 70.83850340133334,\n",
       " '48.1': 71.655570673,\n",
       " '48.2': 72.49585789866667,\n",
       " '49.1': 73.40081632666666,\n",
       " '49.2': 74.22613756599999,\n",
       " '50.1': 75.05030990166667,\n",
       " '50.2': 75.85712774,\n",
       " '51.1': 76.666984127,\n",
       " '51.2': 77.45097505666666,\n",
       " '52.1': 78.278170824,\n",
       " '52.2': 79.08480725599999,\n",
       " '53.1': 79.93360544233333,\n",
       " '53.2': 80.68465608466667,\n",
       " '54.1': 81.49109599366666,\n",
       " '54.2': 82.28529100533335,\n",
       " '55.1': 83.08483749066666,\n",
       " '55.2': 83.96343159466666,\n",
       " '56.1': 84.72618291766666,\n",
       " '56.2': 85.567936508,\n",
       " '57.1': 86.70352229766667,\n",
       " '57.2': 87.70964474700001,\n",
       " '58.1': 88.47927437666665,\n",
       " '58.2': 89.25829176133333,\n",
       " '59.1': 90.10379440666667,\n",
       " '59.2': 90.92681783833335,\n",
       " '60.1': 91.76578987133335,\n",
       " '60.2': 92.59877551,\n",
       " '61.1': 93.44675736966667,\n",
       " '61.2': 94.26290249433333,\n",
       " '62.1': 95.09470899466668,\n",
       " '62.2': 95.96146636433333,\n",
       " '63.1': 96.82390022666665,\n",
       " '63.2': 97.62801209366667,\n",
       " '64.1': 98.42448979599999,\n",
       " '64.2': 99.27544973533332,\n",
       " '65.1': 100.11647770233333,\n",
       " '65.2': 100.86917611466667,\n",
       " '66.1': 101.65268329566668,\n",
       " '66.2': 102.49747543466667,\n",
       " '67.1': 103.43959183666665,\n",
       " '67.2': 104.56453514766667,\n",
       " '68.1': 105.92885865466667,\n",
       " '68.2': 106.77103552533333,\n",
       " '69.1': 107.672743764,\n",
       " '69.2': 108.545260771,\n",
       " '70.1': 109.49402872233333,\n",
       " '70.2': 110.35256235833333,\n",
       " '71.1': 111.241632653,\n",
       " '71.2': 112.101148904,\n",
       " '72.1': 112.98237339366669,\n",
       " '72.2': 113.84947845800001,\n",
       " '73.1': 114.78110355266665,\n",
       " '73.2': 115.66702947833333,\n",
       " '74.1': 116.54925170066667,\n",
       " '74.2': 117.45544973533333,\n",
       " '75.1': 118.34331065766666,\n",
       " '75.2': 119.22411186733332,\n",
       " '76.1': 120.15136810266665,\n",
       " '76.2': 121.05278911566666,\n",
       " '77.1': 121.97324263033333,\n",
       " '77.2': 122.89986394566667,\n",
       " '78.1': 123.78749811033333,\n",
       " '78.2': 124.659229025,\n",
       " '79.1': 125.52075585799999,\n",
       " '79.2': 126.361904762,\n",
       " '80.1': 127.22687830699999,\n",
       " '80.2': 128.10300831466665,\n",
       " '81.1': 129.02464096766667,\n",
       " '81.2': 129.91076341633334,\n",
       " '82.1': 130.81183673466666,\n",
       " '82.2': 131.74887377200002,\n",
       " '83.1': 132.67421012833333,\n",
       " '83.2': 133.54799697633334,\n",
       " '84.1': 134.47830687833334,\n",
       " '84.2': 135.347467876,\n",
       " '85.1': 136.14320483733334,\n",
       " '85.2': 136.88055933466669,\n",
       " '86.1': 137.61170068,\n",
       " '86.2': 138.33476946366667,\n",
       " '87.1': 139.05871504166666,\n",
       " '87.2': 139.76693877533333,\n",
       " '88.1': 140.4934542706667,\n",
       " '88.2': 141.22854119433333,\n",
       " '89.1': 141.95352985633335,\n",
       " '89.2': 142.68665154966666,\n",
       " '90.1': 143.41284958433332,\n",
       " '90.2': 144.11322751333333,\n",
       " '91.1': 144.82962962966667,\n",
       " '91.2': 145.52828420266667,\n",
       " '92.1': 146.22022675733334,\n",
       " '92.2': 146.929750567,\n",
       " '93.1': 147.61558578999998,\n",
       " '93.2': 148.32119425566668,\n",
       " '94.1': 149.05659863966665,\n",
       " '94.2': 149.817460317,\n",
       " '95.1': 150.72643990933335,\n",
       " '95.2': 151.810839002,\n",
       " '96.1': 153.57561602433336,\n",
       " '96.2': 154.40866213133333,\n",
       " '97.1': 155.21727891133335,\n",
       " '97.2': 155.96990173833333,\n",
       " '98.1': 156.75552532133332,\n",
       " '98.2': 157.48897959166666,\n",
       " '99.1': 158.27173091466668,\n",
       " '99.2': 159.05761148899998,\n",
       " '100.1': 159.837294029,\n",
       " '100.2': 160.60919123200003,\n",
       " '101.1': 161.38997732433333,\n",
       " '101.2': 162.13324263066667,\n",
       " '102.1': 162.90081632666667,\n",
       " '102.2': 163.69275888133333,\n",
       " '103.1': 164.79387755066668,\n",
       " '103.2': 165.47871504133334,\n",
       " '104.1': 166.04650037800002,\n",
       " '104.2': 166.60606198066668,\n",
       " '105.1': 167.23661375666669,\n",
       " '105.2': 167.83587301600002,\n",
       " '106.1': 168.448148148,\n",
       " '106.2': 169.04955404366663,\n",
       " '107.1': 169.60473167033334,\n",
       " '107.2': 170.25260770966668,\n",
       " '108.1': 170.8559939533333,\n",
       " '108.2': 171.49360544233332,\n",
       " '109.1': 172.223537415,\n",
       " '109.2': 173.04154195,\n",
       " '110.1': 173.96943310633333,\n",
       " '110.2': nan}"
      ]
     },
     "execution_count": 66,
     "metadata": {},
     "output_type": "execute_result"
    }
   ],
   "source": [
    "timeData['p1f_perf23']"
   ]
  },
  {
   "cell_type": "code",
   "execution_count": 26,
   "metadata": {},
   "outputs": [],
   "source": [
    "beat = 0\n",
    "for key in timeData.keys():\n",
    "    beat+=len(timeData[key])"
   ]
  },
  {
   "cell_type": "code",
   "execution_count": 28,
   "metadata": {},
   "outputs": [
    {
     "data": {
      "text/plain": [
       "11076"
      ]
     },
     "execution_count": 28,
     "metadata": {},
     "output_type": "execute_result"
    }
   ],
   "source": [
    "beat"
   ]
  },
  {
   "cell_type": "code",
   "execution_count": 70,
   "metadata": {},
   "outputs": [
    {
     "data": {
      "text/plain": [
       "Text(0.5, 1.0, 'Sorted Solo Segment Lengths in Seconds')"
      ]
     },
     "execution_count": 70,
     "metadata": {},
     "output_type": "execute_result"
    },
    {
     "data": {
      "image/png": "[encoded data removed]",
      "text/plain": [
       "<Figure size 432x288 with 1 Axes>"
      ]
     },
     "metadata": {
      "needs_background": "light"
     },
     "output_type": "display_data"
    }
   ],
   "source": [
    "beats = {}\n",
    "for key in queryInfo:\n",
    "    if 's' in key:\n",
    "        data = queryInfo[key]\n",
    "        for segment in data:\n",
    "            beat1 = segment.split(\",\")[0][1:]\n",
    "            beat2 = segment.split(\",\")[1][:-1]\n",
    "            if key in beats:\n",
    "                beats[key].append((beat1,beat2))\n",
    "            else:\n",
    "                beats[key] = [(beat1,beat2)]\n",
    "times={}\n",
    "for key in timeData:\n",
    "    pieceName = key.split(\"_\")[0]\n",
    "    if 's' in pieceName:\n",
    "        for beat1, beat2 in beats[pieceName]:\n",
    "            t1 = timeData[key][beat1]\n",
    "            t2 = timeData[key][beat2]\n",
    "            if pieceName in times:\n",
    "                times[pieceName].append(t2-t1)\n",
    "            else:\n",
    "                times[pieceName]=[t2-t1]\n",
    "for key in times:\n",
    "    plt.scatter(np.arange(len(times[key])),sorted(times[key])[::-1], label = '{}'.format(key))\n",
    "plt.legend(loc=\"upper right\",fontsize = 14)\n",
    "plt.title(\"Sorted Solo Segment Lengths in Seconds\")"
   ]
  },
  {
   "cell_type": "code",
   "execution_count": null,
   "metadata": {},
   "outputs": [],
   "source": [
    "beats = {}\n",
    "for key in audioFiles:\n",
    "    if 's' in key:\n",
    "        for audio in audioFiles[key]\n",
    "    "
   ]
  }
 ],
 "metadata": {
  "kernelspec": {
   "display_name": "Python 3",
   "language": "python",
   "name": "python3"
  },
  "language_info": {
   "codemirror_mode": {
    "name": "ipython",
    "version": 3
   },
   "file_extension": ".py",
   "mimetype": "text/x-python",
   "name": "python",
   "nbconvert_exporter": "python",
   "pygments_lexer": "ipython3",
   "version": "3.7.6"
  },
  "toc": {
   "base_numbering": 1,
   "nav_menu": {},
   "number_sections": true,
   "sideBar": true,
   "skip_h1_title": false,
   "title_cell": "Table of Contents",
   "title_sidebar": "Contents",
   "toc_cell": false,
   "toc_position": {},
   "toc_section_display": true,
   "toc_window_display": false
  }
 },
 "nbformat": 4,
 "nbformat_minor": 4
}
