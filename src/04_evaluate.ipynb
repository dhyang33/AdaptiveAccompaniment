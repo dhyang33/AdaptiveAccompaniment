{
 "cells": [
  {
   "cell_type": "markdown",
   "metadata": {},
   "source": [
    "# Import and Set Up"
   ]
  },
  {
   "cell_type": "code",
   "execution_count": 1,
   "metadata": {
    "ExecuteTime": {
     "end_time": "2020-05-09T22:51:31.327359Z",
     "start_time": "2020-05-09T22:51:30.978322Z"
    }
   },
   "outputs": [
    {
     "name": "stdout",
     "output_type": "stream",
     "text": [
      "/mnt/c/Users/Daniel Yang/Desktop/Final_Project\n"
     ]
    }
   ],
   "source": [
    "import numpy as np\n",
    "import matplotlib.pyplot as plt\n",
    "import pickle as pkl\n",
    "import glob\n",
    "%cd ../"
   ]
  },
  {
   "cell_type": "code",
   "execution_count": 2,
   "metadata": {
    "ExecuteTime": {
     "end_time": "2020-05-09T22:51:32.026925Z",
     "start_time": "2020-05-09T22:51:31.445617Z"
    }
   },
   "outputs": [],
   "source": [
    "fileId_path = \"experiments/fileIds.pkl\"\n",
    "queryInfo_path = \"experiments/queryInfo.pkl\"\n",
    "timeData_path = \"experiments/timeData.pkl\"\n",
    "audioFiles_path = \"experiments/audioFiles.pkl\"\n",
    "with open(fileId_path, 'rb') as f:\n",
    "    fileIds=pkl.load(f)\n",
    "with open(queryInfo_path, 'rb') as f:\n",
    "    queryInfo=pkl.load(f)\n",
    "with open(timeData_path, 'rb') as f:\n",
    "    timeData=pkl.load(f)\n",
    "with open(audioFiles_path, 'rb') as f:\n",
    "    audioFiles=pkl.load(f)"
   ]
  },
  {
   "cell_type": "markdown",
   "metadata": {},
   "source": [
    "# File Mangement and Helpers"
   ]
  },
  {
   "cell_type": "code",
   "execution_count": null,
   "metadata": {},
   "outputs": [],
   "source": [
    "def writeToFile( solo_id, orch_id, segment_id, error_ls, hypdir):\n",
    "    '''\n",
    "    Argument: solo_id, orch_id, segment_id,: \n",
    "              identifying information for a solo segment \n",
    "              and an orchestra audio\n",
    "              error_ls: the difference between prediction and ground truth \n",
    "              to be stored\n",
    "              hypdir: name of folder for the file to be stored in\n",
    "    Function: use pickle to dump the error list \n",
    "    '''\n",
    "    if hypdir != None:\n",
    "        experiment = \"experiments/{}\".format(hypdir)\n",
    "        if not os.path.exists(experiment):\n",
    "            os.mkdir(experiment)\n",
    "        fname = \"experiments/{}/{}-{}-{}.hyp\".format(hypdir, solo_id, orch_id,segment_id)\n",
    "        with open (fname, 'wb') as f:\n",
    "            pkl.dump((error_ls),f)"
   ]
  },
  {
   "cell_type": "code",
   "execution_count": null,
   "metadata": {},
   "outputs": [],
   "source": [
    "def get_piece():\n",
    "    '''\n",
    "    Return:\n",
    "            a list of orchestra audio file name  \n",
    "            a list of soloist audio file name\n",
    "    '''\n",
    "    solo_piece = [[] for i in range(4)]\n",
    "    orch_piece = [[] for i in range(4)]\n",
    "    for j in timeData:\n",
    "        if j[2]==\"s\":\n",
    "            solo_piece[int(j[1])-1].append(j)\n",
    "        else:\n",
    "            orch_piece[int(j[1])-1].append(j)\n",
    "    return orch_piece, solo_piece"
   ]
  },
  {
   "cell_type": "code",
   "execution_count": null,
   "metadata": {
    "code_folding": [
     0
    ]
   },
   "outputs": [],
   "source": [
    "def getAssignment():\n",
    "    '''\n",
    "    Return: \n",
    "            a list of all combinations of soloist segments \n",
    "            and orchestra reference tracks information \n",
    "            in the form of piece_id,segment_id,orch_id,solo_id\n",
    "            where piece_id and segment_id are numbers \n",
    "            and orch_id and solo_id are the names of the audio files     \n",
    "    '''\n",
    "    assignment = []\n",
    "    count = 0\n",
    "    time_signature = [2,4,4,4]\n",
    "    orch_piece, solo_piece  = get_piece()\n",
    "    for piece_id in range(len(orch_piece)):\n",
    "        \n",
    "        segment_info = queryInfo['p'+str(piece_id+1)+'s']\n",
    "        segment = []\n",
    "        for raw_seg in segment_info:\n",
    "            start, end = raw_seg[1:raw_seg.index(\",\")], raw_seg[raw_seg.index(\",\")+1:-1]\n",
    "            segment.append([start,end])\n",
    "        \n",
    "        for segment_id in range(len(segment)):\n",
    "            start, end = segment[segment_id]\n",
    "            \n",
    "            query_list = []\n",
    "            query_index = start\n",
    "            #print(end)\n",
    "            while query_index != end:\n",
    "                #print(query_index)\n",
    "                query_list.append(query_index)\n",
    "                measure = int(query_index[:query_index.index('.')])\n",
    "                beat = int(query_index[query_index.index('.')+1:])\n",
    "                if beat == time_signature[piece_id]:\n",
    "                    beat = 1\n",
    "                    measure+=1\n",
    "                    query_index = str(measure)+\".\"+str(beat)\n",
    "                else:\n",
    "                    beat+=1\n",
    "                    query_index = str(measure)+\".\"+str(beat)\n",
    "                query_list.append(query_index)\n",
    "                \n",
    "            for orch_id,solo_id in itertools.product(orch_piece[piece_id],solo_piece[piece_id]):\n",
    "                \n",
    "                \n",
    "                assignment.append([piece_id,segment_id,orch_id,solo_id])\n",
    "                \n",
    "    return assignment"
   ]
  },
  {
   "cell_type": "code",
   "execution_count": null,
   "metadata": {},
   "outputs": [],
   "source": [
    "def readHypFiles(hypdir):\n",
    "    \n",
    "    for hypfile in sorted(glob.glob(\"{}/*.hyp\".format(hypdir))):\n",
    "        print(hypfile)\n",
    "        with open(hypfile, \"rb\") as f:\n",
    "            yield(pkl.load(f))"
   ]
  },
  {
   "cell_type": "markdown",
   "metadata": {},
   "source": [
    "# Evaluating Segmental DTW Using Time Function"
   ]
  },
  {
   "cell_type": "code",
   "execution_count": 4,
   "metadata": {
    "ExecuteTime": {
     "end_time": "2020-05-09T22:51:32.216203Z",
     "start_time": "2020-05-09T22:51:32.207075Z"
    }
   },
   "outputs": [],
   "source": [
    "def evaluateBeatLevel(tf, solo_name, ref_name, sr=22050):\n",
    "    # Only evaluate within segments\n",
    "    diffs = []\n",
    "    pieceName = solo_name.split('_')[0]\n",
    "    gt_segments = queryInfo[pieceName]\n",
    "    annotated_beats = list(timeData[ref_name].keys())\n",
    "    for idx,beats in enumerate(gt_segments):\n",
    "        beat1 = beats.split(',')[0][1:]\n",
    "        beat2 = beats.split(',')[1][:-1]\n",
    "        idx1 = annotated_beats.index(beat1)\n",
    "        idx2 = annotated_beats.index(beat2)\n",
    "        #offset = int(timeData[ref_name][beat1]*sr)-segment_predict[idx][0]\n",
    "        #base_time = tf[segment_predict[idx][0]]\n",
    "        base_time = tf[int(timeData[ref_name][beat1]*sr)]\n",
    "        #print(offset)\n",
    "        \n",
    "        new_times = {}\n",
    "        for i in range(idx1,idx2+1):\n",
    "            key = annotated_beats[i]\n",
    "            sample = tf[int(timeData[ref_name][key]*sr)]\n",
    "            new_time = sample-base_time\n",
    "            new_times[key]=new_time\n",
    "            \n",
    "        gt_beats = list(timeData[solo_name].keys())\n",
    "        gt_base_time=timeData[solo_name][beat1]\n",
    "        prev = 0\n",
    "        prevgt = 0\n",
    "        for idx, key in enumerate(new_times):\n",
    "            if key in gt_beats:\n",
    "                gt_time = (timeData[solo_name][key]-gt_base_time)*sr\n",
    "                pred_time = new_times[key]\n",
    "                #f idx != 0:\n",
    "                #   print(\"diff\",gt_time-prevgt, pred_time-prev)\n",
    "                prev = pred_time\n",
    "                prevgt = gt_time\n",
    "                #rint(gt_time, pred_time)\n",
    "                diffs.append(np.abs(gt_time-pred_time))\n",
    "    return diffs"
   ]
  },
  {
   "cell_type": "code",
   "execution_count": 5,
   "metadata": {
    "ExecuteTime": {
     "end_time": "2020-05-09T22:51:32.564345Z",
     "start_time": "2020-05-09T22:51:32.552985Z"
    }
   },
   "outputs": [],
   "source": [
    "def evaluateBeatLevelFirst(tf, segment_predict, solo_name, ref_name, sr=22050):\n",
    "    # Only evaluate within segments\n",
    "    diffs = []\n",
    "    pieceName = solo_name.split('_')[0]\n",
    "    gt_segments = queryInfo[pieceName]\n",
    "    annotated_beats = list(timeData[ref_name].keys())\n",
    "    for idx,beats in enumerate(gt_segments):\n",
    "        if idx!=1:\n",
    "            continue\n",
    "        beat1 = beats.split(',')[0][1:]\n",
    "        beat2 = beats.split(',')[1][:-1]\n",
    "        idx1 = annotated_beats.index(beat1)\n",
    "        idx2 = annotated_beats.index(beat2)\n",
    "        offset = int(timeData[ref_name][beat1]*sr)-segment_predict[idx][0]\n",
    "        base_time = tf[segment_predict[idx][0]]\n",
    "        \n",
    "        new_times = {}\n",
    "        for i in range(idx1,idx2+1):\n",
    "            key = annotated_beats[i]\n",
    "            sample = tf[int(timeData[ref_name][key]*sr)]\n",
    "            new_time = sample-base_time\n",
    "            new_times[key]=new_time\n",
    "            \n",
    "        gt_beats = list(timeData[solo_name].keys())\n",
    "        gt_base_time=timeData[solo_name][beat1]\n",
    "        prev = 0\n",
    "        prevgt = 0\n",
    "        for idx, key in enumerate(new_times):\n",
    "            if key in gt_beats:\n",
    "                gt_time = (timeData[solo_name][key]-gt_base_time)*sr\n",
    "                pred_time = new_times[key]\n",
    "                #f idx != 0:\n",
    "                #   print(\"diff\",gt_time-prevgt, pred_time-prev)\n",
    "                prev = pred_time\n",
    "                prevgt = gt_time\n",
    "                #rint(gt_time, pred_time)\n",
    "                diffs.append(np.abs(gt_time-pred_time))\n",
    "    return diffs"
   ]
  },
  {
   "cell_type": "code",
   "execution_count": 6,
   "metadata": {
    "ExecuteTime": {
     "end_time": "2020-05-09T22:51:32.837998Z",
     "start_time": "2020-05-09T22:51:32.831186Z"
    }
   },
   "outputs": [],
   "source": [
    "def evaluateSegmentLevel(segment_predict, solo_name, ref_name, sr=22050):\n",
    "    pieceName = solo_name.split('_')[0]\n",
    "    gt_segments = queryInfo[pieceName]\n",
    "    gt_samples = []\n",
    "    diffs = []\n",
    "    for beats in gt_segments:\n",
    "        beat1 = beats.split(',')[0][1:]\n",
    "        beat2 = beats.split(',')[1][:-1]\n",
    "        sample1 = timeData[ref_name][beat1]*sr\n",
    "        sample2 = timeData[ref_name][beat2]*sr\n",
    "        gt_samples.append((sample1, sample2))\n",
    "    for idx,segment in enumerate(segment_predict):\n",
    "        seg0 = segment[0]\n",
    "        seg1 = segment[1]\n",
    "        diff0 = np.abs(gt_samples[idx][0]-seg0)\n",
    "        diff1 = np.abs(gt_samples[idx][1]-seg1)\n",
    "        diffs.append(diff0)\n",
    "        diffs.append(diff1)\n",
    "        if diff0 > 22050:\n",
    "            print(solo_name, ref_name)\n",
    "            print(gt_samples[idx][0],seg0)\n",
    "        if diff1 > 22050:\n",
    "            print(ref_name, solo_name)\n",
    "            print(gt_samples[idx][1],seg1)\n",
    "        #print((gt_samples[idx][0]-seg0)/(sr*sr))\n",
    "    return diffs, gt_samples, segment_predict"
   ]
  },
  {
   "cell_type": "code",
   "execution_count": 7,
   "metadata": {
    "ExecuteTime": {
     "end_time": "2020-05-10T05:38:25.652697Z",
     "start_time": "2020-05-10T05:38:25.633766Z"
    }
   },
   "outputs": [],
   "source": [
    "def evaluateTF(hypdir, hop_length=512, sr=22050):\n",
    "    '''\n",
    "    Evaluate Time Function\n",
    "    '''\n",
    "    times = []\n",
    "    segment_tolerances =[1, 0.5, 0.25]\n",
    "    segment_total = np.zeros(len(segment_tolerances))\n",
    "    segment_correct = np.zeros(len(segment_tolerances))\n",
    "    \n",
    "    beat_tolerances =np.arange(0.0, 2, 0.025)\n",
    "    #beat_tolerances=[0.25]\n",
    "    beat_total = np.zeros(len(beat_tolerances))\n",
    "    beat_correct = np.zeros(len(beat_tolerances))\n",
    "    beat_totalFirst = np.zeros(len(beat_tolerances))\n",
    "    beat_correctFirst = np.zeros(len(beat_tolerances))\n",
    "    for solo_name, ref_name, tf, segment_predict, time_taken in readHypFiles(hypdir):\n",
    "        tf = np.array(tf)\n",
    "        segment_predict = np.array(segment_predict)*hop_length\n",
    "        #print(segment_predict)\n",
    "        segment_diffs, gt_samples, segment_predict = evaluateSegmentLevel(segment_predict, solo_name, ref_name)\n",
    "        if any(tf!=None):\n",
    "            beat_diffs = evaluateBeatLevel(tf, solo_name, ref_name)\n",
    "            beat_diffsFirst = evaluateBeatLevelFirst(tf, segment_predict, solo_name, ref_name)\n",
    "            #beat_diffs = evaluateDiffLevel(tf, segment_predict, solo_name, ref_name)\n",
    "            beat_diffs =(np.array(beat_diffs)/sr)\n",
    "            beat_diffsFirst =(np.array(beat_diffsFirst)/sr)\n",
    "        segment_diffs =np.array(segment_diffs)/sr\n",
    "        times.append(time_taken)\n",
    "        \n",
    "        #Update Segment Level Accuracy\n",
    "        for idx, tolerance in enumerate(segment_tolerances):\n",
    "            segment_correct[idx] += np.sum(np.where(segment_diffs<tolerance, 1, 0))\n",
    "            segment_total[idx]+=len(segment_diffs)\n",
    "            \n",
    "            \n",
    "        if any(tf!=None):\n",
    "            #Update Beat Level Accuracy\n",
    "            for idx, tolerance in enumerate(beat_tolerances):\n",
    "                beat_correct[idx] += np.sum(np.where(beat_diffs<tolerance, 1, 0))\n",
    "                beat_total[idx]+=len(beat_diffs)\n",
    "\n",
    "            #Update First Beat Level Accuracy\n",
    "            for idx, tolerance in enumerate(beat_tolerances):\n",
    "                beat_correctFirst[idx] += np.sum(np.where(beat_diffsFirst<tolerance, 1, 0))\n",
    "                beat_totalFirst[idx]+=len(beat_diffsFirst)\n",
    "    print(\"hop_length\", hop_length)\n",
    "    print(segment_correct/segment_total)\n",
    "    print(beat_correct/beat_total)\n",
    "    return segment_correct/segment_total, beat_correct/beat_total, times   "
   ]
  },
  {
   "cell_type": "code",
   "execution_count": 8,
   "metadata": {
    "ExecuteTime": {
     "end_time": "2020-05-09T22:54:26.822684Z",
     "start_time": "2020-05-09T22:53:55.892781Z"
    },
    "collapsed": true
   },
   "outputs": [
    {
     "name": "stdout",
     "output_type": "stream",
     "text": [
      "experiments/expFinal/p1s_perf12-p1f_perf16.hyp\n",
      "experiments/expFinal/p1s_perf12-p1f_perf2.hyp\n",
      "p1f_perf2 p1s_perf12\n",
      "3928012.66666305 3983360\n",
      "experiments/expFinal/p1s_perf12-p1f_perf23.hyp\n",
      "p1f_perf23 p1s_perf12\n",
      "3797529.00000075 3849216\n",
      "experiments/expFinal/p1s_perf12-p1f_perf24.hyp\n",
      "experiments/expFinal/p1s_perf12-p1f_perf6.hyp\n",
      "p1f_perf6 p1s_perf12\n",
      "3799099.9999963506 3838976\n",
      "experiments/expFinal/p1s_perf2-p1f_perf16.hyp\n",
      "experiments/expFinal/p1s_perf2-p1f_perf2.hyp\n",
      "experiments/expFinal/p1s_perf2-p1f_perf23.hyp\n",
      "experiments/expFinal/p1s_perf2-p1f_perf24.hyp\n",
      "experiments/expFinal/p1s_perf2-p1f_perf6.hyp\n",
      "experiments/expFinal/p1s_perf25-p1f_perf16.hyp\n",
      "p1f_perf16 p1s_perf25\n",
      "3888554.6666641505 3974144\n",
      "experiments/expFinal/p1s_perf25-p1f_perf2.hyp\n",
      "p1f_perf2 p1s_perf25\n",
      "3928012.66666305 4083712\n",
      "experiments/expFinal/p1s_perf25-p1f_perf23.hyp\n",
      "p1f_perf23 p1s_perf25\n",
      "3797529.00000075 3882496\n",
      "experiments/expFinal/p1s_perf25-p1f_perf24.hyp\n",
      "p1f_perf24 p1s_perf25\n",
      "3493643.6666648993 3522560\n",
      "p1f_perf24 p1s_perf25\n",
      "3991737.33333165 4076544\n",
      "experiments/expFinal/p1s_perf25-p1f_perf6.hyp\n",
      "p1f_perf6 p1s_perf25\n",
      "3799099.9999963506 3857920\n",
      "experiments/expFinal/p1s_perf3-p1f_perf16.hyp\n",
      "experiments/expFinal/p1s_perf3-p1f_perf2.hyp\n",
      "experiments/expFinal/p1s_perf3-p1f_perf23.hyp\n",
      "p1f_perf23 p1s_perf3\n",
      "3797529.00000075 3887104\n",
      "experiments/expFinal/p1s_perf3-p1f_perf24.hyp\n",
      "experiments/expFinal/p1s_perf3-p1f_perf6.hyp\n",
      "experiments/expFinal/p1s_perf9-p1f_perf16.hyp\n",
      "experiments/expFinal/p1s_perf9-p1f_perf2.hyp\n",
      "experiments/expFinal/p1s_perf9-p1f_perf23.hyp\n",
      "experiments/expFinal/p1s_perf9-p1f_perf24.hyp\n",
      "experiments/expFinal/p1s_perf9-p1f_perf6.hyp\n",
      "experiments/expFinal/p2s_perf10-p2f_perf1.hyp\n",
      "p2f_perf1 p2s_perf10\n",
      "1345851.3333310501 1320960\n",
      "p2f_perf1 p2s_perf10\n",
      "3600637.66666695 3664896\n",
      "experiments/expFinal/p2s_perf10-p2f_perf14.hyp\n",
      "experiments/expFinal/p2s_perf10-p2f_perf18.hyp\n",
      "p2f_perf18 p2s_perf10\n",
      "1304883.6666684 1354752\n",
      "p2f_perf18 p2s_perf10\n",
      "5317967.9999963995 5290496\n",
      "experiments/expFinal/p2s_perf10-p2f_perf20.hyp\n",
      "experiments/expFinal/p2s_perf10-p2f_perf5.hyp\n",
      "p2f_perf5 p2s_perf10\n",
      "1106789.0000002503 1134592\n",
      "p2s_perf10 p2f_perf5\n",
      "2253295.99999455 2024448\n",
      "p2f_perf5 p2s_perf10\n",
      "3153074.3333375994 3221504\n",
      "experiments/expFinal/p2s_perf17-p2f_perf1.hyp\n",
      "p2f_perf1 p2s_perf17\n",
      "1345851.3333310501 1303552\n"
     ]
    },
    {
     "name": "stderr",
     "output_type": "stream",
     "text": [
      "/home/dyang/anaconda3/envs/MIR5/lib/python3.7/site-packages/ipykernel_launcher.py:37: RuntimeWarning: invalid value encountered in less\n"
     ]
    },
    {
     "name": "stdout",
     "output_type": "stream",
     "text": [
      "experiments/expFinal/p2s_perf17-p2f_perf14.hyp\n",
      "experiments/expFinal/p2s_perf17-p2f_perf18.hyp\n",
      "p2f_perf18 p2s_perf17\n",
      "1304883.6666684 1280000\n",
      "p2f_perf18 p2s_perf17\n",
      "5317967.9999963995 5291008\n",
      "experiments/expFinal/p2s_perf17-p2f_perf20.hyp\n",
      "experiments/expFinal/p2s_perf17-p2f_perf5.hyp\n",
      "p2f_perf5 p2s_perf17\n",
      "4821841.6666623 4788736\n",
      "experiments/expFinal/p2s_perf4-p2f_perf1.hyp\n",
      "p2f_perf1 p2s_perf4\n",
      "1345851.3333310501 1297408\n",
      "experiments/expFinal/p2s_perf4-p2f_perf14.hyp\n",
      "experiments/expFinal/p2s_perf4-p2f_perf18.hyp\n",
      "p2f_perf18 p2s_perf4\n",
      "5317967.9999963995 5287424\n",
      "experiments/expFinal/p2s_perf4-p2f_perf20.hyp\n",
      "experiments/expFinal/p2s_perf4-p2f_perf5.hyp\n",
      "p2f_perf5 p2s_perf4\n",
      "3153074.3333375994 3209216\n",
      "p2f_perf5 p2s_perf4\n",
      "4821841.6666623 4794880\n",
      "experiments/expFinal/p2s_perf8-p2f_perf1.hyp\n",
      "p2f_perf1 p2s_perf8\n",
      "1345851.3333310501 1321984\n",
      "experiments/expFinal/p2s_perf8-p2f_perf14.hyp\n",
      "p2f_perf14 p2s_perf8\n",
      "5230606.3333377 5207040\n",
      "experiments/expFinal/p2s_perf8-p2f_perf18.hyp\n",
      "p2f_perf18 p2s_perf8\n",
      "1304883.6666684 1354752\n",
      "p2f_perf18 p2s_perf8\n",
      "5317967.9999963995 5287936\n",
      "experiments/expFinal/p2s_perf8-p2f_perf20.hyp\n",
      "experiments/expFinal/p2s_perf8-p2f_perf5.hyp\n",
      "p2f_perf5 p2s_perf8\n",
      "1106789.0000002503 1134592\n",
      "p2f_perf5 p2s_perf8\n",
      "3153074.3333375994 3222016\n",
      "experiments/expFinal/p2s_perf9-p2f_perf1.hyp\n",
      "p2f_perf1 p2s_perf9\n",
      "1345851.3333310501 1375744\n",
      "p2f_perf1 p2s_perf9\n",
      "3600637.66666695 3665920\n",
      "experiments/expFinal/p2s_perf9-p2f_perf14.hyp\n",
      "experiments/expFinal/p2s_perf9-p2f_perf18.hyp\n",
      "p2f_perf18 p2s_perf9\n",
      "1304883.6666684 1355776\n",
      "p2f_perf18 p2s_perf9\n",
      "5317967.9999963995 5288960\n",
      "experiments/expFinal/p2s_perf9-p2f_perf20.hyp\n",
      "experiments/expFinal/p2s_perf9-p2f_perf5.hyp\n",
      "p2f_perf5 p2s_perf9\n",
      "1106789.0000002503 1135104\n",
      "p2s_perf9 p2f_perf5\n",
      "2253295.99999455 2024960\n",
      "p2f_perf5 p2s_perf9\n",
      "3153074.3333375994 3221504\n",
      "experiments/expFinal/p3s_perf12-p3f_perf11.hyp\n",
      "experiments/expFinal/p3s_perf12-p3f_perf16.hyp\n",
      "experiments/expFinal/p3s_perf12-p3f_perf2.hyp\n",
      "p3s_perf12 p3f_perf2\n",
      "3455676.3333372 3425792\n",
      "experiments/expFinal/p3s_perf12-p3f_perf23.hyp\n",
      "experiments/expFinal/p3s_perf12-p3f_perf24.hyp\n",
      "experiments/expFinal/p3s_perf2-p3f_perf11.hyp\n",
      "experiments/expFinal/p3s_perf2-p3f_perf16.hyp\n",
      "experiments/expFinal/p3s_perf2-p3f_perf2.hyp\n",
      "p3s_perf2 p3f_perf2\n",
      "3455676.3333372 3424768\n",
      "experiments/expFinal/p3s_perf2-p3f_perf23.hyp\n",
      "experiments/expFinal/p3s_perf2-p3f_perf24.hyp\n",
      "experiments/expFinal/p3s_perf21-p3f_perf11.hyp\n",
      "experiments/expFinal/p3s_perf21-p3f_perf16.hyp\n",
      "experiments/expFinal/p3s_perf21-p3f_perf2.hyp\n",
      "p3s_perf21 p3f_perf2\n",
      "3455676.3333372 3425280\n",
      "experiments/expFinal/p3s_perf21-p3f_perf23.hyp\n",
      "experiments/expFinal/p3s_perf21-p3f_perf24.hyp\n",
      "experiments/expFinal/p3s_perf22-p3f_perf11.hyp\n"
     ]
    },
    {
     "name": "stderr",
     "output_type": "stream",
     "text": [
      "/home/dyang/anaconda3/envs/MIR5/lib/python3.7/site-packages/ipykernel_launcher.py:42: RuntimeWarning: invalid value encountered in less\n"
     ]
    },
    {
     "name": "stdout",
     "output_type": "stream",
     "text": [
      "experiments/expFinal/p3s_perf22-p3f_perf16.hyp\n",
      "experiments/expFinal/p3s_perf22-p3f_perf2.hyp\n",
      "experiments/expFinal/p3s_perf22-p3f_perf23.hyp\n",
      "experiments/expFinal/p3s_perf22-p3f_perf24.hyp\n",
      "experiments/expFinal/p3s_perf9-p3f_perf11.hyp\n",
      "experiments/expFinal/p3s_perf9-p3f_perf16.hyp\n",
      "experiments/expFinal/p3s_perf9-p3f_perf2.hyp\n",
      "p3s_perf9 p3f_perf2\n",
      "3455676.3333372 3425280\n",
      "experiments/expFinal/p3s_perf9-p3f_perf23.hyp\n",
      "experiments/expFinal/p3s_perf9-p3f_perf24.hyp\n",
      "experiments/expFinal/p4s_perf15-p4f_perf13.hyp\n",
      "p4s_perf15 p4f_perf13\n",
      "204395.33332680003 1395712\n",
      "p4f_perf13 p4s_perf15\n",
      "1369877.33333535 2529792\n",
      "experiments/expFinal/p4s_perf15-p4f_perf16.hyp\n",
      "p4s_perf15 p4f_perf16\n",
      "18244.666661550003 1144832\n",
      "p4f_perf16 p4s_perf15\n",
      "1116649.33333275 2265088\n",
      "experiments/expFinal/p4s_perf15-p4f_perf2.hyp\n",
      "experiments/expFinal/p4s_perf2-p4f_perf13.hyp\n",
      "p4s_perf2 p4f_perf13\n",
      "204395.33332680003 1395200\n",
      "p4f_perf13 p4s_perf2\n",
      "1369877.33333535 2530304\n",
      "experiments/expFinal/p4s_perf2-p4f_perf16.hyp\n",
      "p4s_perf2 p4f_perf16\n",
      "18244.666661550003 1143296\n",
      "p4f_perf16 p4s_perf2\n",
      "1116649.33333275 2265600\n",
      "p4s_perf2 p4f_perf16\n",
      "2302869.66666645 2279424\n",
      "experiments/expFinal/p4s_perf2-p4f_perf2.hyp\n",
      "experiments/expFinal/p4s_perf8-p4f_perf13.hyp\n",
      "p4s_perf8 p4f_perf13\n",
      "204395.33332680003 1394688\n",
      "p4f_perf13 p4s_perf8\n",
      "1369877.33333535 2527744\n",
      "experiments/expFinal/p4s_perf8-p4f_perf16.hyp\n",
      "p4s_perf8 p4f_perf16\n",
      "18244.666661550003 1148416\n",
      "p4f_perf16 p4s_perf8\n",
      "1116649.33333275 2264064\n",
      "experiments/expFinal/p4s_perf8-p4f_perf2.hyp\n",
      "experiments/expFinal/p4s_perf9-p4f_perf13.hyp\n",
      "p4s_perf9 p4f_perf13\n",
      "204395.33332680003 1395712\n",
      "p4f_perf13 p4s_perf9\n",
      "1369877.33333535 2529792\n",
      "p4s_perf9 p4f_perf13\n",
      "2562035.9999955003 2531328\n",
      "experiments/expFinal/p4s_perf9-p4f_perf16.hyp\n",
      "p4s_perf9 p4f_perf16\n",
      "18244.666661550003 1148928\n",
      "p4f_perf16 p4s_perf9\n",
      "1116649.33333275 2264576\n",
      "experiments/expFinal/p4s_perf9-p4f_perf2.hyp\n",
      "hop_length 512\n",
      "[0.92907801 0.90307329 0.75531915]\n",
      "[0.         0.11707441 0.20782189 0.28180818 0.34910692 0.40865995\n",
      " 0.4609752  0.50524846 0.5490138  0.58909676 0.62638618 0.65944299\n",
      " 0.68902904 0.71603318 0.7454076  0.77478202 0.79945822 0.81787014\n",
      " 0.83158385 0.84076864 0.84872598 0.85613307 0.86104292 0.86430204\n",
      " 0.8679421  0.86984678 0.87196309 0.87378312 0.87594176 0.87742318\n",
      " 0.87924321 0.88042834 0.88186743 0.88262931 0.88377212 0.8850419\n",
      " 0.88631169 0.88775078 0.8892322  0.89092525 0.89198341 0.89308389\n",
      " 0.89443833 0.89625836 0.89765513 0.89955981 0.90074494 0.90142216\n",
      " 0.90256497 0.90353847 0.904385   0.90506222 0.90569711 0.90637433\n",
      " 0.90671294 0.90700923 0.90747482 0.90802506 0.90832134 0.90865995\n",
      " 0.90912554 0.9095488  0.90992974 0.910353   0.91111487 0.91136883\n",
      " 0.91225768 0.91327351 0.91382375 0.91441632 0.91475493 0.91509354\n",
      " 0.91547448 0.91577076 0.91589774 0.91610937 0.91619402 0.91661729\n",
      " 0.91687124 0.91716753]\n"
     ]
    }
   ],
   "source": [
    "seg_accuracy, beat_accuracy, times = evaluateTF(\"experiments/expFinal\", hop_length=512)\n",
    "#seg_accuracy, beat_accuracy = evaluate(\"baselines/debug2\")"
   ]
  },
  {
   "cell_type": "code",
   "execution_count": 109,
   "metadata": {
    "ExecuteTime": {
     "end_time": "2020-05-09T23:15:21.181885Z",
     "start_time": "2020-05-09T23:14:17.493288Z"
    },
    "collapsed": true
   },
   "outputs": [
    {
     "name": "stdout",
     "output_type": "stream",
     "text": [
      "experiments/expTest8/p1s_perf12-p1f_perf16.hyp\n",
      "experiments/expTest8/p1s_perf12-p1f_perf2.hyp\n",
      "p1f_perf2 p1s_perf12\n",
      "3928012.66666305 3982336\n",
      "experiments/expTest8/p1s_perf12-p1f_perf23.hyp\n",
      "p1f_perf23 p1s_perf12\n",
      "3797529.00000075 3852288\n",
      "experiments/expTest8/p1s_perf12-p1f_perf24.hyp\n",
      "experiments/expTest8/p1s_perf12-p1f_perf6.hyp\n",
      "p1f_perf6 p1s_perf12\n",
      "3799099.9999963506 3838976\n",
      "experiments/expTest8/p1s_perf2-p1f_perf16.hyp\n",
      "experiments/expTest8/p1s_perf2-p1f_perf2.hyp\n",
      "experiments/expTest8/p1s_perf2-p1f_perf23.hyp\n",
      "experiments/expTest8/p1s_perf2-p1f_perf24.hyp\n",
      "experiments/expTest8/p1s_perf2-p1f_perf6.hyp\n",
      "experiments/expTest8/p1s_perf25-p1f_perf16.hyp\n",
      "p1f_perf16 p1s_perf25\n",
      "3888554.6666641505 3962880\n",
      "experiments/expTest8/p1s_perf25-p1f_perf2.hyp\n",
      "p1f_perf2 p1s_perf25\n",
      "3928012.66666305 4083712\n",
      "experiments/expTest8/p1s_perf25-p1f_perf23.hyp\n",
      "p1f_perf23 p1s_perf25\n",
      "3797529.00000075 3882496\n",
      "experiments/expTest8/p1s_perf25-p1f_perf24.hyp\n",
      "p1f_perf24 p1s_perf25\n",
      "3493643.6666648993 3522560\n",
      "p1f_perf24 p1s_perf25\n",
      "3991737.33333165 4077056\n",
      "experiments/expTest8/p1s_perf25-p1f_perf6.hyp\n",
      "p1f_perf6 p1s_perf25\n",
      "3799099.9999963506 3855872\n",
      "experiments/expTest8/p1s_perf3-p1f_perf16.hyp\n",
      "experiments/expTest8/p1s_perf3-p1f_perf2.hyp\n",
      "experiments/expTest8/p1s_perf3-p1f_perf23.hyp\n",
      "experiments/expTest8/p1s_perf3-p1f_perf24.hyp\n",
      "experiments/expTest8/p1s_perf3-p1f_perf6.hyp\n",
      "experiments/expTest8/p1s_perf9-p1f_perf16.hyp\n",
      "hop_length 512\n",
      "[0.95714286 0.91904762 0.80952381]\n",
      "[0.         0.16509837 0.29426861 0.39150271 0.47647562 0.55004277\n",
      " 0.60906758 0.65583119 0.6960365  0.72426575 0.75078415 0.77502139\n",
      " 0.8003992  0.82035928 0.8431708  0.85885372 0.87966923 0.90134018\n",
      " 0.91787853 0.93099515 0.94240091 0.95152552 0.95694326 0.96549758\n",
      " 0.97091531 0.9740519  0.97832906 0.98003992 0.98289136 0.98602794\n",
      " 0.98802395 0.9903051  0.99116054 0.99144568 0.99144568 0.99144568\n",
      " 0.99173082 0.99173082 0.99201597 0.99201597 0.99201597 0.99230111\n",
      " 0.99230111 0.99230111 0.99258626 0.99315654 0.99315654 0.99401198\n",
      " 0.99401198 0.99401198 0.99429712 0.99429712 0.99429712 0.99429712\n",
      " 0.99429712 0.99429712 0.99458226 0.99458226 0.99486741 0.99486741\n",
      " 0.9954377  0.9954377  0.9954377  0.9954377  0.9954377  0.9954377\n",
      " 0.9954377  0.9954377  0.99572284 0.99600798 0.99600798 0.99600798\n",
      " 0.99600798 0.99600798 0.99600798 0.99600798 0.99600798 0.99600798\n",
      " 0.99600798 0.99600798]\n"
     ]
    }
   ],
   "source": [
    "seg_accuracy, beat_accuracy, times = evaluateTF(\"experiments/expTest8\")"
   ]
  },
  {
   "cell_type": "markdown",
   "metadata": {},
   "source": [
    "# Evaluate Temporal DTW Using Inverse Time Function"
   ]
  },
  {
   "cell_type": "code",
   "execution_count": 1,
   "metadata": {
    "ExecuteTime": {
     "end_time": "2020-05-13T12:26:53.090709Z",
     "start_time": "2020-05-13T12:26:53.061933Z"
    }
   },
   "outputs": [],
   "source": [
    "def evalITF(piece_id,segment_id,orch_id,solo_id):\n",
    "    '''\n",
    "    Argument: identifying info for a solo segment and a reference audio\n",
    "    Return:   a list consisted of difference in seconds \n",
    "              between prediction and ground truth \n",
    "    '''\n",
    "    query_len = .5\n",
    "    \n",
    "    diff_ls = []\n",
    "    \n",
    "    time_signature = [2,4,4,4]\n",
    "    \n",
    "    segment_info = queryInfo['p'+str(piece_id+1)+'s']\n",
    "    segment = []\n",
    "    for raw_seg in segment_info:\n",
    "        start, end = raw_seg[1:raw_seg.index(\",\")], raw_seg[raw_seg.index(\",\")+1:-1]\n",
    "        segment.append([start,end])\n",
    "    \n",
    "    start, end = segment[segment_id]\n",
    "    query_list = []\n",
    "    query_index = start\n",
    "    while query_index != end:            \n",
    "        query_list.append(query_index)\n",
    "        measure = int(query_index[:query_index.index('.')])\n",
    "        beat = int(query_index[query_index.index('.')+1:])\n",
    "        if beat == time_signature[piece_id]:\n",
    "            beat = 1\n",
    "            measure+=1\n",
    "            query_index = str(measure)+\".\"+str(beat)\n",
    "        else:\n",
    "            beat+=1\n",
    "            query_index = str(measure)+\".\"+str(beat)\n",
    "            query_list.append(query_index)\n",
    "    \n",
    "    \n",
    "    ref_audio,solo_audio = audioFiles[orch_id],audioFiles[solo_id][segment_id]\n",
    "    \n",
    "    first_query = query_list[0]\n",
    "    \n",
    "    orch_time_data,solo_time_data = timeData[orch_id],timeData[solo_id]\n",
    "    \n",
    "    orch_start_time, solo_start_time = orch_time_data[first_query], solo_time_data[first_query]\n",
    "    orch_end_time = orch_time_data[query_list[-1]]\n",
    "    est_ref_start_time, est_ref_end_time = max(orch_start_time - 1,0),orch_end_time+1\n",
    "    \n",
    "    tDTW = temporalDTW(ref_audio)\n",
    "    tDTW.newSeg(est_ref_start_time, est_ref_end_time)\n",
    "    \n",
    "    itf_ls = []\n",
    "    \n",
    "    for query_sec in range(0, len(solo_audio), int(query_len*sr) ):\n",
    "        \n",
    "\n",
    "        \n",
    "        input_audio = solo_audio[int(query_sec):int(query_sec+query_len*sr)]\n",
    "        \n",
    "        if len(input_audio) < 1:\n",
    "            print(\"input audio too short\")\n",
    "        \n",
    "        #print(len(input_audio)/sr, orch_start_time)\n",
    "        \n",
    "        itf, wp = tDTW.align(input_audio)\n",
    "        \n",
    "        #return itf,wp\n",
    "        \n",
    "        itf_ls.extend(itf)\n",
    "        \n",
    "    itf_ls = np.array(itf_ls)\n",
    "    \n",
    "    #print(itf_ls.shape)\n",
    "    \n",
    "    duplicate_set = set()\n",
    "    \n",
    "\n",
    "    \n",
    "    for idx, query in enumerate(query_list):\n",
    "        solo_input_sec = solo_time_data[query] \n",
    "        orch_output_sec = orch_time_data[query]\n",
    "        \n",
    "        if math.isnan(solo_input_sec) or math.isnan(orch_output_sec):\n",
    "            continue\n",
    "        \n",
    "        solo_input_sec -=  solo_start_time\n",
    "        solo_input_idx = int(solo_input_sec * sr)\n",
    "        \n",
    "        ground_truth = orch_output_sec * sr\n",
    "        \n",
    "        if solo_input_sec in duplicate_set:\n",
    "            continue\n",
    "        else:\n",
    "            duplicate_set.add(solo_input_sec)\n",
    "    \n",
    "        if solo_input_idx >= len(itf_ls):\n",
    "            print(\"index too large\")\n",
    "            continue\n",
    "        \n",
    "        prediction = itf_ls[solo_input_idx]\n",
    "        \n",
    "\n",
    "        \n",
    "        diff =  ground_truth - prediction \n",
    "        \n",
    "        if (abs(diff/sr) > 1.2 and debug) or (abs(diff/sr)>5): \n",
    "            print( piece_id,segment_id,orch_id,solo_id, idx )\n",
    "            print(\"    \",diff/sr,\"    \", ground_truth/sr,prediction/sr)\n",
    "        \n",
    "        diff_ls.append(diff)\n",
    "        \n",
    "        #print(prediction/sr, ground_truth/sr, diff/sr,solo_input_sec)\n",
    "    \n",
    "    return diff_ls#, itf_ls"
   ]
  },
  {
   "cell_type": "code",
   "execution_count": null,
   "metadata": {},
   "outputs": [],
   "source": [
    "def evalITFAll(hypdir, restart=False):\n",
    "    '''\n",
    "    Argument: hydir: folder to store results\n",
    "              restart: can over write if True\n",
    "    '''\n",
    "    diff_ls = []\n",
    "    assignment = getAssignment(1)\n",
    "    for assignment_idx in range(len(assignment)):\n",
    "        \n",
    "        piece_id,segment_id,orch_id,solo_id = assignment[assignment_idx]\n",
    "        print(assignment_idx,piece_id,segment_id,orch_id,solo_id)\n",
    "        outfile = 'experiments/{}/{}-{}-{}.hyp'.format(hypdir, solo_id, orch_id,segment_id)\n",
    "        if os.path.exists(outfile) and not restart:\n",
    "            print(\"Skipped: {}\".format(outfile))\n",
    "            with open(outfile, 'rb') as f:\n",
    "                diff=pkl.load(f)\n",
    "            if len(diff)>1:\n",
    "                diff_ls.extend(np.array(diff))\n",
    "        else:\n",
    "            diff = evalITF(piece_id,segment_id,orch_id,solo_id)\n",
    "            writeToFile( solo_id, orch_id, segment_id,diff, hypdir)\n",
    "            if len(diff)>1:\n",
    "                diff_ls.extend(np.array(diff))\n",
    "        \n",
    "        if assignment_idx%10 == 0 :\n",
    "            print()\n",
    "            print()\n",
    "            diff_present = np.array(diff_ls).reshape((-1,))/sr\n",
    "            #errorTemplate = lambda tolerance: (np.sum(np.where(np.abs(diff_present)< float(tolerance), 1, 0)))/len(diff_present)\n",
    "            errorHalf = (np.sum(np.where(np.abs(diff_present)< .5, 1, 0)))/len(diff_present)\n",
    "            error1s = (np.sum(np.where(np.abs(diff_present)<1, 1, 0)))/len(diff_present)\n",
    "            error2s = (np.sum(np.where(np.abs(diff_present)< 2, 1, 0)))/len(diff_present)\n",
    "            print(\"result\",assignment_idx, assignment[assignment_idx])\n",
    "            print(errorHalf,error1s,error2s)\n",
    "            plt.plot(diff_present)\n",
    "            print()\n",
    "    diff_present = np.array(diff_ls).reshape((-1,))/sr\n",
    "    errorHalf = (np.sum(np.where(np.abs(diff_present)< .5, 1, 0)))/len(diff_present)\n",
    "    error1s = (np.sum(np.where(np.abs(diff_present)<1, 1, 0)))/len(diff_present)\n",
    "    error2s = (np.sum(np.where(np.abs(diff_present)< 2, 1, 0)))/len(diff_present)\n",
    "    print(\"result\",assignment_idx, assignment[assignment_idx])\n",
    "    print(errorHalf,error1s,error2s)\n",
    "    plt.plot(diff_present)\n",
    "    return diff_present"
   ]
  },
  {
   "cell_type": "markdown",
   "metadata": {},
   "source": [
    "# Plot Helpers"
   ]
  },
  {
   "cell_type": "code",
   "execution_count": 123,
   "metadata": {},
   "outputs": [
    {
     "data": {
      "text/plain": [
       "[<matplotlib.lines.Line2D at 0x7fa6157bec10>]"
      ]
     },
     "execution_count": 123,
     "metadata": {},
     "output_type": "execute_result"
    },
    {
     "data": {
      "image/png": "[encoded data removed]",
      "text/plain": [
       "<Figure size 432x288 with 1 Axes>"
      ]
     },
     "metadata": {
      "needs_background": "light"
     },
     "output_type": "display_data"
    }
   ],
   "source": [
    "plt.rcParams.update({'font.size': 15})\n",
    "plt.gca().set_yticklabels(['{:.0f}%'.format(x*100) for x in plt.gca().get_yticks()]) \n",
    "plt.xlabel('Hop Size (samples)', fontsize=20)\n",
    "plt.ylabel('Error', fontsize=20)\n",
    "plt.plot(x,y, linewidth=3)"
   ]
  },
  {
   "cell_type": "code",
   "execution_count": 22,
   "metadata": {
    "ExecuteTime": {
     "end_time": "2020-05-09T23:16:59.135440Z",
     "start_time": "2020-05-09T23:16:59.127404Z"
    }
   },
   "outputs": [],
   "source": [
    "beat_y = beat_accuracy\n",
    "beat_x = np.arange(0.05, 2, 0.05)"
   ]
  },
  {
   "cell_type": "code",
   "execution_count": 58,
   "metadata": {
    "ExecuteTime": {
     "end_time": "2020-05-09T23:17:32.926350Z",
     "start_time": "2020-05-09T23:17:32.785917Z"
    },
    "scrolled": true
   },
   "outputs": [
    {
     "data": {
      "text/plain": [
       "Text(0, 0.5, 'Error')"
      ]
     },
     "execution_count": 58,
     "metadata": {},
     "output_type": "execute_result"
    },
    {
     "data": {
      "image/png": "[encoded data removed]",
      "text/plain": [
       "<Figure size 432x288 with 1 Axes>"
      ]
     },
     "metadata": {
      "needs_background": "light"
     },
     "output_type": "display_data"
    }
   ],
   "source": [
    "x=np.arange(0.0, 2, 0.025)\n",
    "plt.rcParams.update({'font.size': 15})\n",
    "plt.gca().set_yticklabels(['{:.0f}%'.format(x*100) for x in plt.gca().get_yticks()]) \n",
    "plt.plot(x, 1-np.array(beat_accuracy), linewidth=3)\n",
    "plt.xticks(np.arange(min(x), max(x)+.1, 0.2))\n",
    "plt.xlabel('Error Tolerance(s)', fontsize=20)\n",
    "plt.ylabel('Error', fontsize=20)"
   ]
  },
  {
   "cell_type": "markdown",
   "metadata": {},
   "source": [
    "# Other"
   ]
  },
  {
   "cell_type": "code",
   "execution_count": 70,
   "metadata": {},
   "outputs": [
    {
     "data": {
      "text/plain": [
       "Text(0.5, 1.0, 'Sorted Solo Segment Lengths in Seconds')"
      ]
     },
     "execution_count": 70,
     "metadata": {},
     "output_type": "execute_result"
    },
    {
     "data": {
      "image/png": "[encoded data removed]",
      "text/plain": [
       "<Figure size 432x288 with 1 Axes>"
      ]
     },
     "metadata": {
      "needs_background": "light"
     },
     "output_type": "display_data"
    }
   ],
   "source": [
    "beats = {}\n",
    "for key in queryInfo:\n",
    "    if 's' in key:\n",
    "        data = queryInfo[key]\n",
    "        for segment in data:\n",
    "            beat1 = segment.split(\",\")[0][1:]\n",
    "            beat2 = segment.split(\",\")[1][:-1]\n",
    "            if key in beats:\n",
    "                beats[key].append((beat1,beat2))\n",
    "            else:\n",
    "                beats[key] = [(beat1,beat2)]\n",
    "times={}\n",
    "for key in timeData:\n",
    "    pieceName = key.split(\"_\")[0]\n",
    "    if 's' in pieceName:\n",
    "        for beat1, beat2 in beats[pieceName]:\n",
    "            t1 = timeData[key][beat1]\n",
    "            t2 = timeData[key][beat2]\n",
    "            if pieceName in times:\n",
    "                times[pieceName].append(t2-t1)\n",
    "            else:\n",
    "                times[pieceName]=[t2-t1]\n",
    "for key in times:\n",
    "    plt.scatter(np.arange(len(times[key])),sorted(times[key])[::-1], label = '{}'.format(key))\n",
    "plt.legend(loc=\"upper right\",fontsize = 14)\n",
    "plt.title(\"Sorted Solo Segment Lengths in Seconds\")"
   ]
  }
 ],
 "metadata": {
  "kernelspec": {
   "display_name": "Python 3",
   "language": "python",
   "name": "python3"
  },
  "language_info": {
   "codemirror_mode": {
    "name": "ipython",
    "version": 3
   },
   "file_extension": ".py",
   "mimetype": "text/x-python",
   "name": "python",
   "nbconvert_exporter": "python",
   "pygments_lexer": "ipython3",
   "version": "3.7.5"
  },
  "toc": {
   "base_numbering": 1,
   "nav_menu": {},
   "number_sections": true,
   "sideBar": true,
   "skip_h1_title": false,
   "title_cell": "Table of Contents",
   "title_sidebar": "Contents",
   "toc_cell": false,
   "toc_position": {},
   "toc_section_display": true,
   "toc_window_display": false
  }
 },
 "nbformat": 4,
 "nbformat_minor": 4
}
