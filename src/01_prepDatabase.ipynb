{
 "cells": [
  {
   "cell_type": "code",
   "execution_count": null,
   "metadata": {},
   "outputs": [],
   "source": [
    "from __future__ import unicode_literals\n",
    "import numpy as np\n",
    "import os\n",
    "import matplotlib\n",
    "import matplotlib.pyplot as plt\n",
    "import librosa as lb\n",
    "import librosa.display as lbd\n",
    "import IPython.display as ipd\n",
    "import scipy.signal as ss\n",
    "import scipy.spatial as sspat\n",
    "import scipy.fft as sfft\n",
    "import warnings\n",
    "import pickle as pkl\n",
    "import time\n",
    "%cd ../"
   ]
  },
  {
   "cell_type": "markdown",
   "metadata": {},
   "source": [
    "## Download Youtube Videos"
   ]
  },
  {
   "cell_type": "code",
   "execution_count": null,
   "metadata": {},
   "outputs": [],
   "source": [
    "download = False\n",
    "if download:\n",
    "\n",
    "    fname = \"data/links.txt\"\n",
    "\n",
    "    ydl_opts = {'format': 'bestaudio/best',\n",
    "                'postprocessors': [{'key': 'FFmpegExtractAudio','preferredcodec': 'wav','preferredquality': '192',}]}\n",
    "    count=1\n",
    "    with youtube_dl.YoutubeDL(ydl_opts) as ydl:\n",
    "        with open(fname, 'r') as f:\n",
    "            for line in f:\n",
    "                ydl.download([line])\n",
    "                print(count)\n",
    "                count+=1"
   ]
  },
  {
   "cell_type": "markdown",
   "metadata": {},
   "source": [
    "## Import Data"
   ]
  },
  {
   "cell_type": "code",
   "execution_count": null,
   "metadata": {},
   "outputs": [],
   "source": [
    "# Load in Segment and Piece Data\n",
    "queryInfo = {}\n",
    "with open(\"cfg/queryTemplate.txt\", 'r') as f:\n",
    "  for line in f:\n",
    "    data = line.split(\" \")\n",
    "    queryInfo[data[0]]=data[1]\n",
    "    queryInfo[data[2]]=[]\n",
    "    for i in range(3,len(data)):\n",
    "      queryInfo[data[2]].append(data[i].rstrip())\n",
    "with open (\"experiments/queryInfo.pkl\", 'wb') as f:\n",
    "    pkl.dump(queryInfo,f)"
   ]
  },
  {
   "cell_type": "code",
   "execution_count": null,
   "metadata": {},
   "outputs": [],
   "source": [
    "# File IDs\n",
    "fileIds = []\n",
    "with open(\"cfg/fileIds.txt\", 'r') as f:\n",
    "  for line in f:\n",
    "    fileIds.append(line.rstrip())\n",
    "with open (\"experiments/fileIds.pkl\", 'wb') as f:\n",
    "    pkl.dump(fileIds,f)"
   ]
  },
  {
   "cell_type": "code",
   "execution_count": null,
   "metadata": {},
   "outputs": [],
   "source": [
    "# Load time data\n",
    "timeData = {}\n",
    "for id in fileIds:\n",
    "  fname = \"data/aggregatedAnnotations/{}.aggregated.annot\".format(id)\n",
    "  timeData[id]={}\n",
    "  with open (fname, 'r') as f:\n",
    "    for line in f:\n",
    "     data = line.rstrip().split(\" \")[0].split(\"\\t\")\n",
    "     timeData[id][data[0]]=np.average([float(data[1]),float(data[2]),float(data[3])])\n",
    "with open (\"experiments/timeData.pkl\", 'wb') as f:\n",
    "    pkl.dump(timeData,f)"
   ]
  },
  {
   "cell_type": "code",
   "execution_count": null,
   "metadata": {},
   "outputs": [],
   "source": [
    "# Load Wav Files and Segments\n",
    "sr=22050\n",
    "audioFiles = {}\n",
    "for id in fileIds:\n",
    "  fname = \"data/Suzuki_Wav/{}.wav\".format(id)\n",
    "  audio, sr = lb.load(fname, sr)\n",
    "  if 's' in id:\n",
    "    segments = queryInfo[id.split(\"_\")[0]]\n",
    "    audioFiles[id]=[]\n",
    "    for segment in segments:\n",
    "      loc1 = segment.split(\",\")[0][1:]\n",
    "      loc2 = segment.split(\",\")[1][:-1]\n",
    "      time1 = int(np.round(timeData[id][loc1]*sr))\n",
    "      time2 = int(np.round(timeData[id][loc2]*sr))\n",
    "      audioFiles[id].append(audio[time1:time2])\n",
    "  else:\n",
    "    audioFiles[id]=audio\n",
    "with open (\"experiments/audioFiles.pkl\", 'wb') as f:\n",
    "    pkl.dump(audioFiles,f)"
   ]
  },
  {
   "cell_type": "code",
   "execution_count": null,
   "metadata": {},
   "outputs": [],
   "source": []
  }
 ],
 "metadata": {
  "kernelspec": {
   "display_name": "Python 3",
   "language": "python",
   "name": "python3"
  },
  "language_info": {
   "codemirror_mode": {
    "name": "ipython",
    "version": 3
   },
   "file_extension": ".py",
   "mimetype": "text/x-python",
   "name": "python",
   "nbconvert_exporter": "python",
   "pygments_lexer": "ipython3",
   "version": "3.7.6"
  }
 },
 "nbformat": 4,
 "nbformat_minor": 4
}
