{
 "cells": [
  {
   "cell_type": "code",
   "execution_count": 1,
   "metadata": {
    "colab": {},
    "colab_type": "code",
    "id": "t6Ui7ZaszLX1"
   },
   "outputs": [],
   "source": [
    "%matplotlib inline"
   ]
  },
  {
   "cell_type": "code",
   "execution_count": 22,
   "metadata": {
    "colab": {},
    "colab_type": "code",
    "id": "zkWMrHzuzMWn"
   },
   "outputs": [],
   "source": [
    "import numpy as np\n",
    "import os\n",
    "import matplotlib\n",
    "import matplotlib.pyplot as plt\n",
    "import librosa as lb\n",
    "import librosa.display as lbd\n",
    "import IPython.display as ipd\n",
    "import scipy.signal as ss\n",
    "import scipy.spatial as sspat\n",
    "import scipy.fft as sfft\n",
    "import warnings\n",
    "import pickle as pkl\n",
    "import time\n",
    "import multiprocessing"
   ]
  },
  {
   "cell_type": "code",
   "execution_count": 3,
   "metadata": {
    "colab": {
     "base_uri": "https://localhost:8080/",
     "height": 124
    },
    "colab_type": "code",
    "id": "FprPFPEazNp2",
    "outputId": "8d068457-f337-46c7-8472-3cfde22bf6ad"
   },
   "outputs": [
    {
     "name": "stdout",
     "output_type": "stream",
     "text": [
      "/mnt/c/Users/Daniel Yang/Desktop/Final_Project\n"
     ]
    }
   ],
   "source": [
    "%cd ../\n",
    "import CythonDTW\n",
    "import TSM_Import"
   ]
  },
  {
   "cell_type": "markdown",
   "metadata": {
    "colab_type": "text",
    "id": "SSsO4Cq5Xlg5"
   },
   "source": [
    "# Import Data"
   ]
  },
  {
   "cell_type": "code",
   "execution_count": 4,
   "metadata": {
    "colab": {
     "base_uri": "https://localhost:8080/",
     "height": 34
    },
    "colab_type": "code",
    "id": "QLdGRrm3bFtI",
    "outputId": "2188be5c-4b70-4d2e-e605-99d9f6255ff2"
   },
   "outputs": [],
   "source": [
    "fileId_path = \"experiments/fileIds.pkl\"\n",
    "queryInfo_path = \"experiments/queryInfo.pkl\"\n",
    "timeData_path = \"experiments/timeData.pkl\"\n",
    "audioFiles_path = \"experiments/audioFiles.pkl\"\n",
    "with open(fileId_path, 'rb') as f:\n",
    "    fileIds=pkl.load(f)\n",
    "with open(queryInfo_path, 'rb') as f:\n",
    "    queryInfo=pkl.load(f)\n",
    "with open(timeData_path, 'rb') as f:\n",
    "    timeData=pkl.load(f)\n",
    "with open(audioFiles_path, 'rb') as f:\n",
    "    audioFiles=pkl.load(f)"
   ]
  },
  {
   "cell_type": "markdown",
   "metadata": {
    "colab_type": "text",
    "id": "vVp-cLhWELVZ"
   },
   "source": [
    "## Feature Extraction"
   ]
  },
  {
   "cell_type": "code",
   "execution_count": 5,
   "metadata": {
    "colab": {},
    "colab_type": "code",
    "id": "hBJ1pk-LEKpT"
   },
   "outputs": [],
   "source": [
    "def getChromaFeatures(audio):\n",
    "  chroma = lb.feature.chroma_stft(audio, norm=2)\n",
    "  return chroma"
   ]
  },
  {
   "cell_type": "markdown",
   "metadata": {
    "colab_type": "text",
    "id": "0w0DPvEh2dTY"
   },
   "source": [
    "## Segmental DTW"
   ]
  },
  {
   "cell_type": "code",
   "execution_count": 6,
   "metadata": {
    "colab": {},
    "colab_type": "code",
    "id": "Iao4RmiUJRdV"
   },
   "outputs": [],
   "source": [
    "def getCostMatrices(queries, ref):\n",
    "  cost_matrices = []\n",
    "  for query_chroma in queries:\n",
    "    cost_matrices.append(sspat.distance.cdist(query_chroma.T, ref.T, metric='cosine'))\n",
    "  return cost_matrices\n"
   ]
  },
  {
   "cell_type": "code",
   "execution_count": 7,
   "metadata": {
    "colab": {},
    "colab_type": "code",
    "id": "jdQezKRpBDle"
   },
   "outputs": [],
   "source": [
    "def getAccumCostMatrix(cost_matrix):\n",
    "  steps = np.array([2, 1, 1, 2, 1, 1]).reshape((3,2))\n",
    "  weights = [2,1,1]\n",
    "  D = lb.sequence.dtw(C=cost_matrix, step_sizes_sigma=steps, weights_mul=weights, metric = 'cosine', subseq=True, backtrack=False)\n",
    "  return D"
   ]
  },
  {
   "cell_type": "code",
   "execution_count": 8,
   "metadata": {
    "colab": {},
    "colab_type": "code",
    "id": "PpjDD0Ox4u5F"
   },
   "outputs": [],
   "source": [
    "def generateSegmentCostMatrix(costMatrices):\n",
    "  frame_cost_matrix = []\n",
    "  for D in costMatrices:\n",
    "    cost = D[-1,:]\n",
    "    frame_cost_matrix.append(cost)\n",
    "  return frame_cost_matrix"
   ]
  },
  {
   "cell_type": "code",
   "execution_count": 9,
   "metadata": {
    "colab": {},
    "colab_type": "code",
    "id": "GsAJth4qSVtt"
   },
   "outputs": [],
   "source": [
    "def segmental_DTW(segmentCostMatrix, segment_lengths):\n",
    "  steps = [[0,1]]\n",
    "  weights = [0]\n",
    "  D, path = CythonDTW.globalDTW(segmentCostMatrix, steps, weights, segment_lengths)\n",
    "\n",
    "  return D, path"
   ]
  },
  {
   "cell_type": "code",
   "execution_count": 10,
   "metadata": {
    "colab": {},
    "colab_type": "code",
    "id": "LCeAFkpfxVs1"
   },
   "outputs": [],
   "source": [
    "def getPathEnds(global_path):\n",
    "  endpoints = []\n",
    "  for idx in range(1,len(global_path)):\n",
    "    if global_path[idx][0]!=global_path[idx-1][0]:\n",
    "      endpoints.append(global_path[idx])\n",
    "  endpoints.insert(0,global_path[0])\n",
    "  return endpoints"
   ]
  },
  {
   "cell_type": "markdown",
   "metadata": {
    "colab_type": "text",
    "id": "PvfvWvSZ16Mo"
   },
   "source": [
    "\n",
    "## TSM"
   ]
  },
  {
   "cell_type": "markdown",
   "metadata": {
    "colab_type": "text",
    "id": "ftLwqigzWmB8"
   },
   "source": [
    "### Other"
   ]
  },
  {
   "cell_type": "code",
   "execution_count": 11,
   "metadata": {
    "colab": {},
    "colab_type": "code",
    "id": "J3atVXVTHbt-"
   },
   "outputs": [],
   "source": [
    "def extrapolateTimeStretchFunction(local_paths, N):\n",
    "  new_stretch = []\n",
    "  k = 0\n",
    "  slope = 1\n",
    "  new_time = 0\n",
    "  counter = 0\n",
    "  for i in range(0,N):\n",
    "    if k<len(local_paths) and i >= local_paths[k][0][1]*512 and i <= local_paths[k][-1][1]*512:\n",
    "      path = local_paths[k]\n",
    "      if i == path[-1][1]*512:\n",
    "        k+=1\n",
    "        slope=1\n",
    "        counter = 0\n",
    "      elif i == path[counter][1]*512:\n",
    "        slope = (path[counter+1][1]-path[counter][1])/(path[counter+1][0]-path[counter][0])\n",
    "        counter+=1\n",
    "    else:\n",
    "      slope=1\n",
    "    new_time+=slope\n",
    "    new_stretch.append(int(new_time))\n",
    "  return new_stretch"
   ]
  },
  {
   "cell_type": "code",
   "execution_count": 12,
   "metadata": {
    "colab": {},
    "colab_type": "code",
    "id": "-g9vAN8sHcju"
   },
   "outputs": [],
   "source": [
    "def getInverseTimeFunction(time_function):\n",
    "  inverse_function = []\n",
    "  counter = 0\n",
    "  for i in range(time_function[-1]+1):\n",
    "    while time_function[counter]<i:\n",
    "      counter+=1\n",
    "    inverse_function.append(counter)\n",
    "  return inverse_function"
   ]
  },
  {
   "cell_type": "markdown",
   "metadata": {
    "colab_type": "text",
    "id": "ocAE7pd3OPEN"
   },
   "source": [
    "## Process Queries"
   ]
  },
  {
   "cell_type": "code",
   "execution_count": 28,
   "metadata": {},
   "outputs": [],
   "source": [
    "def writeToFile(tf, segment_predict, solo_name, ref_name, hypdir, time_taken):\n",
    "    print(hypdir)\n",
    "    if hypdir != None:\n",
    "        experiment = \"experiments/{}\".format(hypdir)\n",
    "        if not os.path.exists(experiment):\n",
    "            os.mkdir(experiment)\n",
    "        fname = \"experiments/{}/{}-{}.hyp\".format(hypdir,solo_name,ref_name)\n",
    "        with open (fname, 'wb') as f:\n",
    "            pkl.dump((solo_name, ref_name, tf, segment_predict, time_taken),f)"
   ]
  },
  {
   "cell_type": "code",
   "execution_count": 29,
   "metadata": {
    "colab": {},
    "colab_type": "code",
    "id": "rXCVFpAoIbRu"
   },
   "outputs": [],
   "source": [
    "def processQuery(solo_name, ref_name, sr=22050, visualize=False, hypdir = None):\n",
    "  print(\"Processing solo {}, Accompaniment {}\".format(solo_name, ref_name))\n",
    "  warnings.filterwarnings(\"ignore\", category=DeprecationWarning)\n",
    "  start_time = time.time()\n",
    "\n",
    "  solo_segments = audioFiles[solo_name]\n",
    "  ref_audio = audioFiles[ref_name]\n",
    "\n",
    "  # Calculate L2-Normalized Chromas\n",
    "  solo_chromas = []\n",
    "  segment_lengths = []\n",
    "  ref_chroma = getChromaFeatures(ref_audio)\n",
    "  for i in solo_segments:\n",
    "    solo_chromas.append(getChromaFeatures(i))\n",
    "    segment_lengths.append(solo_chromas[-1].shape[1])\n",
    "\n",
    "  # Frame-Level DTW\n",
    "  frame_costs = []\n",
    "  cost_matrices = getCostMatrices(solo_chromas, ref_chroma)\n",
    "  \n",
    "\n",
    "  accum_costs = []\n",
    "  for C in cost_matrices:\n",
    "    D = getAccumCostMatrix(C)\n",
    "    accum_costs.append(D)\n",
    "  \n",
    "  # Segment-Level DTW\n",
    "  segment_cost = np.array(generateSegmentCostMatrix(accum_costs))\n",
    "  D, path = segmental_DTW(segment_cost, segment_lengths)\n",
    "  pathEnds = getPathEnds(path)[::-1]\n",
    "  if visualize:\n",
    "      lbd.specshow(D, x_axis='frames', y_axis='frames')\n",
    "      x = [i[0] for i in path]\n",
    "      y = [i[1] for i in path]\n",
    "      plt.plot(y, x, label='Optimal path', color='y')\n",
    "      keys = queryInfo['p1s']\n",
    "      samples = []\n",
    "      for idx,key in enumerate(keys):\n",
    "          i = key.split(',')[1][:-1]\n",
    "          plot_time = timeData['p1f_perf16'][i]\n",
    "          sample = np.round(plot_time*sr/512)\n",
    "          plt.plot(int(sample), idx, marker=\".\", markersize=16)\n",
    "\n",
    "\n",
    "        \n",
    "  # Local Backtraces\n",
    "  local_paths = []\n",
    "  segment_predict = []\n",
    "  for idx, C in enumerate(cost_matrices):\n",
    "    local_path = list(CythonDTW.local_backtrace(accum_costs[idx],C,pathEnds[idx][1]))[::-1]\n",
    "    local_paths.append(local_path)\n",
    "    segment_predict.append((local_path[0][1],pathEnds[idx][1]))\n",
    "    # if idx==0:\n",
    "    #   lbd.specshow(accum_costs[idx], x_axis='frames', y_axis='frames')\n",
    "    #   x = [i[0] for i in local_path]\n",
    "    #   y = [i[1] for i in local_path]\n",
    "    #   plt.plot(y,x, label='Optimal path', color='y')\n",
    "\n",
    "    \n",
    "  \n",
    "  # TSM\n",
    "\n",
    "  time_function = extrapolateTimeStretchFunction(local_paths, len(ref_audio))\n",
    "  time_taken = time.time()-start_time\n",
    "  print(\"Took {} seconds\".format(time_taken))\n",
    "  writeToFile(time_function, segment_predict, solo_name, ref_name, hypdir, time_taken)\n",
    "  return time_function\n"
   ]
  },
  {
   "cell_type": "code",
   "execution_count": null,
   "metadata": {
    "colab": {},
    "colab_type": "code",
    "id": "uV641Pv1MWgi"
   },
   "outputs": [
    {
     "name": "stdout",
     "output_type": "stream",
     "text": [
      "Processing solo p1s_perf25, Accompaniment p1f_perf16\n"
     ]
    }
   ],
   "source": [
    "solo_name, ref_name = 'p1s_perf25', 'p1f_perf16'\n",
    "time_function = processQuery(solo_name, ref_name, visualize=True, hypdir=\"debug\")"
   ]
  },
  {
   "cell_type": "code",
   "execution_count": null,
   "metadata": {},
   "outputs": [],
   "source": [
    "# Process all queries\n",
    "multiprocess = False\n",
    "hypdir = \"debug\"\n",
    "solo = {}\n",
    "accompaniment = {}\n",
    "for fileId in fileIds:\n",
    "    pieceNum = fileId.split(\"_\")[0]\n",
    "    if 's' in fileId:\n",
    "        if not pieceNum in solo.keys():\n",
    "            solo[pieceNum] = [fileId]\n",
    "        else:\n",
    "            solo[pieceNum].append(fileId)\n",
    "    if 'f' in fileId:\n",
    "        if not pieceNum in accompaniment.keys():\n",
    "            accompaniment[pieceNum] = [fileId]\n",
    "        else:\n",
    "            accompaniment[pieceNum].append(fileId)\n",
    "inputs = []\n",
    "for piece in solo.keys():\n",
    "    soloPieces = solo[piece]\n",
    "    refPieces = accompaniment[piece[:-1]+'f']\n",
    "    for i in soloPieces:\n",
    "        for j in refPieces:\n",
    "            inputs.append([i,j,False, hypdir])\n",
    "\n",
    "if multiprocess: \n",
    "    n_cores = multiprocessing.cpu_count()-1\n",
    "    pool = multiprocessing.Pool(processes=n_cores)\n",
    "    outputs = list(pool.starmap(processQuery, inputs))\n",
    "else:\n",
    "    for i in inputs:\n",
    "        processQuery(i[0], i[1], i[2], i[3])"
   ]
  },
  {
   "cell_type": "markdown",
   "metadata": {},
   "source": [
    "## Analysis"
   ]
  },
  {
   "cell_type": "code",
   "execution_count": 17,
   "metadata": {},
   "outputs": [
    {
     "data": {
      "text/plain": [
       "[<matplotlib.lines.Line2D at 0x7ff3af5112d0>]"
      ]
     },
     "execution_count": 17,
     "metadata": {},
     "output_type": "execute_result"
    },
    {
     "data": {
      "image/png": "[encoded data removed]",
      "text/plain": [
       "<Figure size 432x288 with 1 Axes>"
      ]
     },
     "metadata": {
      "needs_background": "light"
     },
     "output_type": "display_data"
    }
   ],
   "source": [
    "inverse_tf = getInverseTimeFunction(time_function)\n",
    "plt.plot(inverse_tf)"
   ]
  },
  {
   "cell_type": "code",
   "execution_count": 30,
   "metadata": {
    "colab": {
     "base_uri": "https://localhost:8080/",
     "height": 191
    },
    "colab_type": "code",
    "id": "sKs8ZY2RHQ_q",
    "outputId": "1ffd8de6-41f9-4c5e-f8d3-3d139dba91e9"
   },
   "outputs": [
    {
     "name": "stderr",
     "output_type": "stream",
     "text": [
      "/mnt/c/Users/Daniel Yang/Desktop/Final_Project/src/TSM_Import.py:127: ComplexWarning: Casting complex values to real discards the imaginary part\n",
      "  spectrogram[:,index]= spec\n"
     ]
    },
    {
     "name": "stdout",
     "output_type": "stream",
     "text": [
      "w nom (1025, 1) hop (7591,) S (1025, 7591) analysis_instances (7592,) S[0] (7591,)\n"
     ]
    }
   ],
   "source": [
    "ref_audio = audioFiles['p1f_perf23']\n",
    "new_audio = TSM_Import.phase_vocoder(ref_audio,inverse_tf)"
   ]
  },
  {
   "cell_type": "code",
   "execution_count": 31,
   "metadata": {
    "colab": {
     "base_uri": "https://localhost:8080/",
     "height": 61
    },
    "colab_type": "code",
    "id": "mZRf9u-DEeHR",
    "outputId": "3af2e56f-af3f-4856-923c-428cf152a1c1"
   },
   "outputs": [
    {
     "ename": "NameError",
     "evalue": "name 'sr' is not defined",
     "output_type": "error",
     "traceback": [
      "\u001b[0;31m---------------------------------------------------------------------------\u001b[0m",
      "\u001b[0;31mNameError\u001b[0m                                 Traceback (most recent call last)",
      "\u001b[0;32m<ipython-input-31-17a63b7074d4>\u001b[0m in \u001b[0;36m<module>\u001b[0;34m\u001b[0m\n\u001b[0;32m----> 1\u001b[0;31m \u001b[0mipd\u001b[0m\u001b[0;34m.\u001b[0m\u001b[0mAudio\u001b[0m\u001b[0;34m(\u001b[0m\u001b[0mref_audio\u001b[0m\u001b[0;34m,\u001b[0m \u001b[0mrate\u001b[0m \u001b[0;34m=\u001b[0m \u001b[0msr\u001b[0m\u001b[0;34m)\u001b[0m\u001b[0;34m\u001b[0m\u001b[0;34m\u001b[0m\u001b[0m\n\u001b[0m",
      "\u001b[0;31mNameError\u001b[0m: name 'sr' is not defined"
     ]
    }
   ],
   "source": [
    "ipd.Audio(ref_audio, rate = sr)"
   ]
  },
  {
   "cell_type": "code",
   "execution_count": null,
   "metadata": {
    "colab": {
     "base_uri": "https://localhost:8080/",
     "height": 61
    },
    "colab_type": "code",
    "id": "vz2ONLQy-0k5",
    "outputId": "8e0c0bb0-4806-4c85-91d6-f674a25276d8"
   },
   "outputs": [],
   "source": [
    "ipd.Audio(new_audio, rate = sr)"
   ]
  },
  {
   "cell_type": "markdown",
   "metadata": {
    "colab_type": "text",
    "id": "fmCS_7fRQNkg"
   },
   "source": []
  }
 ],
 "metadata": {
  "colab": {
   "collapsed_sections": [],
   "machine_shape": "hm",
   "name": "SegmentalDTW.ipynb",
   "provenance": [],
   "toc_visible": true
  },
  "kernelspec": {
   "display_name": "Python 3",
   "language": "python",
   "name": "python3"
  },
  "language_info": {
   "codemirror_mode": {
    "name": "ipython",
    "version": 3
   },
   "file_extension": ".py",
   "mimetype": "text/x-python",
   "name": "python",
   "nbconvert_exporter": "python",
   "pygments_lexer": "ipython3",
   "version": "3.7.6"
  }
 },
 "nbformat": 4,
 "nbformat_minor": 1
}
